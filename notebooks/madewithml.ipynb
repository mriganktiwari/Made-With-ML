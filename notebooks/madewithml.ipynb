{
 "cells": [
  {
   "cell_type": "markdown",
   "metadata": {
    "id": "acbetMKBt825"
   },
   "source": [
    "<div align=\"center\">\n",
    "<h1><img width=\"30\" src=\"https://madewithml.com/static/images/rounded_logo.png\">&nbsp;<a href=\"https://madewithml.com/\">Made With ML</a></h1>\n",
    "    <h3>ML for Developers</h3>\n",
    "    Design · Develop · Deploy · Iterate\n",
    "</div>\n",
    "\n",
    "<br>\n",
    "\n",
    "<div align=\"center\">\n",
    "    <a target=\"_blank\" href=\"https://madewithml.com\"><img src=\"https://img.shields.io/badge/Subscribe-40K-brightgreen\"></a>&nbsp;\n",
    "    <a target=\"_blank\" href=\"https://github.com/GokuMohandas/MadeWithML\"><img src=\"https://img.shields.io/github/stars/GokuMohandas/MadeWithML.svg?style=social&label=Star\"></a>&nbsp;\n",
    "    <a target=\"_blank\" href=\"https://www.linkedin.com/in/goku\"><img src=\"https://img.shields.io/badge/style--5eba00.svg?label=LinkedIn&logo=linkedin&style=social\"></a>&nbsp;\n",
    "    <a target=\"_blank\" href=\"https://twitter.com/GokuMohandas\"><img src=\"https://img.shields.io/twitter/follow/GokuMohandas.svg?label=Follow&style=social\"></a>\n",
    "    <br>\n",
    "    🔥&nbsp; Among the <a href=\"https://github.com/GokuMohandas/MadeWithML\" target=\"_blank\">top ML</a> repositories on GitHub\n",
    "</div>\n",
    "\n",
    "<br>\n",
    "<hr>"
   ]
  },
  {
   "cell_type": "markdown",
   "metadata": {
    "id": "oh-HuNfDrPg0"
   },
   "source": [
    "This notebooks contains the code for the 🔢&nbsp; Data and 📈&nbsp; Modeling lessons. After this proof of concept (PoC), we'll be moving all of this code to Python scripts to serve our application to production. Follow the accompanying [lessons](https://madewithml.com/) along with the code here to develop a deeper understanding of all the concepts."
   ]
  },
  {
   "cell_type": "markdown",
   "metadata": {
    "id": "XTNsIiUrqoJW"
   },
   "source": [
    "<div align=\"left\">\n",
    "<a target=\"_blank\" href=\"https://madewithml.com/\"><img src=\"https://img.shields.io/badge/📖 Read-lessons-9cf\"></a>&nbsp;\n",
    "<a href=\"https://github.com/GokuMohandas/Made-With-ML/blob/main/notebooks/madewithml.ipynb\" role=\"button\"><img src=\"https://img.shields.io/static/v1?label=&amp;message=View%20On%20GitHub&amp;color=586069&amp;logo=github&amp;labelColor=2f363d\"></a>&nbsp;\n",
    "<a href=\"https://colab.research.google.com/github/GokuMohandas/Made-With-ML/blob/main/notebooks/madewithml.ipynb\"><img src=\"https://colab.research.google.com/assets/colab-badge.svg\" alt=\"Open In Colab\"></a>\n",
    "</div>"
   ]
  },
  {
   "cell_type": "markdown",
   "metadata": {
    "tags": []
   },
   "source": [
    "# 🛠️&nbsp; Setup"
   ]
  },
  {
   "cell_type": "markdown",
   "metadata": {},
   "source": [
    "We'll be using [Ray](https://ray.io) to develop our application using distributed workloads."
   ]
  },
  {
   "cell_type": "code",
   "execution_count": 1,
   "metadata": {
    "tags": []
   },
   "outputs": [],
   "source": [
    "import ray"
   ]
  },
  {
   "cell_type": "code",
   "execution_count": 2,
   "metadata": {
    "tags": []
   },
   "outputs": [
    {
     "name": "stderr",
     "output_type": "stream",
     "text": [
      "2023-09-08 22:22:38,284\tINFO worker.py:1612 -- Started a local Ray instance. View the dashboard at \u001b[1m\u001b[32m127.0.0.1:8265 \u001b[39m\u001b[22m\n"
     ]
    },
    {
     "data": {
      "application/vnd.jupyter.widget-view+json": {
       "model_id": "7aaa2bb12a50406eaf95b1f37330444d",
       "version_major": 2,
       "version_minor": 0
      },
      "text/html": [
       "<div class=\"lm-Widget p-Widget lm-Panel p-Panel jp-Cell-outputWrapper\">\n",
       "    <div style=\"margin-left: 50px;display: flex;flex-direction: row;align-items: center\">\n",
       "        <div class=\"jp-RenderedHTMLCommon\" style=\"display: flex; flex-direction: row;\">\n",
       "  <svg viewBox=\"0 0 567 224\" fill=\"none\" xmlns=\"http://www.w3.org/2000/svg\" style=\"height: 3em;\">\n",
       "    <g clip-path=\"url(#clip0_4338_178347)\">\n",
       "        <path d=\"M341.29 165.561H355.29L330.13 129.051C345.63 123.991 354.21 112.051 354.21 94.2307C354.21 71.3707 338.72 58.1807 311.88 58.1807H271V165.561H283.27V131.661H311.8C314.25 131.661 316.71 131.501 319.01 131.351L341.25 165.561H341.29ZM283.29 119.851V70.0007H311.82C331.3 70.0007 342.34 78.2907 342.34 94.5507C342.34 111.271 331.34 119.861 311.82 119.861L283.29 119.851ZM451.4 138.411L463.4 165.561H476.74L428.74 58.1807H416L367.83 165.561H380.83L392.83 138.411H451.4ZM446.19 126.601H398L422 72.1407L446.24 126.601H446.19ZM526.11 128.741L566.91 58.1807H554.35L519.99 114.181L485.17 58.1807H472.44L514.01 129.181V165.541H526.13V128.741H526.11Z\" fill=\"var(--jp-ui-font-color0)\"/>\n",
       "        <path d=\"M82.35 104.44C84.0187 97.8827 87.8248 92.0678 93.1671 87.9146C98.5094 83.7614 105.083 81.5067 111.85 81.5067C118.617 81.5067 125.191 83.7614 130.533 87.9146C135.875 92.0678 139.681 97.8827 141.35 104.44H163.75C164.476 101.562 165.622 98.8057 167.15 96.2605L127.45 56.5605C121.071 60.3522 113.526 61.6823 106.235 60.3005C98.9443 58.9187 92.4094 54.9203 87.8602 49.0574C83.3109 43.1946 81.0609 35.8714 81.5332 28.4656C82.0056 21.0599 85.1679 14.0819 90.4252 8.8446C95.6824 3.60726 102.672 0.471508 110.08 0.0272655C117.487 -0.416977 124.802 1.86091 130.647 6.4324C136.493 11.0039 140.467 17.5539 141.821 24.8501C143.175 32.1463 141.816 39.6859 138 46.0505L177.69 85.7505C182.31 82.9877 187.58 81.4995 192.962 81.4375C198.345 81.3755 203.648 82.742 208.33 85.3976C213.012 88.0532 216.907 91.9029 219.616 96.5544C222.326 101.206 223.753 106.492 223.753 111.875C223.753 117.258 222.326 122.545 219.616 127.197C216.907 131.848 213.012 135.698 208.33 138.353C203.648 141.009 198.345 142.375 192.962 142.313C187.58 142.251 182.31 140.763 177.69 138L138 177.7C141.808 184.071 143.155 191.614 141.79 198.91C140.424 206.205 136.44 212.75 130.585 217.313C124.731 221.875 117.412 224.141 110.004 223.683C102.596 223.226 95.6103 220.077 90.3621 214.828C85.1139 209.58 81.9647 202.595 81.5072 195.187C81.0497 187.779 83.3154 180.459 87.878 174.605C92.4405 168.751 98.9853 164.766 106.281 163.401C113.576 162.035 121.119 163.383 127.49 167.19L167.19 127.49C165.664 124.941 164.518 122.182 163.79 119.3H141.39C139.721 125.858 135.915 131.673 130.573 135.826C125.231 139.98 118.657 142.234 111.89 142.234C105.123 142.234 98.5494 139.98 93.2071 135.826C87.8648 131.673 84.0587 125.858 82.39 119.3H60C58.1878 126.495 53.8086 132.78 47.6863 136.971C41.5641 141.163 34.1211 142.972 26.7579 142.059C19.3947 141.146 12.6191 137.574 7.70605 132.014C2.79302 126.454 0.0813599 119.29 0.0813599 111.87C0.0813599 104.451 2.79302 97.2871 7.70605 91.7272C12.6191 86.1673 19.3947 82.5947 26.7579 81.6817C34.1211 80.7686 41.5641 82.5781 47.6863 86.7696C53.8086 90.9611 58.1878 97.2456 60 104.44H82.35ZM100.86 204.32C103.407 206.868 106.759 208.453 110.345 208.806C113.93 209.159 117.527 208.258 120.522 206.256C123.517 204.254 125.725 201.276 126.771 197.828C127.816 194.38 127.633 190.677 126.253 187.349C124.874 184.021 122.383 181.274 119.205 179.577C116.027 177.88 112.359 177.337 108.826 178.042C105.293 178.746 102.113 180.654 99.8291 183.44C97.5451 186.226 96.2979 189.718 96.3 193.32C96.2985 195.364 96.7006 197.388 97.4831 199.275C98.2656 201.163 99.4132 202.877 100.86 204.32ZM204.32 122.88C206.868 120.333 208.453 116.981 208.806 113.396C209.159 109.811 208.258 106.214 206.256 103.219C204.254 100.223 201.275 98.0151 197.827 96.97C194.38 95.9249 190.676 96.1077 187.348 97.4873C184.02 98.8669 181.274 101.358 179.577 104.536C177.879 107.714 177.337 111.382 178.041 114.915C178.746 118.448 180.653 121.627 183.439 123.911C186.226 126.195 189.717 127.443 193.32 127.44C195.364 127.443 197.388 127.042 199.275 126.259C201.163 125.476 202.878 124.328 204.32 122.88ZM122.88 19.4205C120.333 16.8729 116.981 15.2876 113.395 14.9347C109.81 14.5817 106.213 15.483 103.218 17.4849C100.223 19.4868 98.0146 22.4654 96.9696 25.9131C95.9245 29.3608 96.1073 33.0642 97.4869 36.3922C98.8665 39.7202 101.358 42.4668 104.535 44.1639C107.713 45.861 111.381 46.4036 114.914 45.6992C118.447 44.9949 121.627 43.0871 123.911 40.301C126.195 37.515 127.442 34.0231 127.44 30.4205C127.44 28.3772 127.038 26.3539 126.255 24.4664C125.473 22.5788 124.326 20.8642 122.88 19.4205ZM19.42 100.86C16.8725 103.408 15.2872 106.76 14.9342 110.345C14.5813 113.93 15.4826 117.527 17.4844 120.522C19.4863 123.518 22.4649 125.726 25.9127 126.771C29.3604 127.816 33.0638 127.633 36.3918 126.254C39.7198 124.874 42.4664 122.383 44.1635 119.205C45.8606 116.027 46.4032 112.359 45.6988 108.826C44.9944 105.293 43.0866 102.114 40.3006 99.8296C37.5145 97.5455 34.0227 96.2983 30.42 96.3005C26.2938 96.3018 22.337 97.9421 19.42 100.86ZM100.86 100.86C98.3125 103.408 96.7272 106.76 96.3742 110.345C96.0213 113.93 96.9226 117.527 98.9244 120.522C100.926 123.518 103.905 125.726 107.353 126.771C110.8 127.816 114.504 127.633 117.832 126.254C121.16 124.874 123.906 122.383 125.604 119.205C127.301 116.027 127.843 112.359 127.139 108.826C126.434 105.293 124.527 102.114 121.741 99.8296C118.955 97.5455 115.463 96.2983 111.86 96.3005C109.817 96.299 107.793 96.701 105.905 97.4835C104.018 98.2661 102.303 99.4136 100.86 100.86Z\" fill=\"#00AEEF\"/>\n",
       "    </g>\n",
       "    <defs>\n",
       "        <clipPath id=\"clip0_4338_178347\">\n",
       "            <rect width=\"566.93\" height=\"223.75\" fill=\"white\"/>\n",
       "        </clipPath>\n",
       "    </defs>\n",
       "  </svg>\n",
       "</div>\n",
       "\n",
       "        <table class=\"jp-RenderedHTMLCommon\" style=\"border-collapse: collapse;color: var(--jp-ui-font-color1);font-size: var(--jp-ui-font-size1);\">\n",
       "    <tr>\n",
       "        <td style=\"text-align: left\"><b>Python version:</b></td>\n",
       "        <td style=\"text-align: left\"><b>3.10.12</b></td>\n",
       "    </tr>\n",
       "    <tr>\n",
       "        <td style=\"text-align: left\"><b>Ray version:</b></td>\n",
       "        <td style=\"text-align: left\"><b>2.6.0</b></td>\n",
       "    </tr>\n",
       "    <tr>\n",
       "    <td style=\"text-align: left\"><b>Dashboard:</b></td>\n",
       "    <td style=\"text-align: left\"><b><a href=\"http://127.0.0.1:8265\" target=\"_blank\">http://127.0.0.1:8265</a></b></td>\n",
       "</tr>\n",
       "\n",
       "</table>\n",
       "\n",
       "    </div>\n",
       "</div>\n"
      ],
      "text/plain": [
       "RayContext(dashboard_url='127.0.0.1:8265', python_version='3.10.12', ray_version='2.6.0', ray_commit='0db82e31e249eac614f7c8e7da1c4f8f05c9064a', protocol_version=None)"
      ]
     },
     "execution_count": 2,
     "metadata": {},
     "output_type": "execute_result"
    }
   ],
   "source": [
    "# Initialize Ray\n",
    "if ray.is_initialized():\n",
    "    ray.shutdown()\n",
    "ray.init()"
   ]
  },
  {
   "cell_type": "code",
   "execution_count": 3,
   "metadata": {
    "tags": []
   },
   "outputs": [
    {
     "data": {
      "text/plain": [
       "{'memory': 3164553216.0,\n",
       " 'object_store_memory': 1582276608.0,\n",
       " 'node:__internal_head__': 1.0,\n",
       " 'node:127.0.0.1': 1.0,\n",
       " 'CPU': 8.0}"
      ]
     },
     "execution_count": 3,
     "metadata": {},
     "output_type": "execute_result"
    }
   ],
   "source": [
    "ray.cluster_resources()"
   ]
  },
  {
   "cell_type": "markdown",
   "metadata": {},
   "source": [
    "These cluster resources only reflect our head node ([m5.2xlarge](https://instances.vantage.sh/aws/ec2/m5.2xlarge)). But recall in our [setup lesson](https://madewithml.com/courses/mlops/setup/) that our [compute configuration](https://madewithml.com/courses/mlops/setup/#compute) that we also added [g4dn.xlarge](https://instances.vantage.sh/aws/ec2/g4dn.xlarge) worker nodes (each has 1 GPU and 4 CPU) to our cluster. But because we set `min_workers=0`, our worker nodes will autoscale ( up to `max_workers`) as they're needed for specific workloads (ex. training). "
   ]
  },
  {
   "cell_type": "code",
   "execution_count": 5,
   "metadata": {
    "tags": []
   },
   "outputs": [],
   "source": [
    "# Workers (1 g4dn.xlarge)\n",
    "num_workers = 4\n",
    "resources_per_worker={\"CPU\": 4, \"GPU\": 0}"
   ]
  },
  {
   "cell_type": "markdown",
   "metadata": {},
   "source": [
    "If you are running this on a local laptop (no GPU), use the CPU count from `ray.cluster_resources()` to set your resources. For example if your machine has 10 CPUs:\n",
    "\n",
    "```python\n",
    "num_workers = 6  # prefer to do a few less than total available CPU (1 for head node + 1 for background tasks)\n",
    "resources_per_worker={\"CPU\": 1, \"GPU\": 0}\n",
    "```"
   ]
  },
  {
   "cell_type": "markdown",
   "metadata": {},
   "source": [
    "# Data"
   ]
  },
  {
   "cell_type": "markdown",
   "metadata": {
    "tags": []
   },
   "source": [
    "## 🔢&nbsp; Data ingestion"
   ]
  },
  {
   "cell_type": "code",
   "execution_count": 6,
   "metadata": {
    "tags": []
   },
   "outputs": [],
   "source": [
    "import pandas as pd"
   ]
  },
  {
   "cell_type": "code",
   "execution_count": 7,
   "metadata": {
    "tags": []
   },
   "outputs": [
    {
     "data": {
      "text/html": [
       "<div>\n",
       "<style scoped>\n",
       "    .dataframe tbody tr th:only-of-type {\n",
       "        vertical-align: middle;\n",
       "    }\n",
       "\n",
       "    .dataframe tbody tr th {\n",
       "        vertical-align: top;\n",
       "    }\n",
       "\n",
       "    .dataframe thead th {\n",
       "        text-align: right;\n",
       "    }\n",
       "</style>\n",
       "<table border=\"1\" class=\"dataframe\">\n",
       "  <thead>\n",
       "    <tr style=\"text-align: right;\">\n",
       "      <th></th>\n",
       "      <th>id</th>\n",
       "      <th>created_on</th>\n",
       "      <th>title</th>\n",
       "      <th>description</th>\n",
       "      <th>tag</th>\n",
       "    </tr>\n",
       "  </thead>\n",
       "  <tbody>\n",
       "    <tr>\n",
       "      <th>0</th>\n",
       "      <td>6</td>\n",
       "      <td>2020-02-20 06:43:18</td>\n",
       "      <td>Comparison between YOLO and RCNN on real world...</td>\n",
       "      <td>Bringing theory to experiment is cool. We can ...</td>\n",
       "      <td>computer-vision</td>\n",
       "    </tr>\n",
       "    <tr>\n",
       "      <th>1</th>\n",
       "      <td>7</td>\n",
       "      <td>2020-02-20 06:47:21</td>\n",
       "      <td>Show, Infer &amp; Tell: Contextual Inference for C...</td>\n",
       "      <td>The beauty of the work lies in the way it arch...</td>\n",
       "      <td>computer-vision</td>\n",
       "    </tr>\n",
       "    <tr>\n",
       "      <th>2</th>\n",
       "      <td>9</td>\n",
       "      <td>2020-02-24 16:24:45</td>\n",
       "      <td>Awesome Graph Classification</td>\n",
       "      <td>A collection of important graph embedding, cla...</td>\n",
       "      <td>other</td>\n",
       "    </tr>\n",
       "    <tr>\n",
       "      <th>3</th>\n",
       "      <td>15</td>\n",
       "      <td>2020-02-28 23:55:26</td>\n",
       "      <td>Awesome Monte Carlo Tree Search</td>\n",
       "      <td>A curated list of Monte Carlo tree search pape...</td>\n",
       "      <td>other</td>\n",
       "    </tr>\n",
       "    <tr>\n",
       "      <th>4</th>\n",
       "      <td>25</td>\n",
       "      <td>2020-03-07 23:04:31</td>\n",
       "      <td>AttentionWalk</td>\n",
       "      <td>A PyTorch Implementation of \"Watch Your Step: ...</td>\n",
       "      <td>other</td>\n",
       "    </tr>\n",
       "  </tbody>\n",
       "</table>\n",
       "</div>"
      ],
      "text/plain": [
       "   id           created_on                                              title   \n",
       "0   6  2020-02-20 06:43:18  Comparison between YOLO and RCNN on real world...  \\\n",
       "1   7  2020-02-20 06:47:21  Show, Infer & Tell: Contextual Inference for C...   \n",
       "2   9  2020-02-24 16:24:45                       Awesome Graph Classification   \n",
       "3  15  2020-02-28 23:55:26                    Awesome Monte Carlo Tree Search   \n",
       "4  25  2020-03-07 23:04:31                                      AttentionWalk   \n",
       "\n",
       "                                         description              tag  \n",
       "0  Bringing theory to experiment is cool. We can ...  computer-vision  \n",
       "1  The beauty of the work lies in the way it arch...  computer-vision  \n",
       "2  A collection of important graph embedding, cla...            other  \n",
       "3  A curated list of Monte Carlo tree search pape...            other  \n",
       "4  A PyTorch Implementation of \"Watch Your Step: ...            other  "
      ]
     },
     "execution_count": 7,
     "metadata": {},
     "output_type": "execute_result"
    }
   ],
   "source": [
    "# Data ingestion\n",
    "DATASET_LOC = \"https://raw.githubusercontent.com/GokuMohandas/Made-With-ML/main/datasets/dataset.csv\"\n",
    "df = pd.read_csv(DATASET_LOC)\n",
    "df.head()"
   ]
  },
  {
   "cell_type": "markdown",
   "metadata": {
    "tags": []
   },
   "source": [
    "## ✂️&nbsp; Data splitting"
   ]
  },
  {
   "cell_type": "code",
   "execution_count": 8,
   "metadata": {
    "tags": []
   },
   "outputs": [],
   "source": [
    "from sklearn.model_selection import train_test_split"
   ]
  },
  {
   "cell_type": "code",
   "execution_count": 9,
   "metadata": {
    "tags": []
   },
   "outputs": [
    {
     "data": {
      "text/plain": [
       "tag\n",
       "natural-language-processing    310\n",
       "computer-vision                285\n",
       "other                          106\n",
       "mlops                           63\n",
       "Name: count, dtype: int64"
      ]
     },
     "execution_count": 9,
     "metadata": {},
     "output_type": "execute_result"
    }
   ],
   "source": [
    "# Value counts\n",
    "df.tag.value_counts()"
   ]
  },
  {
   "cell_type": "code",
   "execution_count": 10,
   "metadata": {
    "tags": []
   },
   "outputs": [],
   "source": [
    "# Split dataset\n",
    "test_size = 0.2\n",
    "train_df, val_df = train_test_split(df, stratify=df.tag, test_size=test_size, random_state=1234)"
   ]
  },
  {
   "cell_type": "code",
   "execution_count": 11,
   "metadata": {
    "tags": []
   },
   "outputs": [
    {
     "data": {
      "text/plain": [
       "tag\n",
       "natural-language-processing    248\n",
       "computer-vision                228\n",
       "other                           85\n",
       "mlops                           50\n",
       "Name: count, dtype: int64"
      ]
     },
     "execution_count": 11,
     "metadata": {},
     "output_type": "execute_result"
    }
   ],
   "source": [
    "# Train value counts\n",
    "train_df.tag.value_counts()"
   ]
  },
  {
   "cell_type": "code",
   "execution_count": 12,
   "metadata": {
    "tags": []
   },
   "outputs": [
    {
     "data": {
      "text/plain": [
       "tag\n",
       "natural-language-processing    248\n",
       "computer-vision                228\n",
       "other                           84\n",
       "mlops                           52\n",
       "Name: count, dtype: int64"
      ]
     },
     "execution_count": 12,
     "metadata": {},
     "output_type": "execute_result"
    }
   ],
   "source": [
    "# Validation (adjusted) value counts\n",
    "val_df.tag.value_counts() * int((1-test_size) / test_size)"
   ]
  },
  {
   "cell_type": "markdown",
   "metadata": {
    "id": "WuCrsbxbNkSV"
   },
   "source": [
    "## 🔍&nbsp; Exploratory Data Analysis (EDA)"
   ]
  },
  {
   "cell_type": "markdown",
   "metadata": {
    "id": "eOJ3nlEgnSTJ"
   },
   "source": [
    "Exploratory data analysis to understand the signals and nuances of our dataset. It's a cyclical process that can be done at various points of our development process (before/after labeling, preprocessing, etc.) depending on how well the problem is defined."
   ]
  },
  {
   "cell_type": "code",
   "execution_count": 13,
   "metadata": {
    "id": "tHdQmqTBNkSV",
    "tags": []
   },
   "outputs": [],
   "source": [
    "from collections import Counter\n",
    "import matplotlib.pyplot as plt\n",
    "import seaborn as sns; sns.set_theme()\n",
    "import warnings; warnings.filterwarnings(\"ignore\")\n",
    "from wordcloud import WordCloud, STOPWORDS"
   ]
  },
  {
   "cell_type": "code",
   "execution_count": 14,
   "metadata": {
    "tags": []
   },
   "outputs": [
    {
     "data": {
      "text/plain": [
       "[('natural-language-processing', 310),\n",
       " ('computer-vision', 285),\n",
       " ('other', 106),\n",
       " ('mlops', 63)]"
      ]
     },
     "execution_count": 14,
     "metadata": {},
     "output_type": "execute_result"
    }
   ],
   "source": [
    "# Most common tags\n",
    "all_tags = Counter(df.tag)\n",
    "all_tags.most_common()"
   ]
  },
  {
   "cell_type": "code",
   "execution_count": 15,
   "metadata": {
    "colab": {
     "base_uri": "https://localhost:8080/"
    },
    "id": "Gl-E8d2HaCsx",
    "outputId": "22afb969-0335-42ec-b58b-c36ca1db8bf8",
    "tags": []
   },
   "outputs": [
    {
     "data": {
      "image/png": "[encoded data removed]",
      "text/plain": [
       "<Figure size 1000x300 with 1 Axes>"
      ]
     },
     "metadata": {},
     "output_type": "display_data"
    }
   ],
   "source": [
    "# Plot tag frequencies\n",
    "tags, tag_counts = zip(*all_tags.most_common())\n",
    "plt.figure(figsize=(10, 3))\n",
    "ax = sns.barplot(x=list(tags), y=list(tag_counts))\n",
    "ax.set_xticklabels(tags, rotation=0, fontsize=12)\n",
    "plt.title(\"Tag distribution\", fontsize=16)\n",
    "plt.ylabel(\"# of projects\", fontsize=14)\n",
    "plt.show()"
   ]
  },
  {
   "cell_type": "markdown",
   "metadata": {
    "id": "pfjVstecaFC5"
   },
   "source": [
    "> We'll address the [data imbalance](https://madewithml.com/courses/mlops/baselines#data-imbalance) after splitting into our train split and prior to training our model."
   ]
  },
  {
   "cell_type": "code",
   "execution_count": 16,
   "metadata": {
    "colab": {
     "base_uri": "https://localhost:8080/",
     "height": 335,
     "referenced_widgets": [
      "af9c5bab12c64dc396c28154ea13f516",
      "7d1b4a63fa924fa6b136204ce1e67a42",
      "795b443fc1834645937b199e1214fcc3",
      "ccc7456ad5484dd2b7ccdd62bbc27d0c",
      "53f5b6e055864bb19eadba0aa640668d",
      "8a9678ac8f3e4af49c02181ce0eb6241",
      "8c6ffc9537344c709b47a5acea0e3075"
     ]
    },
    "id": "NgMGuIQrNkSV",
    "outputId": "0e58055f-0482-4ae0-f6cf-e2a8c2a8552c",
    "tags": []
   },
   "outputs": [
    {
     "data": {
      "text/plain": [
       "<matplotlib.image.AxesImage at 0x14f6ff4c0>"
      ]
     },
     "execution_count": 16,
     "metadata": {},
     "output_type": "execute_result"
    },
    {
     "data": {
      "image/png": "[encoded data removed]",
      "text/plain": [
       "<Figure size 1000x300 with 1 Axes>"
      ]
     },
     "metadata": {},
     "output_type": "display_data"
    }
   ],
   "source": [
    "# Most frequent tokens for each tag\n",
    "tag=\"natural-language-processing\"\n",
    "plt.figure(figsize=(10, 3))\n",
    "subset = df[df.tag==tag]\n",
    "text = subset.title.values\n",
    "cloud = WordCloud(\n",
    "    stopwords=STOPWORDS, background_color=\"black\", collocations=False,\n",
    "    width=500, height=300).generate(\" \".join(text))\n",
    "plt.axis(\"off\")\n",
    "plt.imshow(cloud)"
   ]
  },
  {
   "cell_type": "markdown",
   "metadata": {
    "id": "b8ua3MFhrOaX"
   },
   "source": [
    "Looks like the `title` text feature has some good signal for the respective classes and matches our intuition. We can repeat this for the `description` text feature as well. This information will become useful when we decide how to use our features for modeling."
   ]
  },
  {
   "cell_type": "markdown",
   "metadata": {
    "id": "HFifXKl_eKsN"
   },
   "source": [
    "## ✨&nbsp; Data Preprocessing"
   ]
  },
  {
   "cell_type": "markdown",
   "metadata": {
    "id": "RxAZ1AmteRaD"
   },
   "source": [
    "Preprocessing the data via feature engineering, filtering and cleaning. Certain preprocessing steps are global (don't depend on our dataset, ex. lower casing text, removing stop words, etc.) and others are local (constructs are learned only from the training split, ex. vocabulary, standardization, etc.). For the local, dataset-dependent preprocessing steps, we want to ensure that we [split](https://madewithml.com/courses/mlops/splitting) the data first before preprocessing to avoid data leaks."
   ]
  },
  {
   "cell_type": "code",
   "execution_count": 17,
   "metadata": {
    "tags": []
   },
   "outputs": [],
   "source": [
    "import json\n",
    "import nltk\n",
    "from nltk.corpus import stopwords\n",
    "from nltk.stem import PorterStemmer\n",
    "import re"
   ]
  },
  {
   "cell_type": "markdown",
   "metadata": {
    "id": "6VgTwEQboTGc"
   },
   "source": [
    "### Feature engineering"
   ]
  },
  {
   "cell_type": "markdown",
   "metadata": {
    "id": "U_001GPyMZsC"
   },
   "source": [
    "We can combine existing input features to create new meaningful signal (helping the model learn). "
   ]
  },
  {
   "cell_type": "code",
   "execution_count": 18,
   "metadata": {
    "id": "3x1ldAFQNkSU",
    "tags": []
   },
   "outputs": [],
   "source": [
    "# Feature engineering\n",
    "df[\"text\"] = df.title + \" \" + df.description"
   ]
  },
  {
   "cell_type": "markdown",
   "metadata": {},
   "source": [
    "### Clean text"
   ]
  },
  {
   "cell_type": "code",
   "execution_count": 19,
   "metadata": {
    "colab": {
     "base_uri": "https://localhost:8080/"
    },
    "id": "VDXLH6QeLd0F",
    "outputId": "2202b045-1830-477a-94ad-85e648946319",
    "tags": []
   },
   "outputs": [
    {
     "name": "stderr",
     "output_type": "stream",
     "text": [
      "[nltk_data] Downloading package stopwords to\n",
      "[nltk_data]     /Users/mriganktiwari/nltk_data...\n",
      "[nltk_data]   Unzipping corpora/stopwords.zip.\n"
     ]
    }
   ],
   "source": [
    "nltk.download(\"stopwords\")\n",
    "STOPWORDS = stopwords.words(\"english\")"
   ]
  },
  {
   "cell_type": "code",
   "execution_count": 20,
   "metadata": {
    "id": "VfdWkkV8LlNR",
    "tags": []
   },
   "outputs": [],
   "source": [
    "def clean_text(text, stopwords=STOPWORDS):\n",
    "    \"\"\"Clean raw text string.\"\"\"\n",
    "    # Lower\n",
    "    text = text.lower()\n",
    "\n",
    "    # Remove stopwords\n",
    "    pattern = re.compile(r'\\b(' + r\"|\".join(stopwords) + r\")\\b\\s*\")\n",
    "    text = pattern.sub('', text)\n",
    "\n",
    "    # Spacing and filters\n",
    "    text = re.sub(r\"([!\\\"'#$%&()*\\+,-./:;<=>?@\\\\\\[\\]^_`{|}~])\", r\" \\1 \", text)  # add spacing\n",
    "    text = re.sub(\"[^A-Za-z0-9]+\", \" \", text)  # remove non alphanumeric chars\n",
    "    text = re.sub(\" +\", \" \", text)  # remove multiple spaces\n",
    "    text = text.strip()  # strip white space at the ends\n",
    "    text = re.sub(r\"http\\S+\", \"\", text)  #  remove links\n",
    "    \n",
    "    return text"
   ]
  },
  {
   "cell_type": "code",
   "execution_count": 21,
   "metadata": {
    "colab": {
     "base_uri": "https://localhost:8080/"
    },
    "id": "3LRaq0_5LpE4",
    "outputId": "4f7beaa6-6713-4e02-80a2-22474260f406",
    "tags": []
   },
   "outputs": [
    {
     "name": "stdout",
     "output_type": "stream",
     "text": [
      "Comparison between YOLO and RCNN on real world videos Bringing theory to experiment is cool. We can easily train models in colab and find the results in minutes.\n",
      "comparison yolo rcnn real world videos bringing theory experiment cool easily train models colab find results minutes\n"
     ]
    }
   ],
   "source": [
    "# Apply to dataframe\n",
    "original_df = df.copy()\n",
    "df.text = df.text.apply(clean_text)\n",
    "print (f\"{original_df.text.values[0]}\\n{df.text.values[0]}\")"
   ]
  },
  {
   "cell_type": "markdown",
   "metadata": {},
   "source": [
    "### Clean DataFrame"
   ]
  },
  {
   "cell_type": "code",
   "execution_count": 22,
   "metadata": {
    "tags": []
   },
   "outputs": [
    {
     "data": {
      "text/html": [
       "<div>\n",
       "<style scoped>\n",
       "    .dataframe tbody tr th:only-of-type {\n",
       "        vertical-align: middle;\n",
       "    }\n",
       "\n",
       "    .dataframe tbody tr th {\n",
       "        vertical-align: top;\n",
       "    }\n",
       "\n",
       "    .dataframe thead th {\n",
       "        text-align: right;\n",
       "    }\n",
       "</style>\n",
       "<table border=\"1\" class=\"dataframe\">\n",
       "  <thead>\n",
       "    <tr style=\"text-align: right;\">\n",
       "      <th></th>\n",
       "      <th>text</th>\n",
       "      <th>tag</th>\n",
       "    </tr>\n",
       "  </thead>\n",
       "  <tbody>\n",
       "    <tr>\n",
       "      <th>0</th>\n",
       "      <td>comparison yolo rcnn real world videos bringin...</td>\n",
       "      <td>computer-vision</td>\n",
       "    </tr>\n",
       "    <tr>\n",
       "      <th>1</th>\n",
       "      <td>show infer tell contextual inference creative ...</td>\n",
       "      <td>computer-vision</td>\n",
       "    </tr>\n",
       "    <tr>\n",
       "      <th>2</th>\n",
       "      <td>awesome graph classification collection import...</td>\n",
       "      <td>other</td>\n",
       "    </tr>\n",
       "    <tr>\n",
       "      <th>3</th>\n",
       "      <td>awesome monte carlo tree search curated list m...</td>\n",
       "      <td>other</td>\n",
       "    </tr>\n",
       "    <tr>\n",
       "      <th>4</th>\n",
       "      <td>attentionwalk pytorch implementation watch ste...</td>\n",
       "      <td>other</td>\n",
       "    </tr>\n",
       "  </tbody>\n",
       "</table>\n",
       "</div>"
      ],
      "text/plain": [
       "                                                text              tag\n",
       "0  comparison yolo rcnn real world videos bringin...  computer-vision\n",
       "1  show infer tell contextual inference creative ...  computer-vision\n",
       "2  awesome graph classification collection import...            other\n",
       "3  awesome monte carlo tree search curated list m...            other\n",
       "4  attentionwalk pytorch implementation watch ste...            other"
      ]
     },
     "execution_count": 22,
     "metadata": {},
     "output_type": "execute_result"
    }
   ],
   "source": [
    "# DataFrame cleanup\n",
    "df = df.drop(columns=[\"id\", \"created_on\", \"title\", \"description\"], errors=\"ignore\")  # drop cols\n",
    "df = df.dropna(subset=[\"tag\"])  # drop nulls\n",
    "df = df[[\"text\", \"tag\"]]  # rearrange cols\n",
    "df.head()"
   ]
  },
  {
   "cell_type": "markdown",
   "metadata": {},
   "source": [
    "### Label encoding"
   ]
  },
  {
   "cell_type": "markdown",
   "metadata": {},
   "source": [
    "We need to encode our data into numerical values so that our models can process them. We'll start by encoding our text labels into unique indices."
   ]
  },
  {
   "cell_type": "code",
   "execution_count": 23,
   "metadata": {
    "tags": []
   },
   "outputs": [
    {
     "data": {
      "text/plain": [
       "{'mlops': 0,\n",
       " 'natural-language-processing': 1,\n",
       " 'computer-vision': 2,\n",
       " 'other': 3}"
      ]
     },
     "execution_count": 23,
     "metadata": {},
     "output_type": "execute_result"
    }
   ],
   "source": [
    "# Label to index\n",
    "tags = train_df.tag.unique().tolist()\n",
    "num_classes = len(tags)\n",
    "class_to_index = {tag: i for i, tag in enumerate(tags)}\n",
    "class_to_index"
   ]
  },
  {
   "cell_type": "code",
   "execution_count": 24,
   "metadata": {
    "tags": []
   },
   "outputs": [
    {
     "data": {
      "text/html": [
       "<div>\n",
       "<style scoped>\n",
       "    .dataframe tbody tr th:only-of-type {\n",
       "        vertical-align: middle;\n",
       "    }\n",
       "\n",
       "    .dataframe tbody tr th {\n",
       "        vertical-align: top;\n",
       "    }\n",
       "\n",
       "    .dataframe thead th {\n",
       "        text-align: right;\n",
       "    }\n",
       "</style>\n",
       "<table border=\"1\" class=\"dataframe\">\n",
       "  <thead>\n",
       "    <tr style=\"text-align: right;\">\n",
       "      <th></th>\n",
       "      <th>text</th>\n",
       "      <th>tag</th>\n",
       "    </tr>\n",
       "  </thead>\n",
       "  <tbody>\n",
       "    <tr>\n",
       "      <th>0</th>\n",
       "      <td>comparison yolo rcnn real world videos bringin...</td>\n",
       "      <td>2</td>\n",
       "    </tr>\n",
       "    <tr>\n",
       "      <th>1</th>\n",
       "      <td>show infer tell contextual inference creative ...</td>\n",
       "      <td>2</td>\n",
       "    </tr>\n",
       "    <tr>\n",
       "      <th>2</th>\n",
       "      <td>awesome graph classification collection import...</td>\n",
       "      <td>3</td>\n",
       "    </tr>\n",
       "    <tr>\n",
       "      <th>3</th>\n",
       "      <td>awesome monte carlo tree search curated list m...</td>\n",
       "      <td>3</td>\n",
       "    </tr>\n",
       "    <tr>\n",
       "      <th>4</th>\n",
       "      <td>attentionwalk pytorch implementation watch ste...</td>\n",
       "      <td>3</td>\n",
       "    </tr>\n",
       "  </tbody>\n",
       "</table>\n",
       "</div>"
      ],
      "text/plain": [
       "                                                text  tag\n",
       "0  comparison yolo rcnn real world videos bringin...    2\n",
       "1  show infer tell contextual inference creative ...    2\n",
       "2  awesome graph classification collection import...    3\n",
       "3  awesome monte carlo tree search curated list m...    3\n",
       "4  attentionwalk pytorch implementation watch ste...    3"
      ]
     },
     "execution_count": 24,
     "metadata": {},
     "output_type": "execute_result"
    }
   ],
   "source": [
    "# Encode labels\n",
    "df[\"tag\"] = df[\"tag\"].map(class_to_index)\n",
    "df.head()"
   ]
  },
  {
   "cell_type": "code",
   "execution_count": 25,
   "metadata": {
    "tags": []
   },
   "outputs": [],
   "source": [
    "def decode(indices, index_to_class):\n",
    "    return [index_to_class[index] for index in indices]"
   ]
  },
  {
   "cell_type": "code",
   "execution_count": 26,
   "metadata": {
    "tags": []
   },
   "outputs": [
    {
     "data": {
      "text/plain": [
       "['computer-vision', 'computer-vision', 'other', 'other', 'other']"
      ]
     },
     "execution_count": 26,
     "metadata": {},
     "output_type": "execute_result"
    }
   ],
   "source": [
    "index_to_class = {v:k for k, v in class_to_index.items()}\n",
    "decode(df.head()[\"tag\"].values, index_to_class=index_to_class)"
   ]
  },
  {
   "cell_type": "markdown",
   "metadata": {},
   "source": [
    "### Tokenizer"
   ]
  },
  {
   "cell_type": "markdown",
   "metadata": {},
   "source": [
    "Next we'll encode our text as well. Instead of using a random dictionary, we'll use a [tokenizer](https://huggingface.co/allenai/scibert_scivocab_uncased/blob/main/vocab.txt) that was used for a pretrained LLM ([scibert](https://huggingface.co/allenai/scibert_scivocab_uncased)) to tokenize our text. We'll be fine-tuning this exact model later when we train our model."
   ]
  },
  {
   "cell_type": "code",
   "execution_count": 27,
   "metadata": {
    "tags": []
   },
   "outputs": [],
   "source": [
    "import numpy as np\n",
    "from transformers import BertTokenizer"
   ]
  },
  {
   "cell_type": "code",
   "execution_count": 28,
   "metadata": {
    "tags": []
   },
   "outputs": [
    {
     "data": {
      "application/vnd.jupyter.widget-view+json": {
       "model_id": "ba39759b9fbc43b6b248787131293f13",
       "version_major": 2,
       "version_minor": 0
      },
      "text/plain": [
       "Downloading (…)solve/main/vocab.txt:   0%|          | 0.00/228k [00:00<?, ?B/s]"
      ]
     },
     "metadata": {},
     "output_type": "display_data"
    },
    {
     "data": {
      "application/vnd.jupyter.widget-view+json": {
       "model_id": "9561574867a04a89b935fef4adbee8b1",
       "version_major": 2,
       "version_minor": 0
      },
      "text/plain": [
       "Downloading (…)lve/main/config.json:   0%|          | 0.00/385 [00:00<?, ?B/s]"
      ]
     },
     "metadata": {},
     "output_type": "display_data"
    },
    {
     "name": "stdout",
     "output_type": "stream",
     "text": [
      "input_ids: [[  102  2268  1904   190 29155   168  3267  2998   205   103]]\n",
      "attention_mask: [[1 1 1 1 1 1 1 1 1 1]]\n",
      "[CLS] transfer learning with transformers for text classification. [SEP]\n"
     ]
    }
   ],
   "source": [
    "# Bert tokenizer\n",
    "tokenizer = BertTokenizer.from_pretrained(\"allenai/scibert_scivocab_uncased\", return_dict=False)\n",
    "text = \"Transfer learning with transformers for text classification.\"\n",
    "encoded_inputs = tokenizer([text], return_tensors=\"np\", padding=\"longest\")  # pad to longest item in batch\n",
    "print (\"input_ids:\", encoded_inputs[\"input_ids\"])\n",
    "print (\"attention_mask:\", encoded_inputs[\"attention_mask\"])\n",
    "print (tokenizer.decode(encoded_inputs[\"input_ids\"][0]))"
   ]
  },
  {
   "cell_type": "code",
   "execution_count": 29,
   "metadata": {
    "tags": []
   },
   "outputs": [],
   "source": [
    "def tokenize(batch):\n",
    "    tokenizer = BertTokenizer.from_pretrained(\"allenai/scibert_scivocab_uncased\", return_dict=False)\n",
    "    encoded_inputs = tokenizer(batch[\"text\"].tolist(), return_tensors=\"np\", padding=\"longest\")\n",
    "    return dict(ids=encoded_inputs[\"input_ids\"], masks=encoded_inputs[\"attention_mask\"], targets=np.array(batch[\"tag\"]))"
   ]
  },
  {
   "cell_type": "code",
   "execution_count": 30,
   "metadata": {
    "tags": []
   },
   "outputs": [
    {
     "data": {
      "text/plain": [
       "{'ids': array([[  102,  2029,  1778,   609,  6446,  4857,  1332,  2399, 13572,\n",
       "         19125,  1983,  1954,  6240,  3717,  7434,  1262,   537,   201,\n",
       "          1040,   545,  4714,   103]]),\n",
       " 'masks': array([[1, 1, 1, 1, 1, 1, 1, 1, 1, 1, 1, 1, 1, 1, 1, 1, 1, 1, 1, 1, 1, 1]]),\n",
       " 'targets': array([2])}"
      ]
     },
     "execution_count": 30,
     "metadata": {},
     "output_type": "execute_result"
    }
   ],
   "source": [
    "# Tokenization\n",
    "tokenize(df.head(1))"
   ]
  },
  {
   "cell_type": "markdown",
   "metadata": {},
   "source": [
    "<hr>"
   ]
  },
  {
   "cell_type": "markdown",
   "metadata": {},
   "source": [
    "We'll combine all of our preprocessing steps into function:"
   ]
  },
  {
   "cell_type": "code",
   "execution_count": 31,
   "metadata": {
    "tags": []
   },
   "outputs": [],
   "source": [
    "def preprocess(df, class_to_index):\n",
    "    \"\"\"Preprocess the data.\"\"\"\n",
    "    df[\"text\"] = df.title + \" \" + df.description  # feature engineering\n",
    "    df[\"text\"] = df.text.apply(clean_text)  # clean text\n",
    "    df = df.drop(columns=[\"id\", \"created_on\", \"title\", \"description\"], errors=\"ignore\")  # clean dataframe\n",
    "    df = df[[\"text\", \"tag\"]]  # rearrange columns\n",
    "    df[\"tag\"] = df[\"tag\"].map(class_to_index)  # label encoding\n",
    "    outputs = tokenize(df)\n",
    "    return outputs"
   ]
  },
  {
   "cell_type": "code",
   "execution_count": 32,
   "metadata": {
    "tags": []
   },
   "outputs": [
    {
     "data": {
      "text/plain": [
       "{'ids': array([[  102,   856,   532, ...,     0,     0,     0],\n",
       "        [  102,  2177, 29155, ...,     0,     0,     0],\n",
       "        [  102,  2180,  3241, ...,     0,     0,     0],\n",
       "        ...,\n",
       "        [  102,   453,  2068, ...,  5730,   432,   103],\n",
       "        [  102, 11268,  1782, ...,     0,     0,     0],\n",
       "        [  102,  1596,   122, ...,     0,     0,     0]]),\n",
       " 'masks': array([[1, 1, 1, ..., 0, 0, 0],\n",
       "        [1, 1, 1, ..., 0, 0, 0],\n",
       "        [1, 1, 1, ..., 0, 0, 0],\n",
       "        ...,\n",
       "        [1, 1, 1, ..., 1, 1, 1],\n",
       "        [1, 1, 1, ..., 0, 0, 0],\n",
       "        [1, 1, 1, ..., 0, 0, 0]]),\n",
       " 'targets': array([0, 1, 1, 1, 1, 2, 1, 2, 3, 1, 2, 2, 1, 1, 2, 2, 2, 2, 1, 2, 0, 1,\n",
       "        1, 1, 1, 1, 2, 1, 2, 0, 3, 2, 0, 1, 1, 1, 1, 2, 1, 1, 0, 2, 3, 3,\n",
       "        3, 0, 2, 1, 3, 3, 1, 1, 1, 1, 2, 1, 2, 2, 2, 3, 2, 1, 1, 3, 1, 0,\n",
       "        1, 2, 2, 2, 3, 2, 3, 2, 3, 2, 1, 1, 3, 3, 3, 1, 1, 2, 3, 0, 1, 1,\n",
       "        1, 1, 3, 3, 0, 2, 3, 2, 2, 1, 1, 3, 2, 3, 1, 1, 1, 1, 2, 0, 0, 2,\n",
       "        1, 1, 2, 2, 1, 1, 0, 3, 1, 2, 2, 1, 0, 2, 3, 1, 3, 1, 2, 3, 1, 1,\n",
       "        3, 3, 2, 1, 1, 0, 1, 3, 1, 1, 2, 2, 0, 0, 2, 1, 1, 1, 2, 3, 2, 1,\n",
       "        1, 2, 0, 1, 1, 3, 2, 1, 1, 2, 1, 2, 3, 1, 2, 2, 1, 2, 1, 2, 1, 3,\n",
       "        2, 2, 0, 1, 2, 2, 1, 2, 2, 1, 3, 2, 2, 1, 2, 2, 3, 2, 1, 1, 1, 1,\n",
       "        2, 2, 2, 0, 2, 1, 0, 2, 1, 3, 1, 1, 1, 1, 2, 1, 3, 3, 2, 1, 0, 1,\n",
       "        2, 0, 2, 2, 3, 1, 1, 2, 1, 1, 1, 1, 1, 2, 1, 1, 2, 1, 2, 2, 1, 2,\n",
       "        0, 2, 2, 1, 1, 2, 2, 2, 2, 2, 1, 1, 2, 3, 2, 1, 0, 2, 1, 2, 2, 1,\n",
       "        1, 2, 1, 2, 2, 1, 1, 2, 1, 2, 2, 2, 3, 2, 1, 2, 0, 2, 2, 1, 2, 3,\n",
       "        2, 1, 1, 1, 1, 1, 2, 1, 1, 2, 1, 2, 3, 2, 1, 2, 2, 2, 1, 2, 2, 2,\n",
       "        2, 1, 1, 2, 2, 1, 2, 2, 2, 2, 1, 1, 2, 1, 2, 2, 1, 3, 3, 0, 1, 3,\n",
       "        0, 2, 1, 1, 1, 1, 1, 0, 2, 1, 3, 2, 1, 2, 2, 1, 1, 3, 0, 3, 3, 2,\n",
       "        1, 1, 3, 3, 2, 3, 1, 1, 3, 1, 0, 1, 1, 1, 3, 0, 2, 2, 2, 1, 1, 2,\n",
       "        2, 1, 3, 2, 0, 1, 1, 1, 2, 1, 1, 1, 2, 1, 1, 2, 0, 3, 0, 1, 2, 1,\n",
       "        3, 2, 3, 2, 2, 0, 2, 3, 2, 2, 2, 1, 2, 1, 1, 1, 2, 1, 1, 1, 1, 1,\n",
       "        2, 2, 1, 2, 1, 1, 2, 2, 3, 1, 2, 2, 3, 2, 1, 1, 2, 0, 2, 0, 1, 1,\n",
       "        2, 1, 1, 3, 1, 1, 1, 1, 1, 3, 1, 2, 1, 0, 3, 1, 3, 2, 2, 1, 1, 3,\n",
       "        2, 1, 2, 1, 3, 1, 2, 2, 1, 2, 2, 2, 1, 0, 3, 2, 1, 3, 1, 1, 2, 1,\n",
       "        2, 2, 0, 1, 2, 1, 2, 2, 3, 1, 1, 2, 2, 1, 2, 2, 0, 0, 1, 2, 1, 1,\n",
       "        2, 1, 1, 2, 1, 1, 3, 2, 3, 1, 2, 2, 3, 0, 1, 1, 2, 1, 2, 1, 1, 1,\n",
       "        1, 1, 2, 1, 3, 1, 0, 2, 1, 3, 1, 2, 2, 1, 0, 2, 3, 2, 3, 2, 1, 1,\n",
       "        1, 2, 1, 2, 1, 2, 1, 3, 2, 2, 2, 2, 2, 1, 2, 0, 1, 0, 1, 2, 2, 1,\n",
       "        2, 3, 2, 1, 2, 2, 2, 3, 1, 3, 2, 1, 2, 2, 2, 1, 3, 1, 1, 2, 2, 1,\n",
       "        2, 3, 2, 2, 0, 1, 2, 2, 2, 0, 1, 2, 1, 3, 0, 2, 3])}"
      ]
     },
     "execution_count": 32,
     "metadata": {},
     "output_type": "execute_result"
    }
   ],
   "source": [
    "# Apply\n",
    "preprocess(df=train_df, class_to_index=class_to_index)"
   ]
  },
  {
   "cell_type": "markdown",
   "metadata": {},
   "source": [
    "### Distributed preprocessing"
   ]
  },
  {
   "cell_type": "markdown",
   "metadata": {},
   "source": [
    "The main issue with our approach above is that we're limited by our single machine in terms how much data our dataframe can hold and that we can preprocess. With the increasing trend in ML for larger unstructured datasets and larger models (LLMs), we can quickly outgrow our single machine constraints and will need to go distributed."
   ]
  },
  {
   "cell_type": "code",
   "execution_count": 33,
   "metadata": {
    "tags": []
   },
   "outputs": [],
   "source": [
    "import sys\n",
    "sys.path.append(\"..\")\n",
    "from madewithml.data import stratify_split\n",
    "ray.data.DatasetContext.get_current().execution_options.preserve_order = True"
   ]
  },
  {
   "cell_type": "code",
   "execution_count": 34,
   "metadata": {
    "tags": []
   },
   "outputs": [
    {
     "name": "stderr",
     "output_type": "stream",
     "text": [
      "2023-09-08 22:30:55,712\tINFO read_api.py:374 -- To satisfy the requested parallelism of 16, each read task output will be split into 16 smaller blocks.\n",
      "2023-09-08 22:30:55,724\tINFO dataset.py:2180 -- Tip: Use `take_batch()` instead of `take() / show()` to return records in pandas or numpy batch format.\n",
      "2023-09-08 22:30:55,725\tINFO streaming_executor.py:92 -- Executing DAG InputDataBuffer[Input] -> TaskPoolMapOperator[ReadCSV->SplitBlocks(16)] -> AllToAllOperator[RandomShuffle]\n",
      "2023-09-08 22:30:55,725\tINFO streaming_executor.py:93 -- Execution config: ExecutionOptions(resource_limits=ExecutionResources(cpu=None, gpu=None, object_store_memory=None), locality_with_output=False, preserve_order=True, actor_locality_enabled=True, verbose_progress=False)\n",
      "2023-09-08 22:30:55,726\tINFO streaming_executor.py:95 -- Tip: For detailed progress reporting, run `ray.data.DataContext.get_current().execution_options.verbose_progress = True`\n"
     ]
    },
    {
     "data": {
      "application/vnd.jupyter.widget-view+json": {
       "model_id": "",
       "version_major": 2,
       "version_minor": 0
      },
      "text/plain": [
       "- RandomShuffle 1:   0%|          | 0/16 [00:00<?, ?it/s]"
      ]
     },
     "metadata": {},
     "output_type": "display_data"
    },
    {
     "data": {
      "application/vnd.jupyter.widget-view+json": {
       "model_id": "",
       "version_major": 2,
       "version_minor": 0
      },
      "text/plain": [
       "Shuffle Map 2:   0%|          | 0/16 [00:00<?, ?it/s]"
      ]
     },
     "metadata": {},
     "output_type": "display_data"
    },
    {
     "data": {
      "application/vnd.jupyter.widget-view+json": {
       "model_id": "",
       "version_major": 2,
       "version_minor": 0
      },
      "text/plain": [
       "Shuffle Reduce 3:   0%|          | 0/16 [00:00<?, ?it/s]"
      ]
     },
     "metadata": {},
     "output_type": "display_data"
    },
    {
     "data": {
      "application/vnd.jupyter.widget-view+json": {
       "model_id": "",
       "version_major": 2,
       "version_minor": 0
      },
      "text/plain": [
       "Running 0:   0%|          | 0/16 [00:00<?, ?it/s]"
      ]
     },
     "metadata": {},
     "output_type": "display_data"
    },
    {
     "data": {
      "text/plain": [
       "[{'id': 428,\n",
       "  'created_on': datetime.datetime(2020, 4, 10, 4, 57, 53),\n",
       "  'title': 'AiLight: Automatic  Highlighting Using BERT',\n",
       "  'description': 'Automatically highlight pdfs using BERT embeddings and clustering.\\nhttps://anishthite.github.io/ailight',\n",
       "  'tag': 'natural-language-processing'}]"
      ]
     },
     "execution_count": 34,
     "metadata": {},
     "output_type": "execute_result"
    }
   ],
   "source": [
    "# Data ingestion\n",
    "ds = ray.data.read_csv(DATASET_LOC)\n",
    "ds = ds.random_shuffle(seed=1234)\n",
    "ds.take(1)"
   ]
  },
  {
   "cell_type": "code",
   "execution_count": 35,
   "metadata": {
    "tags": []
   },
   "outputs": [
    {
     "name": "stderr",
     "output_type": "stream",
     "text": [
      "2023-09-08 22:30:57,654\tWARNING plan.py:567 -- Warning: The Ray cluster currently does not have any available CPUs. The Dataset job will hang unless more CPUs are freed up. A common reason is that cluster resources are used by Actors or Tune trials; see the following link for more details: https://docs.ray.io/en/master/data/dataset-internals.html#datasets-and-tune\n",
      "2023-09-08 22:30:57,655\tINFO streaming_executor.py:92 -- Executing DAG InputDataBuffer[Input] -> TaskPoolMapOperator[ReadCSV->SplitBlocks(16)] -> AllToAllOperator[RandomShuffle] -> LimitOperator[limit=1]\n",
      "2023-09-08 22:30:57,655\tINFO streaming_executor.py:93 -- Execution config: ExecutionOptions(resource_limits=ExecutionResources(cpu=None, gpu=None, object_store_memory=None), locality_with_output=False, preserve_order=True, actor_locality_enabled=True, verbose_progress=False)\n",
      "2023-09-08 22:30:57,656\tINFO streaming_executor.py:95 -- Tip: For detailed progress reporting, run `ray.data.DataContext.get_current().execution_options.verbose_progress = True`\n"
     ]
    },
    {
     "data": {
      "application/vnd.jupyter.widget-view+json": {
       "model_id": "",
       "version_major": 2,
       "version_minor": 0
      },
      "text/plain": [
       "- RandomShuffle 1:   0%|          | 0/16 [00:00<?, ?it/s]"
      ]
     },
     "metadata": {},
     "output_type": "display_data"
    },
    {
     "data": {
      "application/vnd.jupyter.widget-view+json": {
       "model_id": "",
       "version_major": 2,
       "version_minor": 0
      },
      "text/plain": [
       "Shuffle Map 2:   0%|          | 0/16 [00:00<?, ?it/s]"
      ]
     },
     "metadata": {},
     "output_type": "display_data"
    },
    {
     "data": {
      "application/vnd.jupyter.widget-view+json": {
       "model_id": "",
       "version_major": 2,
       "version_minor": 0
      },
      "text/plain": [
       "Shuffle Reduce 3:   0%|          | 0/16 [00:00<?, ?it/s]"
      ]
     },
     "metadata": {},
     "output_type": "display_data"
    },
    {
     "data": {
      "application/vnd.jupyter.widget-view+json": {
       "model_id": "",
       "version_major": 2,
       "version_minor": 0
      },
      "text/plain": [
       "Running 0:   0%|          | 0/1 [00:00<?, ?it/s]"
      ]
     },
     "metadata": {},
     "output_type": "display_data"
    }
   ],
   "source": [
    "# Split dataset\n",
    "test_size = 0.2\n",
    "train_ds, val_ds = stratify_split(ds, stratify=\"tag\", test_size=test_size)"
   ]
  },
  {
   "cell_type": "code",
   "execution_count": 36,
   "metadata": {
    "tags": []
   },
   "outputs": [
    {
     "name": "stderr",
     "output_type": "stream",
     "text": [
      "2023-09-08 22:30:58,072\tINFO streaming_executor.py:92 -- Executing DAG InputDataBuffer[Input] -> TaskPoolMapOperator[ReadCSV->SplitBlocks(16)] -> AllToAllOperator[RandomShuffle] -> AllToAllOperator[Sort] -> AllToAllOperator[MapBatches(group_fn)->MapBatches(_filter_split)->RandomShuffle] -> LimitOperator[limit=1]\n",
      "2023-09-08 22:30:58,072\tINFO streaming_executor.py:93 -- Execution config: ExecutionOptions(resource_limits=ExecutionResources(cpu=None, gpu=None, object_store_memory=None), locality_with_output=False, preserve_order=True, actor_locality_enabled=True, verbose_progress=False)\n",
      "2023-09-08 22:30:58,072\tINFO streaming_executor.py:95 -- Tip: For detailed progress reporting, run `ray.data.DataContext.get_current().execution_options.verbose_progress = True`\n"
     ]
    },
    {
     "data": {
      "application/vnd.jupyter.widget-view+json": {
       "model_id": "",
       "version_major": 2,
       "version_minor": 0
      },
      "text/plain": [
       "- RandomShuffle 1:   0%|          | 0/16 [00:00<?, ?it/s]"
      ]
     },
     "metadata": {},
     "output_type": "display_data"
    },
    {
     "data": {
      "application/vnd.jupyter.widget-view+json": {
       "model_id": "",
       "version_major": 2,
       "version_minor": 0
      },
      "text/plain": [
       "Shuffle Map 2:   0%|          | 0/16 [00:00<?, ?it/s]"
      ]
     },
     "metadata": {},
     "output_type": "display_data"
    },
    {
     "data": {
      "application/vnd.jupyter.widget-view+json": {
       "model_id": "",
       "version_major": 2,
       "version_minor": 0
      },
      "text/plain": [
       "Shuffle Reduce 3:   0%|          | 0/16 [00:00<?, ?it/s]"
      ]
     },
     "metadata": {},
     "output_type": "display_data"
    },
    {
     "data": {
      "application/vnd.jupyter.widget-view+json": {
       "model_id": "",
       "version_major": 2,
       "version_minor": 0
      },
      "text/plain": [
       "- Sort 4:   0%|          | 0/16 [00:00<?, ?it/s]"
      ]
     },
     "metadata": {},
     "output_type": "display_data"
    },
    {
     "data": {
      "application/vnd.jupyter.widget-view+json": {
       "model_id": "",
       "version_major": 2,
       "version_minor": 0
      },
      "text/plain": [
       "Sort Sample 5:   0%|          | 0/16 [00:00<?, ?it/s]"
      ]
     },
     "metadata": {},
     "output_type": "display_data"
    },
    {
     "data": {
      "application/vnd.jupyter.widget-view+json": {
       "model_id": "",
       "version_major": 2,
       "version_minor": 0
      },
      "text/plain": [
       "Shuffle Map 6:   0%|          | 0/16 [00:00<?, ?it/s]"
      ]
     },
     "metadata": {},
     "output_type": "display_data"
    },
    {
     "data": {
      "application/vnd.jupyter.widget-view+json": {
       "model_id": "",
       "version_major": 2,
       "version_minor": 0
      },
      "text/plain": [
       "Shuffle Reduce 7:   0%|          | 0/16 [00:00<?, ?it/s]"
      ]
     },
     "metadata": {},
     "output_type": "display_data"
    },
    {
     "data": {
      "application/vnd.jupyter.widget-view+json": {
       "model_id": "",
       "version_major": 2,
       "version_minor": 0
      },
      "text/plain": [
       "- MapBatches(group_fn)->MapBatches(_filter_split)->RandomShuffle 8:   0%|          | 0/16 [00:00<?, ?it/s]"
      ]
     },
     "metadata": {},
     "output_type": "display_data"
    },
    {
     "data": {
      "application/vnd.jupyter.widget-view+json": {
       "model_id": "",
       "version_major": 2,
       "version_minor": 0
      },
      "text/plain": [
       "Shuffle Map 9:   0%|          | 0/16 [00:00<?, ?it/s]"
      ]
     },
     "metadata": {},
     "output_type": "display_data"
    },
    {
     "data": {
      "application/vnd.jupyter.widget-view+json": {
       "model_id": "",
       "version_major": 2,
       "version_minor": 0
      },
      "text/plain": [
       "Shuffle Reduce 10:   0%|          | 0/16 [00:00<?, ?it/s]"
      ]
     },
     "metadata": {},
     "output_type": "display_data"
    },
    {
     "data": {
      "application/vnd.jupyter.widget-view+json": {
       "model_id": "",
       "version_major": 2,
       "version_minor": 0
      },
      "text/plain": [
       "Running 0:   0%|          | 0/1 [00:00<?, ?it/s]"
      ]
     },
     "metadata": {},
     "output_type": "display_data"
    },
    {
     "data": {
      "application/vnd.jupyter.widget-view+json": {
       "model_id": "",
       "version_major": 2,
       "version_minor": 0
      },
      "text/plain": [
       "Sort Sample 0:   0%|          | 0/16 [00:00<?, ?it/s]"
      ]
     },
     "metadata": {},
     "output_type": "display_data"
    },
    {
     "name": "stderr",
     "output_type": "stream",
     "text": [
      "2023-09-08 22:30:59,569\tINFO streaming_executor.py:92 -- Executing DAG InputDataBuffer[Input] -> TaskPoolMapOperator[ReadCSV->SplitBlocks(16)] -> AllToAllOperator[RandomShuffle] -> AllToAllOperator[Sort] -> AllToAllOperator[MapBatches(group_fn)->MapBatches(_filter_split)->RandomShuffle] -> AllToAllOperator[Aggregate] -> TaskPoolMapOperator[MapBatches(<lambda>)]\n",
      "2023-09-08 22:30:59,579\tINFO streaming_executor.py:93 -- Execution config: ExecutionOptions(resource_limits=ExecutionResources(cpu=None, gpu=None, object_store_memory=None), locality_with_output=False, preserve_order=True, actor_locality_enabled=True, verbose_progress=False)\n",
      "2023-09-08 22:30:59,579\tINFO streaming_executor.py:95 -- Tip: For detailed progress reporting, run `ray.data.DataContext.get_current().execution_options.verbose_progress = True`\n"
     ]
    },
    {
     "data": {
      "application/vnd.jupyter.widget-view+json": {
       "model_id": "",
       "version_major": 2,
       "version_minor": 0
      },
      "text/plain": [
       "- RandomShuffle 1:   0%|          | 0/16 [00:00<?, ?it/s]"
      ]
     },
     "metadata": {},
     "output_type": "display_data"
    },
    {
     "data": {
      "application/vnd.jupyter.widget-view+json": {
       "model_id": "",
       "version_major": 2,
       "version_minor": 0
      },
      "text/plain": [
       "Shuffle Map 2:   0%|          | 0/16 [00:00<?, ?it/s]"
      ]
     },
     "metadata": {},
     "output_type": "display_data"
    },
    {
     "data": {
      "application/vnd.jupyter.widget-view+json": {
       "model_id": "",
       "version_major": 2,
       "version_minor": 0
      },
      "text/plain": [
       "Shuffle Reduce 3:   0%|          | 0/16 [00:00<?, ?it/s]"
      ]
     },
     "metadata": {},
     "output_type": "display_data"
    },
    {
     "data": {
      "application/vnd.jupyter.widget-view+json": {
       "model_id": "",
       "version_major": 2,
       "version_minor": 0
      },
      "text/plain": [
       "- Sort 4:   0%|          | 0/16 [00:00<?, ?it/s]"
      ]
     },
     "metadata": {},
     "output_type": "display_data"
    },
    {
     "data": {
      "application/vnd.jupyter.widget-view+json": {
       "model_id": "",
       "version_major": 2,
       "version_minor": 0
      },
      "text/plain": [
       "Sort Sample 5:   0%|          | 0/16 [00:00<?, ?it/s]"
      ]
     },
     "metadata": {},
     "output_type": "display_data"
    },
    {
     "data": {
      "application/vnd.jupyter.widget-view+json": {
       "model_id": "",
       "version_major": 2,
       "version_minor": 0
      },
      "text/plain": [
       "Shuffle Map 6:   0%|          | 0/16 [00:00<?, ?it/s]"
      ]
     },
     "metadata": {},
     "output_type": "display_data"
    },
    {
     "data": {
      "application/vnd.jupyter.widget-view+json": {
       "model_id": "",
       "version_major": 2,
       "version_minor": 0
      },
      "text/plain": [
       "Shuffle Reduce 7:   0%|          | 0/16 [00:00<?, ?it/s]"
      ]
     },
     "metadata": {},
     "output_type": "display_data"
    },
    {
     "data": {
      "application/vnd.jupyter.widget-view+json": {
       "model_id": "",
       "version_major": 2,
       "version_minor": 0
      },
      "text/plain": [
       "- MapBatches(group_fn)->MapBatches(_filter_split)->RandomShuffle 8:   0%|          | 0/16 [00:00<?, ?it/s]"
      ]
     },
     "metadata": {},
     "output_type": "display_data"
    },
    {
     "data": {
      "application/vnd.jupyter.widget-view+json": {
       "model_id": "",
       "version_major": 2,
       "version_minor": 0
      },
      "text/plain": [
       "Shuffle Map 9:   0%|          | 0/16 [00:00<?, ?it/s]"
      ]
     },
     "metadata": {},
     "output_type": "display_data"
    },
    {
     "data": {
      "application/vnd.jupyter.widget-view+json": {
       "model_id": "",
       "version_major": 2,
       "version_minor": 0
      },
      "text/plain": [
       "Shuffle Reduce 10:   0%|          | 0/16 [00:00<?, ?it/s]"
      ]
     },
     "metadata": {},
     "output_type": "display_data"
    },
    {
     "data": {
      "application/vnd.jupyter.widget-view+json": {
       "model_id": "",
       "version_major": 2,
       "version_minor": 0
      },
      "text/plain": [
       "- Aggregate 11:   0%|          | 0/16 [00:00<?, ?it/s]"
      ]
     },
     "metadata": {},
     "output_type": "display_data"
    },
    {
     "data": {
      "application/vnd.jupyter.widget-view+json": {
       "model_id": "",
       "version_major": 2,
       "version_minor": 0
      },
      "text/plain": [
       "Shuffle Map 12:   0%|          | 0/16 [00:00<?, ?it/s]"
      ]
     },
     "metadata": {},
     "output_type": "display_data"
    },
    {
     "data": {
      "application/vnd.jupyter.widget-view+json": {
       "model_id": "",
       "version_major": 2,
       "version_minor": 0
      },
      "text/plain": [
       "Shuffle Reduce 13:   0%|          | 0/16 [00:00<?, ?it/s]"
      ]
     },
     "metadata": {},
     "output_type": "display_data"
    },
    {
     "data": {
      "application/vnd.jupyter.widget-view+json": {
       "model_id": "",
       "version_major": 2,
       "version_minor": 0
      },
      "text/plain": [
       "Running 0:   0%|          | 0/16 [00:00<?, ?it/s]"
      ]
     },
     "metadata": {},
     "output_type": "display_data"
    },
    {
     "data": {
      "application/vnd.jupyter.widget-view+json": {
       "model_id": "",
       "version_major": 2,
       "version_minor": 0
      },
      "text/plain": [
       "Sort Sample 0:   0%|          | 0/16 [00:00<?, ?it/s]"
      ]
     },
     "metadata": {},
     "output_type": "display_data"
    },
    {
     "data": {
      "application/vnd.jupyter.widget-view+json": {
       "model_id": "",
       "version_major": 2,
       "version_minor": 0
      },
      "text/plain": [
       "Sort Sample 0:   0%|          | 0/16 [00:00<?, ?it/s]"
      ]
     },
     "metadata": {},
     "output_type": "display_data"
    }
   ],
   "source": [
    "# Mapping\n",
    "tags = train_ds.unique(column=\"tag\")\n",
    "class_to_index = {tag: i for i, tag in enumerate(tags)}"
   ]
  },
  {
   "cell_type": "code",
   "execution_count": 37,
   "metadata": {
    "tags": []
   },
   "outputs": [
    {
     "name": "stderr",
     "output_type": "stream",
     "text": [
      "2023-09-08 22:31:00,232\tINFO streaming_executor.py:92 -- Executing DAG InputDataBuffer[Input] -> TaskPoolMapOperator[ReadCSV->SplitBlocks(16)] -> AllToAllOperator[RandomShuffle] -> AllToAllOperator[Sort] -> AllToAllOperator[MapBatches(group_fn)->MapBatches(_filter_split)->RandomShuffle] -> TaskPoolMapOperator[MapBatches(preprocess)]\n",
      "2023-09-08 22:31:00,232\tINFO streaming_executor.py:93 -- Execution config: ExecutionOptions(resource_limits=ExecutionResources(cpu=None, gpu=None, object_store_memory=None), locality_with_output=False, preserve_order=True, actor_locality_enabled=True, verbose_progress=False)\n",
      "2023-09-08 22:31:00,233\tINFO streaming_executor.py:95 -- Tip: For detailed progress reporting, run `ray.data.DataContext.get_current().execution_options.verbose_progress = True`\n"
     ]
    },
    {
     "data": {
      "application/vnd.jupyter.widget-view+json": {
       "model_id": "",
       "version_major": 2,
       "version_minor": 0
      },
      "text/plain": [
       "- RandomShuffle 1:   0%|          | 0/16 [00:00<?, ?it/s]"
      ]
     },
     "metadata": {},
     "output_type": "display_data"
    },
    {
     "data": {
      "application/vnd.jupyter.widget-view+json": {
       "model_id": "",
       "version_major": 2,
       "version_minor": 0
      },
      "text/plain": [
       "Shuffle Map 2:   0%|          | 0/16 [00:00<?, ?it/s]"
      ]
     },
     "metadata": {},
     "output_type": "display_data"
    },
    {
     "data": {
      "application/vnd.jupyter.widget-view+json": {
       "model_id": "",
       "version_major": 2,
       "version_minor": 0
      },
      "text/plain": [
       "Shuffle Reduce 3:   0%|          | 0/16 [00:00<?, ?it/s]"
      ]
     },
     "metadata": {},
     "output_type": "display_data"
    },
    {
     "data": {
      "application/vnd.jupyter.widget-view+json": {
       "model_id": "",
       "version_major": 2,
       "version_minor": 0
      },
      "text/plain": [
       "- Sort 4:   0%|          | 0/16 [00:00<?, ?it/s]"
      ]
     },
     "metadata": {},
     "output_type": "display_data"
    },
    {
     "data": {
      "application/vnd.jupyter.widget-view+json": {
       "model_id": "",
       "version_major": 2,
       "version_minor": 0
      },
      "text/plain": [
       "Sort Sample 5:   0%|          | 0/16 [00:00<?, ?it/s]"
      ]
     },
     "metadata": {},
     "output_type": "display_data"
    },
    {
     "data": {
      "application/vnd.jupyter.widget-view+json": {
       "model_id": "",
       "version_major": 2,
       "version_minor": 0
      },
      "text/plain": [
       "Shuffle Map 6:   0%|          | 0/16 [00:00<?, ?it/s]"
      ]
     },
     "metadata": {},
     "output_type": "display_data"
    },
    {
     "data": {
      "application/vnd.jupyter.widget-view+json": {
       "model_id": "",
       "version_major": 2,
       "version_minor": 0
      },
      "text/plain": [
       "Shuffle Reduce 7:   0%|          | 0/16 [00:00<?, ?it/s]"
      ]
     },
     "metadata": {},
     "output_type": "display_data"
    },
    {
     "data": {
      "application/vnd.jupyter.widget-view+json": {
       "model_id": "",
       "version_major": 2,
       "version_minor": 0
      },
      "text/plain": [
       "- MapBatches(group_fn)->MapBatches(_filter_split)->RandomShuffle 8:   0%|          | 0/16 [00:00<?, ?it/s]"
      ]
     },
     "metadata": {},
     "output_type": "display_data"
    },
    {
     "data": {
      "application/vnd.jupyter.widget-view+json": {
       "model_id": "",
       "version_major": 2,
       "version_minor": 0
      },
      "text/plain": [
       "Shuffle Map 9:   0%|          | 0/16 [00:00<?, ?it/s]"
      ]
     },
     "metadata": {},
     "output_type": "display_data"
    },
    {
     "data": {
      "application/vnd.jupyter.widget-view+json": {
       "model_id": "",
       "version_major": 2,
       "version_minor": 0
      },
      "text/plain": [
       "Shuffle Reduce 10:   0%|          | 0/16 [00:00<?, ?it/s]"
      ]
     },
     "metadata": {},
     "output_type": "display_data"
    },
    {
     "data": {
      "application/vnd.jupyter.widget-view+json": {
       "model_id": "",
       "version_major": 2,
       "version_minor": 0
      },
      "text/plain": [
       "Running 0:   0%|          | 0/16 [00:00<?, ?it/s]"
      ]
     },
     "metadata": {},
     "output_type": "display_data"
    },
    {
     "data": {
      "application/vnd.jupyter.widget-view+json": {
       "model_id": "",
       "version_major": 2,
       "version_minor": 0
      },
      "text/plain": [
       "Sort Sample 0:   0%|          | 0/16 [00:00<?, ?it/s]"
      ]
     },
     "metadata": {},
     "output_type": "display_data"
    },
    {
     "name": "stdout",
     "output_type": "stream",
     "text": [
      "{'ids': array([  102, 13568, 11404, 21963,  2556,  6021,  5560,  5702,  2112,\n",
      "         255,   610, 19139, 21963,  7032,  5191,  7398,  2556,  6021,\n",
      "        2010,   103,     0,     0,     0,     0,     0,     0,     0,\n",
      "           0,     0,     0,     0,     0,     0]), 'masks': array([1, 1, 1, 1, 1, 1, 1, 1, 1, 1, 1, 1, 1, 1, 1, 1, 1, 1, 1, 1, 0, 0,\n",
      "       0, 0, 0, 0, 0, 0, 0, 0, 0, 0, 0]), 'targets': 0}\n"
     ]
    }
   ],
   "source": [
    "# Distributed preprocessing\n",
    "sample_ds = train_ds.map_batches(preprocess, fn_kwargs={\"class_to_index\": class_to_index}, batch_format=\"pandas\")\n",
    "sample_ds.show(1)"
   ]
  },
  {
   "cell_type": "markdown",
   "metadata": {
    "id": "lGvI2YuuNkSX",
    "tags": []
   },
   "source": [
    "# Training"
   ]
  },
  {
   "cell_type": "markdown",
   "metadata": {},
   "source": [
    "When developing models, it's always a best practice to start with the simplest models and slowly motivate more complex models. For example our baseline model progression would be: \n",
    "\n",
    "1. random model (predict labels randomly)\n",
    "2. rule-based model (pattern match labels in input text)\n",
    "3. logistic regression (td-idf vectors from text)\n",
    "4. CNN (apply character filters over text)\n",
    "5. Fine-tune LLM (this notebook)\n",
    "\n",
    "We cover all of these methods in our [other lessons](https://madewithml.com/#foundations) but since our focus here in on MLOps, we will skip directly to fine-tuning an LLM for our task."
   ]
  },
  {
   "cell_type": "markdown",
   "metadata": {
    "id": "K9CfUuNh2YLE"
   },
   "source": [
    "We'll first set up some functions that will help us achieve complete reproducibility."
   ]
  },
  {
   "cell_type": "code",
   "execution_count": 38,
   "metadata": {
    "id": "86sFERmsuPQl",
    "tags": []
   },
   "outputs": [],
   "source": [
    "import os\n",
    "import random\n",
    "import torch\n",
    "from ray.data.preprocessor import Preprocessor"
   ]
  },
  {
   "cell_type": "code",
   "execution_count": 39,
   "metadata": {
    "id": "NXd8flJuNkSY",
    "tags": []
   },
   "outputs": [],
   "source": [
    "def set_seeds(seed=42):\n",
    "    \"\"\"Set seeds for reproducibility.\"\"\"\n",
    "    np.random.seed(seed)\n",
    "    random.seed(seed)\n",
    "    torch.manual_seed(seed)\n",
    "    torch.cuda.manual_seed(seed)\n",
    "    eval(\"setattr(torch.backends.cudnn, 'deterministic', True)\")\n",
    "    eval(\"setattr(torch.backends.cudnn, 'benchmark', False)\")\n",
    "    os.environ[\"PYTHONHASHSEED\"] = str(seed)"
   ]
  },
  {
   "cell_type": "code",
   "execution_count": 40,
   "metadata": {
    "tags": []
   },
   "outputs": [],
   "source": [
    "def load_data(num_samples=None):\n",
    "    ds = ray.data.read_csv(DATASET_LOC)\n",
    "    ds = ds.random_shuffle(seed=1234)\n",
    "    ds = ray.data.from_items(ds.take(num_samples)) if num_samples else ds\n",
    "    return ds"
   ]
  },
  {
   "cell_type": "code",
   "execution_count": 41,
   "metadata": {
    "tags": []
   },
   "outputs": [],
   "source": [
    "class CustomPreprocessor(Preprocessor):\n",
    "    \"\"\"Custom preprocessor class.\"\"\"\n",
    "    def _fit(self, ds):\n",
    "        tags = ds.unique(column=\"tag\")\n",
    "        self.class_to_index = {tag: i for i, tag in enumerate(tags)}\n",
    "        self.index_to_class = {v:k for k, v in self.class_to_index.items()}\n",
    "    def _transform_pandas(self, batch):  # could also do _transform_numpy\n",
    "        return preprocess(batch, class_to_index=self.class_to_index)"
   ]
  },
  {
   "cell_type": "markdown",
   "metadata": {},
   "source": [
    "## 🤖&nbsp; Model"
   ]
  },
  {
   "cell_type": "code",
   "execution_count": 42,
   "metadata": {
    "tags": []
   },
   "outputs": [],
   "source": [
    "import torch.nn as nn\n",
    "from transformers import BertModel"
   ]
  },
  {
   "cell_type": "code",
   "execution_count": 43,
   "metadata": {
    "tags": []
   },
   "outputs": [
    {
     "data": {
      "application/vnd.jupyter.widget-view+json": {
       "model_id": "da909d0facbe436f8690523243a89c5a",
       "version_major": 2,
       "version_minor": 0
      },
      "text/plain": [
       "Downloading pytorch_model.bin:   0%|          | 0.00/442M [00:00<?, ?B/s]"
      ]
     },
     "metadata": {},
     "output_type": "display_data"
    },
    {
     "name": "stderr",
     "output_type": "stream",
     "text": [
      "Some weights of the model checkpoint at allenai/scibert_scivocab_uncased were not used when initializing BertModel: ['cls.predictions.decoder.weight', 'cls.predictions.decoder.bias', 'cls.predictions.bias', 'cls.predictions.transform.LayerNorm.weight', 'cls.seq_relationship.bias', 'cls.seq_relationship.weight', 'cls.predictions.transform.dense.bias', 'cls.predictions.transform.dense.weight', 'cls.predictions.transform.LayerNorm.bias']\n",
      "- This IS expected if you are initializing BertModel from the checkpoint of a model trained on another task or with another architecture (e.g. initializing a BertForSequenceClassification model from a BertForPreTraining model).\n",
      "- This IS NOT expected if you are initializing BertModel from the checkpoint of a model that you expect to be exactly identical (initializing a BertForSequenceClassification model from a BertForSequenceClassification model).\n"
     ]
    }
   ],
   "source": [
    "# Pretrained LLM\n",
    "llm = BertModel.from_pretrained(\"allenai/scibert_scivocab_uncased\", return_dict=False)\n",
    "embedding_dim = llm.config.hidden_size"
   ]
  },
  {
   "cell_type": "code",
   "execution_count": 44,
   "metadata": {
    "tags": []
   },
   "outputs": [
    {
     "data": {
      "text/plain": [
       "(torch.Size([1, 10, 768]), torch.Size([1, 768]))"
      ]
     },
     "execution_count": 44,
     "metadata": {},
     "output_type": "execute_result"
    }
   ],
   "source": [
    "# Sample\n",
    "text = \"Transfer learning with transformers for text classification.\"\n",
    "batch = tokenizer([text], return_tensors=\"np\", padding=\"longest\")\n",
    "batch = {k:torch.tensor(v) for k,v in batch.items()}  # convert to torch tensors\n",
    "seq, pool = llm(input_ids=batch[\"input_ids\"], attention_mask=batch[\"attention_mask\"])\n",
    "np.shape(seq), np.shape(pool)"
   ]
  },
  {
   "cell_type": "code",
   "execution_count": 45,
   "metadata": {
    "tags": []
   },
   "outputs": [],
   "source": [
    "class FinetunedLLM(nn.Module):\n",
    "    def __init__(self, llm, dropout_p, embedding_dim, num_classes):\n",
    "        super(FinetunedLLM, self).__init__()\n",
    "        self.llm = llm\n",
    "        self.dropout = torch.nn.Dropout(dropout_p)\n",
    "        self.fc1 = torch.nn.Linear(embedding_dim, num_classes)\n",
    "\n",
    "    def forward(self, batch):\n",
    "        ids, masks = batch[\"ids\"], batch[\"masks\"]\n",
    "        seq, pool = self.llm(input_ids=ids, attention_mask=masks)\n",
    "        z = self.dropout(pool)\n",
    "        z = self.fc1(z)\n",
    "        return z\n",
    "    \n",
    "    @torch.inference_mode()\n",
    "    def predict(self, batch):\n",
    "        self.eval()\n",
    "        z = self(inputs)\n",
    "        y_pred = torch.argmax(z, dim=1).cpu().numpy()\n",
    "        return y_pred\n",
    "    \n",
    "    @torch.inference_mode()\n",
    "    def predict_proba(self, batch):\n",
    "        self.eval()\n",
    "        z = self(batch)\n",
    "        y_probs = F.softmax(z).cpu().numpy()\n",
    "        return y_probs"
   ]
  },
  {
   "cell_type": "code",
   "execution_count": 46,
   "metadata": {
    "tags": []
   },
   "outputs": [
    {
     "name": "stdout",
     "output_type": "stream",
     "text": [
      "<bound method Module.named_parameters of FinetunedLLM(\n",
      "  (llm): BertModel(\n",
      "    (embeddings): BertEmbeddings(\n",
      "      (word_embeddings): Embedding(31090, 768, padding_idx=0)\n",
      "      (position_embeddings): Embedding(512, 768)\n",
      "      (token_type_embeddings): Embedding(2, 768)\n",
      "      (LayerNorm): LayerNorm((768,), eps=1e-12, elementwise_affine=True)\n",
      "      (dropout): Dropout(p=0.1, inplace=False)\n",
      "    )\n",
      "    (encoder): BertEncoder(\n",
      "      (layer): ModuleList(\n",
      "        (0-11): 12 x BertLayer(\n",
      "          (attention): BertAttention(\n",
      "            (self): BertSelfAttention(\n",
      "              (query): Linear(in_features=768, out_features=768, bias=True)\n",
      "              (key): Linear(in_features=768, out_features=768, bias=True)\n",
      "              (value): Linear(in_features=768, out_features=768, bias=True)\n",
      "              (dropout): Dropout(p=0.1, inplace=False)\n",
      "            )\n",
      "            (output): BertSelfOutput(\n",
      "              (dense): Linear(in_features=768, out_features=768, bias=True)\n",
      "              (LayerNorm): LayerNorm((768,), eps=1e-12, elementwise_affine=True)\n",
      "              (dropout): Dropout(p=0.1, inplace=False)\n",
      "            )\n",
      "          )\n",
      "          (intermediate): BertIntermediate(\n",
      "            (dense): Linear(in_features=768, out_features=3072, bias=True)\n",
      "            (intermediate_act_fn): GELUActivation()\n",
      "          )\n",
      "          (output): BertOutput(\n",
      "            (dense): Linear(in_features=3072, out_features=768, bias=True)\n",
      "            (LayerNorm): LayerNorm((768,), eps=1e-12, elementwise_affine=True)\n",
      "            (dropout): Dropout(p=0.1, inplace=False)\n",
      "          )\n",
      "        )\n",
      "      )\n",
      "    )\n",
      "    (pooler): BertPooler(\n",
      "      (dense): Linear(in_features=768, out_features=768, bias=True)\n",
      "      (activation): Tanh()\n",
      "    )\n",
      "  )\n",
      "  (dropout): Dropout(p=0.5, inplace=False)\n",
      "  (fc1): Linear(in_features=768, out_features=4, bias=True)\n",
      ")>\n"
     ]
    }
   ],
   "source": [
    "# Initialize model\n",
    "model = FinetunedLLM(llm=llm, dropout_p=0.5, embedding_dim=embedding_dim, num_classes=num_classes)\n",
    "print (model.named_parameters)"
   ]
  },
  {
   "cell_type": "markdown",
   "metadata": {},
   "source": [
    "## 📦&nbsp; Batching"
   ]
  },
  {
   "cell_type": "markdown",
   "metadata": {},
   "source": [
    "We can iterate through our dataset in batches however we may have batches of different sizes. Recall that our tokenizer padded the inputs to the longest item in the batch (`padding=\"longest\"`). However, our batches for training will be smaller than our large data processing batches and so our batches here may have inputs with different lengths. To address this, we're going to define a custom `collate_fn` to repad the items in our training batches."
   ]
  },
  {
   "cell_type": "code",
   "execution_count": 47,
   "metadata": {
    "tags": []
   },
   "outputs": [
    {
     "name": "stdout",
     "output_type": "stream",
     "text": [
      "Created a temporary directory at /var/folders/6f/n0yh19t90mj5k7rbgyyqwclc0000gn/T/tmp133k6ayt\n",
      "Writing /var/folders/6f/n0yh19t90mj5k7rbgyyqwclc0000gn/T/tmp133k6ayt/_remote_module_non_scriptable.py\n"
     ]
    }
   ],
   "source": [
    "from ray.train.torch import get_device"
   ]
  },
  {
   "cell_type": "code",
   "execution_count": 48,
   "metadata": {
    "tags": []
   },
   "outputs": [],
   "source": [
    "def pad_array(arr, dtype=np.int32):\n",
    "    max_len = max(len(row) for row in arr)\n",
    "    padded_arr = np.zeros((arr.shape[0], max_len), dtype=dtype)\n",
    "    for i, row in enumerate(arr):\n",
    "        padded_arr[i][:len(row)] = row\n",
    "    return padded_arr"
   ]
  },
  {
   "cell_type": "code",
   "execution_count": 49,
   "metadata": {
    "tags": []
   },
   "outputs": [],
   "source": [
    "def collate_fn(batch):\n",
    "    batch[\"ids\"] = pad_array(batch[\"ids\"])\n",
    "    batch[\"masks\"] = pad_array(batch[\"masks\"])\n",
    "    dtypes = {\"ids\": torch.int32, \"masks\": torch.int32, \"targets\": torch.int64}\n",
    "    tensor_batch = {}\n",
    "    for key, array in batch.items():\n",
    "        tensor_batch[key] = torch.as_tensor(array, dtype=dtypes[key], device=get_device())\n",
    "    return tensor_batch"
   ]
  },
  {
   "cell_type": "markdown",
   "metadata": {},
   "source": [
    "> `pad=(0, max_len)` in [F.pad](https://pytorch.org/docs/stable/generated/torch.nn.functional.pad.html#torch-nn-functional-pad) refers to (left_padding, right_padding) on the input. There will be no left-padding (hence the `0`) and only right-padding. And the `constant` mode refers to each element being padded to a constant size (size of longest element in the input)."
   ]
  },
  {
   "cell_type": "code",
   "execution_count": 50,
   "metadata": {
    "tags": []
   },
   "outputs": [
    {
     "name": "stderr",
     "output_type": "stream",
     "text": [
      "2023-09-08 22:31:28,922\tINFO streaming_executor.py:92 -- Executing DAG InputDataBuffer[Input] -> TaskPoolMapOperator[ReadCSV->SplitBlocks(16)] -> AllToAllOperator[RandomShuffle] -> AllToAllOperator[Sort] -> AllToAllOperator[MapBatches(group_fn)->MapBatches(_filter_split)->RandomShuffle] -> TaskPoolMapOperator[MapBatches(preprocess)]\n",
      "2023-09-08 22:31:28,923\tINFO streaming_executor.py:93 -- Execution config: ExecutionOptions(resource_limits=ExecutionResources(cpu=None, gpu=None, object_store_memory=None), locality_with_output=False, preserve_order=True, actor_locality_enabled=True, verbose_progress=False)\n",
      "2023-09-08 22:31:28,923\tINFO streaming_executor.py:95 -- Tip: For detailed progress reporting, run `ray.data.DataContext.get_current().execution_options.verbose_progress = True`\n"
     ]
    },
    {
     "data": {
      "application/vnd.jupyter.widget-view+json": {
       "model_id": "",
       "version_major": 2,
       "version_minor": 0
      },
      "text/plain": [
       "- RandomShuffle 1:   0%|          | 0/16 [00:00<?, ?it/s]"
      ]
     },
     "metadata": {},
     "output_type": "display_data"
    },
    {
     "data": {
      "application/vnd.jupyter.widget-view+json": {
       "model_id": "",
       "version_major": 2,
       "version_minor": 0
      },
      "text/plain": [
       "Shuffle Map 2:   0%|          | 0/16 [00:00<?, ?it/s]"
      ]
     },
     "metadata": {},
     "output_type": "display_data"
    },
    {
     "data": {
      "application/vnd.jupyter.widget-view+json": {
       "model_id": "",
       "version_major": 2,
       "version_minor": 0
      },
      "text/plain": [
       "Shuffle Reduce 3:   0%|          | 0/16 [00:00<?, ?it/s]"
      ]
     },
     "metadata": {},
     "output_type": "display_data"
    },
    {
     "data": {
      "application/vnd.jupyter.widget-view+json": {
       "model_id": "",
       "version_major": 2,
       "version_minor": 0
      },
      "text/plain": [
       "- Sort 4:   0%|          | 0/16 [00:00<?, ?it/s]"
      ]
     },
     "metadata": {},
     "output_type": "display_data"
    },
    {
     "data": {
      "application/vnd.jupyter.widget-view+json": {
       "model_id": "",
       "version_major": 2,
       "version_minor": 0
      },
      "text/plain": [
       "Sort Sample 5:   0%|          | 0/16 [00:00<?, ?it/s]"
      ]
     },
     "metadata": {},
     "output_type": "display_data"
    },
    {
     "data": {
      "application/vnd.jupyter.widget-view+json": {
       "model_id": "",
       "version_major": 2,
       "version_minor": 0
      },
      "text/plain": [
       "Shuffle Map 6:   0%|          | 0/16 [00:00<?, ?it/s]"
      ]
     },
     "metadata": {},
     "output_type": "display_data"
    },
    {
     "data": {
      "application/vnd.jupyter.widget-view+json": {
       "model_id": "",
       "version_major": 2,
       "version_minor": 0
      },
      "text/plain": [
       "Shuffle Reduce 7:   0%|          | 0/16 [00:00<?, ?it/s]"
      ]
     },
     "metadata": {},
     "output_type": "display_data"
    },
    {
     "data": {
      "application/vnd.jupyter.widget-view+json": {
       "model_id": "",
       "version_major": 2,
       "version_minor": 0
      },
      "text/plain": [
       "- MapBatches(group_fn)->MapBatches(_filter_split)->RandomShuffle 8:   0%|          | 0/16 [00:00<?, ?it/s]"
      ]
     },
     "metadata": {},
     "output_type": "display_data"
    },
    {
     "data": {
      "application/vnd.jupyter.widget-view+json": {
       "model_id": "",
       "version_major": 2,
       "version_minor": 0
      },
      "text/plain": [
       "Shuffle Map 9:   0%|          | 0/16 [00:00<?, ?it/s]"
      ]
     },
     "metadata": {},
     "output_type": "display_data"
    },
    {
     "data": {
      "application/vnd.jupyter.widget-view+json": {
       "model_id": "",
       "version_major": 2,
       "version_minor": 0
      },
      "text/plain": [
       "Shuffle Reduce 10:   0%|          | 0/16 [00:00<?, ?it/s]"
      ]
     },
     "metadata": {},
     "output_type": "display_data"
    },
    {
     "data": {
      "application/vnd.jupyter.widget-view+json": {
       "model_id": "",
       "version_major": 2,
       "version_minor": 0
      },
      "text/plain": [
       "Running 0:   0%|          | 0/16 [00:00<?, ?it/s]"
      ]
     },
     "metadata": {},
     "output_type": "display_data"
    },
    {
     "data": {
      "application/vnd.jupyter.widget-view+json": {
       "model_id": "",
       "version_major": 2,
       "version_minor": 0
      },
      "text/plain": [
       "Sort Sample 0:   0%|          | 0/16 [00:00<?, ?it/s]"
      ]
     },
     "metadata": {},
     "output_type": "display_data"
    },
    {
     "data": {
      "text/plain": [
       "{'ids': tensor([[  102,  2189,  2782,  ...,     0,     0,     0],\n",
       "         [  102,  3997,  1904,  ...,     0,     0,     0],\n",
       "         [  102,  3155, 13558,  ...,     0,     0,     0],\n",
       "         ...,\n",
       "         [  102,  1477,  1995,  ...,     0,     0,     0],\n",
       "         [  102,  7683,  5011,  ...,     0,     0,     0],\n",
       "         [  102,  1968,   510,  ...,     0,     0,     0]], dtype=torch.int32),\n",
       " 'masks': tensor([[1, 1, 1,  ..., 0, 0, 0],\n",
       "         [1, 1, 1,  ..., 0, 0, 0],\n",
       "         [1, 1, 1,  ..., 0, 0, 0],\n",
       "         ...,\n",
       "         [1, 1, 1,  ..., 0, 0, 0],\n",
       "         [1, 1, 1,  ..., 0, 0, 0],\n",
       "         [1, 1, 1,  ..., 0, 0, 0]], dtype=torch.int32),\n",
       " 'targets': tensor([0, 1, 2, 0, 0, 2, 3, 0, 0, 2, 0, 0, 0, 0, 0, 0, 0, 2, 2, 3, 1, 3, 0, 2,\n",
       "         0, 1, 3, 2, 2, 2, 2, 3, 2, 2, 2, 2, 1, 2, 0, 3, 2, 0, 1, 2, 0, 0, 2, 3,\n",
       "         0, 0, 2, 0, 0, 0, 0, 0, 0, 0, 2, 2, 3, 1, 3, 0, 2, 0, 1, 3, 2, 2, 2, 2,\n",
       "         3, 2, 2, 2, 2, 1, 2, 0, 3, 2, 0, 3, 0, 0, 0, 2, 2, 2, 0, 2, 0, 0, 0, 0,\n",
       "         0, 0, 3, 2, 2, 2, 3, 3, 2, 0, 2, 3, 2, 2, 3, 0, 2, 0, 2, 2, 2, 0, 2, 0,\n",
       "         0, 0, 0, 2, 0, 0, 2, 0])}"
      ]
     },
     "execution_count": 50,
     "metadata": {},
     "output_type": "execute_result"
    }
   ],
   "source": [
    "# Sample batch\n",
    "sample_batch = sample_ds.take_batch(batch_size=128)\n",
    "collate_fn(batch=sample_batch)"
   ]
  },
  {
   "cell_type": "markdown",
   "metadata": {},
   "source": [
    "## 🧮&nbsp; Utilities"
   ]
  },
  {
   "cell_type": "code",
   "execution_count": 51,
   "metadata": {
    "tags": []
   },
   "outputs": [],
   "source": [
    "from ray.air import Checkpoint, session\n",
    "from ray.air.config import CheckpointConfig, DatasetConfig, RunConfig, ScalingConfig\n",
    "import ray.train as train\n",
    "from ray.train.torch import TorchCheckpoint, TorchTrainer\n",
    "import torch.nn.functional as F"
   ]
  },
  {
   "cell_type": "code",
   "execution_count": 52,
   "metadata": {
    "tags": []
   },
   "outputs": [],
   "source": [
    "def train_step(ds, batch_size, model, num_classes, loss_fn, optimizer):\n",
    "    \"\"\"Train step.\"\"\"\n",
    "    model.train()\n",
    "    loss = 0.0\n",
    "    ds_generator = ds.iter_torch_batches(batch_size=batch_size, collate_fn=collate_fn)\n",
    "    for i, batch in enumerate(ds_generator):\n",
    "        optimizer.zero_grad()  # reset gradients\n",
    "        z = model(batch)  # forward pass\n",
    "        targets = F.one_hot(batch[\"targets\"], num_classes=num_classes).float()  # one-hot (for loss_fn)\n",
    "        J = loss_fn(z, targets)  # define loss\n",
    "        J.backward()  # backward pass\n",
    "        optimizer.step()  # update weights\n",
    "        loss += (J.detach().item() - loss) / (i + 1)  # cumulative loss\n",
    "    return loss"
   ]
  },
  {
   "cell_type": "code",
   "execution_count": 53,
   "metadata": {
    "tags": []
   },
   "outputs": [],
   "source": [
    "def eval_step(ds, batch_size, model, num_classes, loss_fn):\n",
    "    \"\"\"Eval step.\"\"\"\n",
    "    model.eval()\n",
    "    loss = 0.0\n",
    "    y_trues, y_preds = [], []\n",
    "    ds_generator = ds.iter_torch_batches(batch_size=batch_size, collate_fn=collate_fn)\n",
    "    with torch.inference_mode():\n",
    "        for i, batch in enumerate(ds_generator):\n",
    "            z = model(batch)\n",
    "            targets = F.one_hot(batch[\"targets\"], num_classes=num_classes).float()  # one-hot (for loss_fn)\n",
    "            J = loss_fn(z, targets).item()\n",
    "            loss += (J - loss) / (i + 1)\n",
    "            y_trues.extend(batch[\"targets\"].cpu().numpy())\n",
    "            y_preds.extend(torch.argmax(z, dim=1).cpu().numpy())\n",
    "    return loss, np.vstack(y_trues), np.vstack(y_preds)"
   ]
  },
  {
   "cell_type": "code",
   "execution_count": 54,
   "metadata": {
    "tags": []
   },
   "outputs": [],
   "source": [
    "# Training loop\n",
    "def train_loop_per_worker(config):\n",
    "    # Hyperparameters\n",
    "    dropout_p = config[\"dropout_p\"]\n",
    "    lr = config[\"lr\"]\n",
    "    lr_factor = config[\"lr_factor\"]\n",
    "    lr_patience = config[\"lr_patience\"]\n",
    "    num_epochs = config[\"num_epochs\"]\n",
    "    batch_size = config[\"batch_size\"]\n",
    "    num_classes = config[\"num_classes\"]\n",
    "\n",
    "    # Get datasets\n",
    "    set_seeds()\n",
    "    train_ds = session.get_dataset_shard(\"train\")\n",
    "    val_ds = session.get_dataset_shard(\"val\")\n",
    "\n",
    "    # Model\n",
    "    llm = BertModel.from_pretrained(\"allenai/scibert_scivocab_uncased\", return_dict=False)\n",
    "    model = FinetunedLLM(llm=llm, dropout_p=dropout_p, embedding_dim=llm.config.hidden_size, num_classes=num_classes)\n",
    "    model = train.torch.prepare_model(model)\n",
    "\n",
    "    # Training components\n",
    "    loss_fn = nn.BCEWithLogitsLoss()\n",
    "    optimizer = torch.optim.Adam(model.parameters(), lr=lr)\n",
    "    scheduler = torch.optim.lr_scheduler.ReduceLROnPlateau(optimizer, mode=\"min\", factor=lr_factor, patience=lr_patience)\n",
    "\n",
    "    # Training\n",
    "    batch_size_per_worker = batch_size // session.get_world_size()\n",
    "    for epoch in range(num_epochs):\n",
    "        # Step\n",
    "        train_loss = train_step(train_ds, batch_size_per_worker, model, num_classes, loss_fn, optimizer)\n",
    "        val_loss, _, _ = eval_step(val_ds, batch_size_per_worker, model, num_classes, loss_fn)\n",
    "        scheduler.step(val_loss)\n",
    "\n",
    "        # Checkpoint\n",
    "        metrics = dict(epoch=epoch, lr=optimizer.param_groups[0][\"lr\"], train_loss=train_loss, val_loss=val_loss)\n",
    "        checkpoint = TorchCheckpoint.from_model(model=model)\n",
    "        session.report(metrics, checkpoint=checkpoint)"
   ]
  },
  {
   "cell_type": "markdown",
   "metadata": {},
   "source": [
    "Our dataset doesn't suffer from horrible class imbalance, but if it did, we could easily account for it through our loss function. There are also other strategies such as [over-sampling](https://imbalanced-learn.org/stable/over_sampling.html) less frequent classes and [under-sampling](https://imbalanced-learn.org/stable/under_sampling.html) popular classes.\n",
    "\n",
    "```python\n",
    "# Class weights\n",
    "batch_counts = []\n",
    "for batch in train_ds.iter_torch_batches(batch_size=256, collate_fn=collate_fn):\n",
    "    batch_counts.append(np.bincount(batch[\"targets\"].cpu().numpy()))\n",
    "counts = [sum(count) for count in zip(*batch_counts)]\n",
    "class_weights = np.array([1.0/count for i, count in enumerate(counts)])\n",
    "class_weights_tensor = torch.Tensor(class_weights).to(get_device())\n",
    "\n",
    "# Training components\n",
    "loss_fn = nn.BCEWithLogitsLoss(weight=class_weights_tensor)\n",
    "...\n",
    "```"
   ]
  },
  {
   "cell_type": "markdown",
   "metadata": {},
   "source": [
    "## 🗂️&nbsp; Configurations"
   ]
  },
  {
   "cell_type": "code",
   "execution_count": 55,
   "metadata": {
    "tags": []
   },
   "outputs": [],
   "source": [
    "# Train loop config\n",
    "train_loop_config = {\n",
    "    \"dropout_p\": 0.5,\n",
    "    \"lr\": 1e-4,\n",
    "    \"lr_factor\": 0.8,\n",
    "    \"lr_patience\": 3,\n",
    "    \"num_epochs\": 10,\n",
    "    \"batch_size\": 256,\n",
    "    \"num_classes\": num_classes,\n",
    "}"
   ]
  },
  {
   "cell_type": "code",
   "execution_count": 56,
   "metadata": {
    "tags": []
   },
   "outputs": [],
   "source": [
    "# Scaling config\n",
    "scaling_config = ScalingConfig(\n",
    "    num_workers=num_workers,\n",
    "    use_gpu=bool(resources_per_worker[\"GPU\"]),\n",
    "    resources_per_worker=resources_per_worker,\n",
    "    _max_cpu_fraction_per_node=0.8,\n",
    ")"
   ]
  },
  {
   "cell_type": "code",
   "execution_count": 57,
   "metadata": {
    "tags": []
   },
   "outputs": [],
   "source": [
    "# Run config\n",
    "checkpoint_config = CheckpointConfig(num_to_keep=1, checkpoint_score_attribute=\"val_loss\", checkpoint_score_order=\"min\")\n",
    "run_config = RunConfig(name=\"llm\", checkpoint_config=checkpoint_config, local_dir=\"~/ray_results\")"
   ]
  },
  {
   "cell_type": "markdown",
   "metadata": {},
   "source": [
    "## 🚂&nbsp; Training"
   ]
  },
  {
   "cell_type": "code",
   "execution_count": 58,
   "metadata": {
    "tags": []
   },
   "outputs": [
    {
     "name": "stderr",
     "output_type": "stream",
     "text": [
      "2023-09-08 22:31:30,786\tINFO read_api.py:374 -- To satisfy the requested parallelism of 16, each read task output will be split into 16 smaller blocks.\n",
      "2023-09-08 22:31:30,789\tINFO streaming_executor.py:92 -- Executing DAG InputDataBuffer[Input] -> TaskPoolMapOperator[ReadCSV->SplitBlocks(16)] -> AllToAllOperator[RandomShuffle] -> LimitOperator[limit=1]\n",
      "2023-09-08 22:31:30,790\tINFO streaming_executor.py:93 -- Execution config: ExecutionOptions(resource_limits=ExecutionResources(cpu=None, gpu=None, object_store_memory=None), locality_with_output=False, preserve_order=True, actor_locality_enabled=True, verbose_progress=False)\n",
      "2023-09-08 22:31:30,790\tINFO streaming_executor.py:95 -- Tip: For detailed progress reporting, run `ray.data.DataContext.get_current().execution_options.verbose_progress = True`\n"
     ]
    },
    {
     "data": {
      "application/vnd.jupyter.widget-view+json": {
       "model_id": "",
       "version_major": 2,
       "version_minor": 0
      },
      "text/plain": [
       "- RandomShuffle 1:   0%|          | 0/16 [00:00<?, ?it/s]"
      ]
     },
     "metadata": {},
     "output_type": "display_data"
    },
    {
     "data": {
      "application/vnd.jupyter.widget-view+json": {
       "model_id": "",
       "version_major": 2,
       "version_minor": 0
      },
      "text/plain": [
       "Shuffle Map 2:   0%|          | 0/16 [00:00<?, ?it/s]"
      ]
     },
     "metadata": {},
     "output_type": "display_data"
    },
    {
     "data": {
      "application/vnd.jupyter.widget-view+json": {
       "model_id": "",
       "version_major": 2,
       "version_minor": 0
      },
      "text/plain": [
       "Shuffle Reduce 3:   0%|          | 0/16 [00:00<?, ?it/s]"
      ]
     },
     "metadata": {},
     "output_type": "display_data"
    },
    {
     "data": {
      "application/vnd.jupyter.widget-view+json": {
       "model_id": "",
       "version_major": 2,
       "version_minor": 0
      },
      "text/plain": [
       "Running 0:   0%|          | 0/1 [00:00<?, ?it/s]"
      ]
     },
     "metadata": {},
     "output_type": "display_data"
    }
   ],
   "source": [
    "# Dataset\n",
    "ds = load_data()\n",
    "train_ds, val_ds = stratify_split(ds, stratify=\"tag\", test_size=test_size)"
   ]
  },
  {
   "cell_type": "code",
   "execution_count": 59,
   "metadata": {
    "tags": []
   },
   "outputs": [
    {
     "name": "stderr",
     "output_type": "stream",
     "text": [
      "2023-09-08 22:31:30,981\tINFO streaming_executor.py:92 -- Executing DAG InputDataBuffer[Input] -> TaskPoolMapOperator[ReadCSV->SplitBlocks(16)] -> AllToAllOperator[RandomShuffle] -> AllToAllOperator[Sort] -> AllToAllOperator[MapBatches(group_fn)->MapBatches(_filter_split)->RandomShuffle] -> LimitOperator[limit=1]\n",
      "2023-09-08 22:31:30,982\tINFO streaming_executor.py:93 -- Execution config: ExecutionOptions(resource_limits=ExecutionResources(cpu=None, gpu=None, object_store_memory=None), locality_with_output=False, preserve_order=True, actor_locality_enabled=True, verbose_progress=False)\n",
      "2023-09-08 22:31:30,982\tINFO streaming_executor.py:95 -- Tip: For detailed progress reporting, run `ray.data.DataContext.get_current().execution_options.verbose_progress = True`\n"
     ]
    },
    {
     "data": {
      "application/vnd.jupyter.widget-view+json": {
       "model_id": "",
       "version_major": 2,
       "version_minor": 0
      },
      "text/plain": [
       "- RandomShuffle 1:   0%|          | 0/16 [00:00<?, ?it/s]"
      ]
     },
     "metadata": {},
     "output_type": "display_data"
    },
    {
     "data": {
      "application/vnd.jupyter.widget-view+json": {
       "model_id": "",
       "version_major": 2,
       "version_minor": 0
      },
      "text/plain": [
       "Shuffle Map 2:   0%|          | 0/16 [00:00<?, ?it/s]"
      ]
     },
     "metadata": {},
     "output_type": "display_data"
    },
    {
     "data": {
      "application/vnd.jupyter.widget-view+json": {
       "model_id": "",
       "version_major": 2,
       "version_minor": 0
      },
      "text/plain": [
       "Shuffle Reduce 3:   0%|          | 0/16 [00:00<?, ?it/s]"
      ]
     },
     "metadata": {},
     "output_type": "display_data"
    },
    {
     "data": {
      "application/vnd.jupyter.widget-view+json": {
       "model_id": "",
       "version_major": 2,
       "version_minor": 0
      },
      "text/plain": [
       "- Sort 4:   0%|          | 0/16 [00:00<?, ?it/s]"
      ]
     },
     "metadata": {},
     "output_type": "display_data"
    },
    {
     "data": {
      "application/vnd.jupyter.widget-view+json": {
       "model_id": "",
       "version_major": 2,
       "version_minor": 0
      },
      "text/plain": [
       "Sort Sample 5:   0%|          | 0/16 [00:00<?, ?it/s]"
      ]
     },
     "metadata": {},
     "output_type": "display_data"
    },
    {
     "data": {
      "application/vnd.jupyter.widget-view+json": {
       "model_id": "",
       "version_major": 2,
       "version_minor": 0
      },
      "text/plain": [
       "Shuffle Map 6:   0%|          | 0/16 [00:00<?, ?it/s]"
      ]
     },
     "metadata": {},
     "output_type": "display_data"
    },
    {
     "data": {
      "application/vnd.jupyter.widget-view+json": {
       "model_id": "",
       "version_major": 2,
       "version_minor": 0
      },
      "text/plain": [
       "Shuffle Reduce 7:   0%|          | 0/16 [00:00<?, ?it/s]"
      ]
     },
     "metadata": {},
     "output_type": "display_data"
    },
    {
     "data": {
      "application/vnd.jupyter.widget-view+json": {
       "model_id": "",
       "version_major": 2,
       "version_minor": 0
      },
      "text/plain": [
       "- MapBatches(group_fn)->MapBatches(_filter_split)->RandomShuffle 8:   0%|          | 0/16 [00:00<?, ?it/s]"
      ]
     },
     "metadata": {},
     "output_type": "display_data"
    },
    {
     "data": {
      "application/vnd.jupyter.widget-view+json": {
       "model_id": "",
       "version_major": 2,
       "version_minor": 0
      },
      "text/plain": [
       "Shuffle Map 9:   0%|          | 0/16 [00:00<?, ?it/s]"
      ]
     },
     "metadata": {},
     "output_type": "display_data"
    },
    {
     "data": {
      "application/vnd.jupyter.widget-view+json": {
       "model_id": "",
       "version_major": 2,
       "version_minor": 0
      },
      "text/plain": [
       "Shuffle Reduce 10:   0%|          | 0/16 [00:00<?, ?it/s]"
      ]
     },
     "metadata": {},
     "output_type": "display_data"
    },
    {
     "data": {
      "application/vnd.jupyter.widget-view+json": {
       "model_id": "",
       "version_major": 2,
       "version_minor": 0
      },
      "text/plain": [
       "Running 0:   0%|          | 0/1 [00:00<?, ?it/s]"
      ]
     },
     "metadata": {},
     "output_type": "display_data"
    },
    {
     "data": {
      "application/vnd.jupyter.widget-view+json": {
       "model_id": "",
       "version_major": 2,
       "version_minor": 0
      },
      "text/plain": [
       "Sort Sample 0:   0%|          | 0/16 [00:00<?, ?it/s]"
      ]
     },
     "metadata": {},
     "output_type": "display_data"
    },
    {
     "name": "stderr",
     "output_type": "stream",
     "text": [
      "2023-09-08 22:31:31,422\tINFO streaming_executor.py:92 -- Executing DAG InputDataBuffer[Input] -> TaskPoolMapOperator[ReadCSV->SplitBlocks(16)] -> AllToAllOperator[RandomShuffle] -> AllToAllOperator[Sort] -> AllToAllOperator[MapBatches(group_fn)->MapBatches(_filter_split)->RandomShuffle] -> AllToAllOperator[Aggregate] -> TaskPoolMapOperator[MapBatches(<lambda>)]\n",
      "2023-09-08 22:31:31,423\tINFO streaming_executor.py:93 -- Execution config: ExecutionOptions(resource_limits=ExecutionResources(cpu=None, gpu=None, object_store_memory=None), locality_with_output=False, preserve_order=True, actor_locality_enabled=True, verbose_progress=False)\n",
      "2023-09-08 22:31:31,423\tINFO streaming_executor.py:95 -- Tip: For detailed progress reporting, run `ray.data.DataContext.get_current().execution_options.verbose_progress = True`\n"
     ]
    },
    {
     "data": {
      "application/vnd.jupyter.widget-view+json": {
       "model_id": "",
       "version_major": 2,
       "version_minor": 0
      },
      "text/plain": [
       "- RandomShuffle 1:   0%|          | 0/16 [00:00<?, ?it/s]"
      ]
     },
     "metadata": {},
     "output_type": "display_data"
    },
    {
     "data": {
      "application/vnd.jupyter.widget-view+json": {
       "model_id": "",
       "version_major": 2,
       "version_minor": 0
      },
      "text/plain": [
       "Shuffle Map 2:   0%|          | 0/16 [00:00<?, ?it/s]"
      ]
     },
     "metadata": {},
     "output_type": "display_data"
    },
    {
     "data": {
      "application/vnd.jupyter.widget-view+json": {
       "model_id": "",
       "version_major": 2,
       "version_minor": 0
      },
      "text/plain": [
       "Shuffle Reduce 3:   0%|          | 0/16 [00:00<?, ?it/s]"
      ]
     },
     "metadata": {},
     "output_type": "display_data"
    },
    {
     "data": {
      "application/vnd.jupyter.widget-view+json": {
       "model_id": "",
       "version_major": 2,
       "version_minor": 0
      },
      "text/plain": [
       "- Sort 4:   0%|          | 0/16 [00:00<?, ?it/s]"
      ]
     },
     "metadata": {},
     "output_type": "display_data"
    },
    {
     "data": {
      "application/vnd.jupyter.widget-view+json": {
       "model_id": "",
       "version_major": 2,
       "version_minor": 0
      },
      "text/plain": [
       "Sort Sample 5:   0%|          | 0/16 [00:00<?, ?it/s]"
      ]
     },
     "metadata": {},
     "output_type": "display_data"
    },
    {
     "data": {
      "application/vnd.jupyter.widget-view+json": {
       "model_id": "",
       "version_major": 2,
       "version_minor": 0
      },
      "text/plain": [
       "Shuffle Map 6:   0%|          | 0/16 [00:00<?, ?it/s]"
      ]
     },
     "metadata": {},
     "output_type": "display_data"
    },
    {
     "data": {
      "application/vnd.jupyter.widget-view+json": {
       "model_id": "",
       "version_major": 2,
       "version_minor": 0
      },
      "text/plain": [
       "Shuffle Reduce 7:   0%|          | 0/16 [00:00<?, ?it/s]"
      ]
     },
     "metadata": {},
     "output_type": "display_data"
    },
    {
     "data": {
      "application/vnd.jupyter.widget-view+json": {
       "model_id": "",
       "version_major": 2,
       "version_minor": 0
      },
      "text/plain": [
       "- MapBatches(group_fn)->MapBatches(_filter_split)->RandomShuffle 8:   0%|          | 0/16 [00:00<?, ?it/s]"
      ]
     },
     "metadata": {},
     "output_type": "display_data"
    },
    {
     "data": {
      "application/vnd.jupyter.widget-view+json": {
       "model_id": "",
       "version_major": 2,
       "version_minor": 0
      },
      "text/plain": [
       "Shuffle Map 9:   0%|          | 0/16 [00:00<?, ?it/s]"
      ]
     },
     "metadata": {},
     "output_type": "display_data"
    },
    {
     "data": {
      "application/vnd.jupyter.widget-view+json": {
       "model_id": "",
       "version_major": 2,
       "version_minor": 0
      },
      "text/plain": [
       "Shuffle Reduce 10:   0%|          | 0/16 [00:00<?, ?it/s]"
      ]
     },
     "metadata": {},
     "output_type": "display_data"
    },
    {
     "data": {
      "application/vnd.jupyter.widget-view+json": {
       "model_id": "",
       "version_major": 2,
       "version_minor": 0
      },
      "text/plain": [
       "- Aggregate 11:   0%|          | 0/16 [00:00<?, ?it/s]"
      ]
     },
     "metadata": {},
     "output_type": "display_data"
    },
    {
     "data": {
      "application/vnd.jupyter.widget-view+json": {
       "model_id": "",
       "version_major": 2,
       "version_minor": 0
      },
      "text/plain": [
       "Shuffle Map 12:   0%|          | 0/16 [00:00<?, ?it/s]"
      ]
     },
     "metadata": {},
     "output_type": "display_data"
    },
    {
     "data": {
      "application/vnd.jupyter.widget-view+json": {
       "model_id": "",
       "version_major": 2,
       "version_minor": 0
      },
      "text/plain": [
       "Shuffle Reduce 13:   0%|          | 0/16 [00:00<?, ?it/s]"
      ]
     },
     "metadata": {},
     "output_type": "display_data"
    },
    {
     "data": {
      "application/vnd.jupyter.widget-view+json": {
       "model_id": "",
       "version_major": 2,
       "version_minor": 0
      },
      "text/plain": [
       "Running 0:   0%|          | 0/16 [00:00<?, ?it/s]"
      ]
     },
     "metadata": {},
     "output_type": "display_data"
    },
    {
     "data": {
      "application/vnd.jupyter.widget-view+json": {
       "model_id": "",
       "version_major": 2,
       "version_minor": 0
      },
      "text/plain": [
       "Sort Sample 0:   0%|          | 0/16 [00:00<?, ?it/s]"
      ]
     },
     "metadata": {},
     "output_type": "display_data"
    },
    {
     "data": {
      "application/vnd.jupyter.widget-view+json": {
       "model_id": "",
       "version_major": 2,
       "version_minor": 0
      },
      "text/plain": [
       "Sort Sample 0:   0%|          | 0/16 [00:00<?, ?it/s]"
      ]
     },
     "metadata": {},
     "output_type": "display_data"
    },
    {
     "name": "stderr",
     "output_type": "stream",
     "text": [
      "2023-09-08 22:31:31,892\tINFO streaming_executor.py:92 -- Executing DAG InputDataBuffer[Input] -> TaskPoolMapOperator[ReadCSV->SplitBlocks(16)] -> AllToAllOperator[RandomShuffle] -> AllToAllOperator[Sort] -> AllToAllOperator[MapBatches(group_fn)->MapBatches(_filter_split)->RandomShuffle] -> TaskPoolMapOperator[MapBatches(CustomPreprocessor._transform_pandas)]\n",
      "2023-09-08 22:31:31,892\tINFO streaming_executor.py:93 -- Execution config: ExecutionOptions(resource_limits=ExecutionResources(cpu=None, gpu=None, object_store_memory=None), locality_with_output=False, preserve_order=True, actor_locality_enabled=True, verbose_progress=False)\n",
      "2023-09-08 22:31:31,893\tINFO streaming_executor.py:95 -- Tip: For detailed progress reporting, run `ray.data.DataContext.get_current().execution_options.verbose_progress = True`\n"
     ]
    },
    {
     "data": {
      "application/vnd.jupyter.widget-view+json": {
       "model_id": "",
       "version_major": 2,
       "version_minor": 0
      },
      "text/plain": [
       "- RandomShuffle 1:   0%|          | 0/16 [00:00<?, ?it/s]"
      ]
     },
     "metadata": {},
     "output_type": "display_data"
    },
    {
     "data": {
      "application/vnd.jupyter.widget-view+json": {
       "model_id": "",
       "version_major": 2,
       "version_minor": 0
      },
      "text/plain": [
       "Shuffle Map 2:   0%|          | 0/16 [00:00<?, ?it/s]"
      ]
     },
     "metadata": {},
     "output_type": "display_data"
    },
    {
     "data": {
      "application/vnd.jupyter.widget-view+json": {
       "model_id": "",
       "version_major": 2,
       "version_minor": 0
      },
      "text/plain": [
       "Shuffle Reduce 3:   0%|          | 0/16 [00:00<?, ?it/s]"
      ]
     },
     "metadata": {},
     "output_type": "display_data"
    },
    {
     "data": {
      "application/vnd.jupyter.widget-view+json": {
       "model_id": "",
       "version_major": 2,
       "version_minor": 0
      },
      "text/plain": [
       "- Sort 4:   0%|          | 0/16 [00:00<?, ?it/s]"
      ]
     },
     "metadata": {},
     "output_type": "display_data"
    },
    {
     "data": {
      "application/vnd.jupyter.widget-view+json": {
       "model_id": "",
       "version_major": 2,
       "version_minor": 0
      },
      "text/plain": [
       "Sort Sample 5:   0%|          | 0/16 [00:00<?, ?it/s]"
      ]
     },
     "metadata": {},
     "output_type": "display_data"
    },
    {
     "data": {
      "application/vnd.jupyter.widget-view+json": {
       "model_id": "",
       "version_major": 2,
       "version_minor": 0
      },
      "text/plain": [
       "Shuffle Map 6:   0%|          | 0/16 [00:00<?, ?it/s]"
      ]
     },
     "metadata": {},
     "output_type": "display_data"
    },
    {
     "data": {
      "application/vnd.jupyter.widget-view+json": {
       "model_id": "",
       "version_major": 2,
       "version_minor": 0
      },
      "text/plain": [
       "Shuffle Reduce 7:   0%|          | 0/16 [00:00<?, ?it/s]"
      ]
     },
     "metadata": {},
     "output_type": "display_data"
    },
    {
     "data": {
      "application/vnd.jupyter.widget-view+json": {
       "model_id": "",
       "version_major": 2,
       "version_minor": 0
      },
      "text/plain": [
       "- MapBatches(group_fn)->MapBatches(_filter_split)->RandomShuffle 8:   0%|          | 0/16 [00:00<?, ?it/s]"
      ]
     },
     "metadata": {},
     "output_type": "display_data"
    },
    {
     "data": {
      "application/vnd.jupyter.widget-view+json": {
       "model_id": "",
       "version_major": 2,
       "version_minor": 0
      },
      "text/plain": [
       "Shuffle Map 9:   0%|          | 0/16 [00:00<?, ?it/s]"
      ]
     },
     "metadata": {},
     "output_type": "display_data"
    },
    {
     "data": {
      "application/vnd.jupyter.widget-view+json": {
       "model_id": "",
       "version_major": 2,
       "version_minor": 0
      },
      "text/plain": [
       "Shuffle Reduce 10:   0%|          | 0/16 [00:00<?, ?it/s]"
      ]
     },
     "metadata": {},
     "output_type": "display_data"
    },
    {
     "data": {
      "application/vnd.jupyter.widget-view+json": {
       "model_id": "",
       "version_major": 2,
       "version_minor": 0
      },
      "text/plain": [
       "Running 0:   0%|          | 0/16 [00:00<?, ?it/s]"
      ]
     },
     "metadata": {},
     "output_type": "display_data"
    },
    {
     "data": {
      "application/vnd.jupyter.widget-view+json": {
       "model_id": "",
       "version_major": 2,
       "version_minor": 0
      },
      "text/plain": [
       "Sort Sample 0:   0%|          | 0/16 [00:00<?, ?it/s]"
      ]
     },
     "metadata": {},
     "output_type": "display_data"
    },
    {
     "name": "stderr",
     "output_type": "stream",
     "text": [
      "2023-09-08 22:31:33,801\tINFO streaming_executor.py:92 -- Executing DAG InputDataBuffer[Input] -> TaskPoolMapOperator[ReadCSV->SplitBlocks(16)] -> AllToAllOperator[RandomShuffle] -> AllToAllOperator[Sort] -> AllToAllOperator[MapBatches(group_fn)->MapBatches(_filter_split)->RandomShuffle] -> TaskPoolMapOperator[MapBatches(CustomPreprocessor._transform_pandas)]\n",
      "2023-09-08 22:31:33,802\tINFO streaming_executor.py:93 -- Execution config: ExecutionOptions(resource_limits=ExecutionResources(cpu=None, gpu=None, object_store_memory=None), locality_with_output=False, preserve_order=True, actor_locality_enabled=True, verbose_progress=False)\n",
      "2023-09-08 22:31:33,802\tINFO streaming_executor.py:95 -- Tip: For detailed progress reporting, run `ray.data.DataContext.get_current().execution_options.verbose_progress = True`\n"
     ]
    },
    {
     "data": {
      "application/vnd.jupyter.widget-view+json": {
       "model_id": "",
       "version_major": 2,
       "version_minor": 0
      },
      "text/plain": [
       "- RandomShuffle 1:   0%|          | 0/16 [00:00<?, ?it/s]"
      ]
     },
     "metadata": {},
     "output_type": "display_data"
    },
    {
     "data": {
      "application/vnd.jupyter.widget-view+json": {
       "model_id": "",
       "version_major": 2,
       "version_minor": 0
      },
      "text/plain": [
       "Shuffle Map 2:   0%|          | 0/16 [00:00<?, ?it/s]"
      ]
     },
     "metadata": {},
     "output_type": "display_data"
    },
    {
     "data": {
      "application/vnd.jupyter.widget-view+json": {
       "model_id": "",
       "version_major": 2,
       "version_minor": 0
      },
      "text/plain": [
       "Shuffle Reduce 3:   0%|          | 0/16 [00:00<?, ?it/s]"
      ]
     },
     "metadata": {},
     "output_type": "display_data"
    },
    {
     "data": {
      "application/vnd.jupyter.widget-view+json": {
       "model_id": "",
       "version_major": 2,
       "version_minor": 0
      },
      "text/plain": [
       "- Sort 4:   0%|          | 0/16 [00:00<?, ?it/s]"
      ]
     },
     "metadata": {},
     "output_type": "display_data"
    },
    {
     "data": {
      "application/vnd.jupyter.widget-view+json": {
       "model_id": "",
       "version_major": 2,
       "version_minor": 0
      },
      "text/plain": [
       "Sort Sample 5:   0%|          | 0/16 [00:00<?, ?it/s]"
      ]
     },
     "metadata": {},
     "output_type": "display_data"
    },
    {
     "data": {
      "application/vnd.jupyter.widget-view+json": {
       "model_id": "",
       "version_major": 2,
       "version_minor": 0
      },
      "text/plain": [
       "Shuffle Map 6:   0%|          | 0/16 [00:00<?, ?it/s]"
      ]
     },
     "metadata": {},
     "output_type": "display_data"
    },
    {
     "data": {
      "application/vnd.jupyter.widget-view+json": {
       "model_id": "9be27fe39f834626ab1a65a420358fc2",
       "version_major": 2,
       "version_minor": 0
      },
      "text/plain": [
       "Shuffle Reduce 7:   0%|          | 0/16 [00:00<?, ?it/s]"
      ]
     },
     "metadata": {},
     "output_type": "display_data"
    },
    {
     "data": {
      "application/vnd.jupyter.widget-view+json": {
       "model_id": "933c38e8e1b54b708249b6a186af69fb",
       "version_major": 2,
       "version_minor": 0
      },
      "text/plain": [
       "- MapBatches(group_fn)->MapBatches(_filter_split)->RandomShuffle 8:   0%|          | 0/16 [00:00<?, ?it/s]"
      ]
     },
     "metadata": {},
     "output_type": "display_data"
    },
    {
     "data": {
      "application/vnd.jupyter.widget-view+json": {
       "model_id": "161dd66a287a463b8cea542f4e9e644d",
       "version_major": 2,
       "version_minor": 0
      },
      "text/plain": [
       "Shuffle Map 9:   0%|          | 0/16 [00:00<?, ?it/s]"
      ]
     },
     "metadata": {},
     "output_type": "display_data"
    },
    {
     "data": {
      "application/vnd.jupyter.widget-view+json": {
       "model_id": "f3f76c21bfa34c1595a8a3b87ce62d8d",
       "version_major": 2,
       "version_minor": 0
      },
      "text/plain": [
       "Shuffle Reduce 10:   0%|          | 0/16 [00:00<?, ?it/s]"
      ]
     },
     "metadata": {},
     "output_type": "display_data"
    },
    {
     "data": {
      "application/vnd.jupyter.widget-view+json": {
       "model_id": "ac4e4fba0c404d2abdf20453185a135e",
       "version_major": 2,
       "version_minor": 0
      },
      "text/plain": [
       "Running 0:   0%|          | 0/16 [00:00<?, ?it/s]"
      ]
     },
     "metadata": {},
     "output_type": "display_data"
    },
    {
     "data": {
      "application/vnd.jupyter.widget-view+json": {
       "model_id": "3b980fdd9271439ba35279d02fe03d6f",
       "version_major": 2,
       "version_minor": 0
      },
      "text/plain": [
       "Sort Sample 0:   0%|          | 0/16 [00:00<?, ?it/s]"
      ]
     },
     "metadata": {},
     "output_type": "display_data"
    }
   ],
   "source": [
    "# Preprocess\n",
    "preprocessor = CustomPreprocessor()\n",
    "train_ds =  preprocessor.fit_transform(train_ds)\n",
    "val_ds = preprocessor.transform(val_ds)\n",
    "train_ds = train_ds.materialize()\n",
    "val_ds = val_ds.materialize()"
   ]
  },
  {
   "cell_type": "code",
   "execution_count": 60,
   "metadata": {
    "tags": []
   },
   "outputs": [],
   "source": [
    "# Dataset config\n",
    "dataset_config = {\n",
    "    \"train\": DatasetConfig(fit=False, transform=False, randomize_block_order=False),\n",
    "    \"val\": DatasetConfig(fit=False, transform=False, randomize_block_order=False),\n",
    "}"
   ]
  },
  {
   "cell_type": "code",
   "execution_count": 61,
   "metadata": {
    "tags": []
   },
   "outputs": [
    {
     "name": "stderr",
     "output_type": "stream",
     "text": [
      "2023-09-08 22:31:38,848\tWARNING data_parallel_trainer.py:278 -- The dict form of `dataset_config` is deprecated. Use the DataConfig class instead. Support for this will be dropped in a future release.\n",
      "2023-09-08 22:31:38,851\tWARNING base_trainer.py:205 -- The `preprocessor` arg to Trainer is deprecated. Apply preprocessor transformations ahead of time by calling `preprocessor.transform(ds)`. Support for the preprocessor arg will be dropped in a future release.\n"
     ]
    }
   ],
   "source": [
    "# Trainer\n",
    "trainer = TorchTrainer(\n",
    "    train_loop_per_worker=train_loop_per_worker,\n",
    "    train_loop_config=train_loop_config,\n",
    "    scaling_config=scaling_config,\n",
    "    run_config=run_config,\n",
    "    datasets={\"train\": train_ds, \"val\": val_ds},\n",
    "    dataset_config=dataset_config,\n",
    "    preprocessor=preprocessor,\n",
    ")"
   ]
  },
  {
   "cell_type": "code",
   "execution_count": null,
   "metadata": {
    "tags": []
   },
   "outputs": [
    {
     "data": {
      "text/html": [
       "<div class=\"tuneStatus\">\n",
       "  <div style=\"display: flex;flex-direction: row\">\n",
       "    <div style=\"display: flex;flex-direction: column;\">\n",
       "      <h3>Tune Status</h3>\n",
       "      <table>\n",
       "<tbody>\n",
       "<tr><td>Current time:</td><td>2023-09-08 22:41:39</td></tr>\n",
       "<tr><td>Running for: </td><td>00:10:00.88        </td></tr>\n",
       "<tr><td>Memory:      </td><td>6.8/8.0 GiB        </td></tr>\n",
       "</tbody>\n",
       "</table>\n",
       "    </div>\n",
       "    <div class=\"vDivider\"></div>\n",
       "    <div class=\"systemInfo\">\n",
       "      <h3>System Info</h3>\n",
       "      Using FIFO scheduling algorithm.<br>Logical resource usage: 0/8 CPUs, 0/0 GPUs\n",
       "    </div>\n",
       "    \n",
       "  </div>\n",
       "  <div class=\"hDivider\"></div>\n",
       "  <div class=\"trialStatus\">\n",
       "    <h3>Trial Status</h3>\n",
       "    <table>\n",
       "<thead>\n",
       "<tr><th>Trial name              </th><th>status  </th><th>loc  </th></tr>\n",
       "</thead>\n",
       "<tbody>\n",
       "<tr><td>TorchTrainer_6048a_00000</td><td>PENDING </td><td>     </td></tr>\n",
       "</tbody>\n",
       "</table>\n",
       "  </div>\n",
       "</div>\n",
       "<style>\n",
       ".tuneStatus {\n",
       "  color: var(--jp-ui-font-color1);\n",
       "}\n",
       ".tuneStatus .systemInfo {\n",
       "  display: flex;\n",
       "  flex-direction: column;\n",
       "}\n",
       ".tuneStatus td {\n",
       "  white-space: nowrap;\n",
       "}\n",
       ".tuneStatus .trialStatus {\n",
       "  display: flex;\n",
       "  flex-direction: column;\n",
       "}\n",
       ".tuneStatus h3 {\n",
       "  font-weight: bold;\n",
       "}\n",
       ".tuneStatus .hDivider {\n",
       "  border-bottom-width: var(--jp-border-width);\n",
       "  border-bottom-color: var(--jp-border-color0);\n",
       "  border-bottom-style: solid;\n",
       "}\n",
       ".tuneStatus .vDivider {\n",
       "  border-left-width: var(--jp-border-width);\n",
       "  border-left-color: var(--jp-border-color0);\n",
       "  border-left-style: solid;\n",
       "  margin: 0.5em 1em 0.5em 1em;\n",
       "}\n",
       "</style>\n"
      ],
      "text/plain": [
       "<IPython.core.display.HTML object>"
      ]
     },
     "metadata": {},
     "output_type": "display_data"
    },
    {
     "name": "stderr",
     "output_type": "stream",
     "text": [
      "2023-09-08 22:32:39,267\tWARNING insufficient_resources_manager.py:163 -- Ignore this message if the cluster is autoscaling. Training has not started in the last 60 seconds. This could be due to the cluster not having enough resources available. You asked for 17.0 CPUs and 0 GPUs, but the cluster only has 8.0 CPUs and 0 GPUs available. Stop the training and adjust the required resources (e.g. via the `ScalingConfig` or `resources_per_trial`, or `num_workers` for rllib), or add more resources to your cluster.\n",
      "2023-09-08 22:33:39,322\tWARNING insufficient_resources_manager.py:163 -- Ignore this message if the cluster is autoscaling. Training has not started in the last 60 seconds. This could be due to the cluster not having enough resources available. You asked for 17.0 CPUs and 0 GPUs, but the cluster only has 8.0 CPUs and 0 GPUs available. Stop the training and adjust the required resources (e.g. via the `ScalingConfig` or `resources_per_trial`, or `num_workers` for rllib), or add more resources to your cluster.\n",
      "2023-09-08 22:34:39,382\tWARNING insufficient_resources_manager.py:163 -- Ignore this message if the cluster is autoscaling. Training has not started in the last 60 seconds. This could be due to the cluster not having enough resources available. You asked for 17.0 CPUs and 0 GPUs, but the cluster only has 8.0 CPUs and 0 GPUs available. Stop the training and adjust the required resources (e.g. via the `ScalingConfig` or `resources_per_trial`, or `num_workers` for rllib), or add more resources to your cluster.\n",
      "2023-09-08 22:35:39,454\tWARNING insufficient_resources_manager.py:163 -- Ignore this message if the cluster is autoscaling. Training has not started in the last 60 seconds. This could be due to the cluster not having enough resources available. You asked for 17.0 CPUs and 0 GPUs, but the cluster only has 8.0 CPUs and 0 GPUs available. Stop the training and adjust the required resources (e.g. via the `ScalingConfig` or `resources_per_trial`, or `num_workers` for rllib), or add more resources to your cluster.\n",
      "2023-09-08 22:36:39,484\tWARNING insufficient_resources_manager.py:163 -- Ignore this message if the cluster is autoscaling. Training has not started in the last 60 seconds. This could be due to the cluster not having enough resources available. You asked for 17.0 CPUs and 0 GPUs, but the cluster only has 8.0 CPUs and 0 GPUs available. Stop the training and adjust the required resources (e.g. via the `ScalingConfig` or `resources_per_trial`, or `num_workers` for rllib), or add more resources to your cluster.\n",
      "2023-09-08 22:37:39,516\tWARNING insufficient_resources_manager.py:163 -- Ignore this message if the cluster is autoscaling. Training has not started in the last 60 seconds. This could be due to the cluster not having enough resources available. You asked for 17.0 CPUs and 0 GPUs, but the cluster only has 8.0 CPUs and 0 GPUs available. Stop the training and adjust the required resources (e.g. via the `ScalingConfig` or `resources_per_trial`, or `num_workers` for rllib), or add more resources to your cluster.\n",
      "2023-09-08 22:38:39,561\tWARNING insufficient_resources_manager.py:163 -- Ignore this message if the cluster is autoscaling. Training has not started in the last 60 seconds. This could be due to the cluster not having enough resources available. You asked for 17.0 CPUs and 0 GPUs, but the cluster only has 8.0 CPUs and 0 GPUs available. Stop the training and adjust the required resources (e.g. via the `ScalingConfig` or `resources_per_trial`, or `num_workers` for rllib), or add more resources to your cluster.\n",
      "2023-09-08 22:39:39,629\tWARNING insufficient_resources_manager.py:163 -- Ignore this message if the cluster is autoscaling. Training has not started in the last 60 seconds. This could be due to the cluster not having enough resources available. You asked for 17.0 CPUs and 0 GPUs, but the cluster only has 8.0 CPUs and 0 GPUs available. Stop the training and adjust the required resources (e.g. via the `ScalingConfig` or `resources_per_trial`, or `num_workers` for rllib), or add more resources to your cluster.\n",
      "2023-09-08 22:40:39,711\tWARNING insufficient_resources_manager.py:163 -- Ignore this message if the cluster is autoscaling. Training has not started in the last 60 seconds. This could be due to the cluster not having enough resources available. You asked for 17.0 CPUs and 0 GPUs, but the cluster only has 8.0 CPUs and 0 GPUs available. Stop the training and adjust the required resources (e.g. via the `ScalingConfig` or `resources_per_trial`, or `num_workers` for rllib), or add more resources to your cluster.\n",
      "2023-09-08 22:41:39,719\tWARNING insufficient_resources_manager.py:163 -- Ignore this message if the cluster is autoscaling. Training has not started in the last 60 seconds. This could be due to the cluster not having enough resources available. You asked for 17.0 CPUs and 0 GPUs, but the cluster only has 8.0 CPUs and 0 GPUs available. Stop the training and adjust the required resources (e.g. via the `ScalingConfig` or `resources_per_trial`, or `num_workers` for rllib), or add more resources to your cluster.\n"
     ]
    }
   ],
   "source": [
    "%%time\n",
    "# Train\n",
    "results = trainer.fit()"
   ]
  },
  {
   "cell_type": "code",
   "execution_count": null,
   "metadata": {
    "tags": []
   },
   "outputs": [],
   "source": [
    "# Metrics per epoch\n",
    "results.metrics_dataframe"
   ]
  },
  {
   "cell_type": "code",
   "execution_count": null,
   "metadata": {
    "tags": []
   },
   "outputs": [],
   "source": [
    "# Best checkpoints\n",
    "results.best_checkpoints"
   ]
  },
  {
   "cell_type": "markdown",
   "metadata": {},
   "source": [
    "### Evaluation"
   ]
  },
  {
   "cell_type": "code",
   "execution_count": null,
   "metadata": {
    "tags": []
   },
   "outputs": [],
   "source": [
    "from ray.train.torch.torch_predictor import TorchPredictor\n",
    "from sklearn.metrics import precision_recall_fscore_support"
   ]
  },
  {
   "cell_type": "code",
   "execution_count": null,
   "metadata": {
    "tags": []
   },
   "outputs": [],
   "source": [
    "# Predictor\n",
    "best_checkpoint = results.best_checkpoints[0][0]\n",
    "predictor = TorchPredictor.from_checkpoint(best_checkpoint)\n",
    "preprocessor = predictor.get_preprocessor()"
   ]
  },
  {
   "cell_type": "code",
   "execution_count": null,
   "metadata": {
    "tags": []
   },
   "outputs": [],
   "source": [
    "# Test (holdout) dataset\n",
    "HOLDOUT_LOC = \"https://raw.githubusercontent.com/GokuMohandas/Made-With-ML/main/datasets/holdout.csv\"\n",
    "test_ds = ray.data.read_csv(HOLDOUT_LOC)\n",
    "preprocessed_ds = preprocessor.transform(test_ds)\n",
    "preprocessed_ds.take(1)"
   ]
  },
  {
   "cell_type": "code",
   "execution_count": null,
   "metadata": {
    "tags": []
   },
   "outputs": [],
   "source": [
    "# y_true\n",
    "values = preprocessed_ds.select_columns(cols=[\"targets\"]).take_all()\n",
    "y_true = np.stack([item[\"targets\"] for item in values])\n",
    "print (y_true)"
   ]
  },
  {
   "cell_type": "code",
   "execution_count": null,
   "metadata": {
    "tags": []
   },
   "outputs": [],
   "source": [
    "# y_pred\n",
    "z = predictor.predict(data=test_ds.to_pandas())[\"predictions\"]\n",
    "y_pred = np.stack(z).argmax(1)\n",
    "print (y_pred)"
   ]
  },
  {
   "cell_type": "code",
   "execution_count": null,
   "metadata": {
    "tags": []
   },
   "outputs": [],
   "source": [
    "# Evaluate\n",
    "metrics = precision_recall_fscore_support(y_true, y_pred, average=\"weighted\")\n",
    "{\"precision\": metrics[0], \"recall\": metrics[1], \"f1\": metrics[2]}"
   ]
  },
  {
   "cell_type": "code",
   "execution_count": null,
   "metadata": {
    "tags": []
   },
   "outputs": [],
   "source": [
    "def evaluate(ds, predictor):\n",
    "    # y_true\n",
    "    preprocessor = predictor.get_preprocessor()\n",
    "    preprocessed_ds = preprocessor.transform(ds)\n",
    "    values = preprocessed_ds.select_columns(cols=[\"targets\"]).take_all()\n",
    "    y_true = np.stack([item[\"targets\"] for item in values])\n",
    "    \n",
    "    # y_pred\n",
    "    z = predictor.predict(data=test_ds.to_pandas())[\"predictions\"]\n",
    "    y_pred = np.stack(z).argmax(1)\n",
    "\n",
    "    # Evaluate\n",
    "    metrics = precision_recall_fscore_support(y_true, y_pred, average=\"weighted\")\n",
    "    performance = {\"precision\": metrics[0], \"recall\": metrics[1], \"f1\": metrics[2]}\n",
    "    return performance"
   ]
  },
  {
   "cell_type": "code",
   "execution_count": null,
   "metadata": {
    "tags": []
   },
   "outputs": [],
   "source": [
    "# Evaluate on test split\n",
    "performance = evaluate(ds=test_ds, predictor=predictor)\n",
    "print (json.dumps(performance, indent=2))"
   ]
  },
  {
   "cell_type": "markdown",
   "metadata": {},
   "source": [
    "### Inference"
   ]
  },
  {
   "cell_type": "code",
   "execution_count": null,
   "metadata": {
    "tags": []
   },
   "outputs": [],
   "source": [
    "import pandas as pd"
   ]
  },
  {
   "cell_type": "code",
   "execution_count": null,
   "metadata": {
    "tags": []
   },
   "outputs": [],
   "source": [
    "def format_prob(prob, index_to_class):\n",
    "    d = {}\n",
    "    for i, item in enumerate(prob):\n",
    "        d[index_to_class[i]] = item\n",
    "    return d"
   ]
  },
  {
   "cell_type": "code",
   "execution_count": null,
   "metadata": {
    "tags": []
   },
   "outputs": [],
   "source": [
    "def predict_with_proba(df, predictor):\n",
    "    preprocessor = predictor.get_preprocessor()\n",
    "    z = predictor.predict(data=df)[\"predictions\"]\n",
    "    y_prob = torch.tensor(np.stack(z)).softmax(dim=1).numpy()\n",
    "    results = []\n",
    "    for i, prob in enumerate(y_prob):\n",
    "        tag = decode([z[i].argmax()], preprocessor.index_to_class)[0]\n",
    "        results.append({\"prediction\": tag, \"probabilities\": format_prob(prob, preprocessor.index_to_class)})\n",
    "    return results"
   ]
  },
  {
   "cell_type": "code",
   "execution_count": null,
   "metadata": {
    "tags": []
   },
   "outputs": [],
   "source": [
    "# Predict on sample\n",
    "title = \"Transfer learning with transformers\"\n",
    "description = \"Using transformers for transfer learning on text classification tasks.\"\n",
    "sample_df = pd.DataFrame([{\"title\": title, \"description\": description, \"tag\": \"other\"}])\n",
    "predict_with_proba(df=sample_df, predictor=predictor)"
   ]
  },
  {
   "cell_type": "markdown",
   "metadata": {},
   "source": [
    "# 🧪 Experiment tracking"
   ]
  },
  {
   "cell_type": "markdown",
   "metadata": {},
   "source": [
    "So far, we've been training our models but we don't have a way to more deeply track and compare them. We'll achieve this but defining a proper process for experiment tracking which we'll use for all future experiments (including hyperparameter optimization). Experiment tracking is the processing of managing all the different experiments and their components, such as parameters, metrics, models and other artifacts and it enables us to:\n",
    "\n",
    "- **Organize** all the necessary components of a specific experiment. It's important to have everything in one place and know where it is so you can use them later.\n",
    "- **Reproduce** past results (easily) using saved experiments.\n",
    "- **Log** iterative improvements across time, data, ideas, teams, etc.\n",
    "\n",
    "There are many options for experiment tracking but we're going to use [MLflow](https://mlflow.org/) (100% free and [open-source](https://github.com/mlflow/mlflow)) because it has all the functionality we'll need (and [growing integration support](https://docs.ray.io/en/latest/tune/examples/tune-mlflow.html)). There are also several popular options such as a [Comet ML](https://www.comet.ml/site/) (Used by Google AI, HuggingFace, etc.) and [Weights and Biases](https://www.wandb.com/) (Used by Open AI, Toyota Research, etc.). These are fantastic options if you want a fully managed experiment tracking solution."
   ]
  },
  {
   "cell_type": "code",
   "execution_count": null,
   "metadata": {
    "tags": []
   },
   "outputs": [],
   "source": [
    "import mlflow\n",
    "from pathlib import Path\n",
    "from ray.air.integrations.mlflow import MLflowLoggerCallback\n",
    "import time"
   ]
  },
  {
   "cell_type": "code",
   "execution_count": null,
   "metadata": {
    "tags": []
   },
   "outputs": [],
   "source": [
    "# Config MLflow\n",
    "MODEL_REGISTRY = Path(\"/tmp/mlflow\")\n",
    "Path(MODEL_REGISTRY).mkdir(parents=True, exist_ok=True)\n",
    "MLFLOW_TRACKING_URI = \"file://\" + str(MODEL_REGISTRY.absolute())\n",
    "mlflow.set_tracking_uri(MLFLOW_TRACKING_URI)\n",
    "print (mlflow.get_tracking_uri())"
   ]
  },
  {
   "cell_type": "code",
   "execution_count": null,
   "metadata": {
    "tags": []
   },
   "outputs": [],
   "source": [
    "# MLflow callback\n",
    "experiment_name = f\"llm-{int(time.time())}\"\n",
    "mlflow_callback = MLflowLoggerCallback(\n",
    "    tracking_uri=MLFLOW_TRACKING_URI,\n",
    "    experiment_name=experiment_name,\n",
    "    save_artifact=True)"
   ]
  },
  {
   "cell_type": "code",
   "execution_count": null,
   "metadata": {
    "tags": []
   },
   "outputs": [],
   "source": [
    "# Run configuration with MLflow callback\n",
    "run_config = RunConfig(\n",
    "    callbacks=[mlflow_callback],\n",
    "    checkpoint_config=checkpoint_config,\n",
    ")"
   ]
  },
  {
   "cell_type": "code",
   "execution_count": null,
   "metadata": {
    "tags": []
   },
   "outputs": [],
   "source": [
    "# Dataset\n",
    "ds = load_data()\n",
    "train_ds, val_ds = stratify_split(ds, stratify=\"tag\", test_size=test_size)"
   ]
  },
  {
   "cell_type": "code",
   "execution_count": null,
   "metadata": {
    "tags": []
   },
   "outputs": [],
   "source": [
    "# Preprocess\n",
    "preprocessor = CustomPreprocessor()\n",
    "train_ds = preprocessor.fit_transform(train_ds)\n",
    "val_ds = preprocessor.transform(val_ds)\n",
    "train_ds = train_ds.materialize()\n",
    "val_ds = val_ds.materialize()"
   ]
  },
  {
   "cell_type": "code",
   "execution_count": null,
   "metadata": {
    "tags": []
   },
   "outputs": [],
   "source": [
    "# Trainer\n",
    "trainer = TorchTrainer(\n",
    "    train_loop_per_worker=train_loop_per_worker,\n",
    "    train_loop_config=train_loop_config,\n",
    "    scaling_config=scaling_config,\n",
    "    run_config=run_config,  # uses RunConfig with MLflow callback\n",
    "    datasets={\"train\": train_ds, \"val\": val_ds},\n",
    "    dataset_config=dataset_config,\n",
    "    preprocessor=preprocessor,\n",
    ")"
   ]
  },
  {
   "cell_type": "code",
   "execution_count": null,
   "metadata": {
    "tags": []
   },
   "outputs": [],
   "source": [
    "%%time\n",
    "# Train\n",
    "results = trainer.fit()"
   ]
  },
  {
   "cell_type": "code",
   "execution_count": null,
   "metadata": {
    "tags": []
   },
   "outputs": [],
   "source": [
    "results.metrics_dataframe"
   ]
  },
  {
   "cell_type": "code",
   "execution_count": null,
   "metadata": {
    "tags": []
   },
   "outputs": [],
   "source": [
    "# Sorted runs\n",
    "sorted_runs = mlflow.search_runs(experiment_names=[experiment_name], order_by=[\"metrics.val_loss ASC\"])\n",
    "sorted_runs"
   ]
  },
  {
   "cell_type": "code",
   "execution_count": null,
   "metadata": {
    "tags": []
   },
   "outputs": [],
   "source": [
    "# Best run\n",
    "best_run = sorted_runs.iloc[0]\n",
    "best_run"
   ]
  },
  {
   "cell_type": "markdown",
   "metadata": {},
   "source": [
    "### Dashboard"
   ]
  },
  {
   "cell_type": "markdown",
   "metadata": {},
   "source": [
    "Let's view what we've tracked from our experiment. MLFlow serves a dashboard for us to view and explore our experiments on a localhost port:\n",
    "\n",
    "```bash\n",
    "mlflow server -h 0.0.0.0 -p 8080 --backend-store-uri /tmp/mlflow/\n",
    "```"
   ]
  },
  {
   "cell_type": "markdown",
   "metadata": {},
   "source": [
    "MLFlow creates a main dashboard with all your experiments and their respective runs. We can sort runs by clicking on the column headers.\n",
    "\n",
    "<img src=\"https://madewithml.com/static/images/mlops/experiment_tracking/dashboard.png\" width=\"1000\" alt=\"mlflow runs\">\n",
    "\n",
    "And within each run, we can view metrics, parameters, artifacts, etc.\n",
    "\n",
    "<img src=\"https://madewithml.com/static/images/mlops/experiment_tracking/params.png\" width=\"1000\" alt=\"mlflow params\">\n",
    "\n",
    "And we can even create custom plots to help us visualize our results.\n",
    "\n",
    "<img src=\"https://madewithml.com/static/images/mlops/experiment_tracking/plots.png\" width=\"1000\" alt=\"mlflow plots\">"
   ]
  },
  {
   "cell_type": "markdown",
   "metadata": {},
   "source": [
    "### Loading"
   ]
  },
  {
   "cell_type": "code",
   "execution_count": null,
   "metadata": {
    "tags": []
   },
   "outputs": [],
   "source": [
    "from ray.air import Result\n",
    "from urllib.parse import urlparse"
   ]
  },
  {
   "cell_type": "code",
   "execution_count": null,
   "metadata": {
    "tags": []
   },
   "outputs": [],
   "source": [
    "def get_best_checkpoint(run_id):\n",
    "    artifact_dir = urlparse(mlflow.get_run(run_id).info.artifact_uri).path  # get path from mlflow\n",
    "    results = Result.from_path(artifact_dir)\n",
    "    return results.best_checkpoints[0][0]"
   ]
  },
  {
   "cell_type": "code",
   "execution_count": null,
   "metadata": {
    "tags": []
   },
   "outputs": [],
   "source": [
    "# Evaluate on test split\n",
    "best_checkpoint = get_best_checkpoint(run_id=best_run.run_id)\n",
    "predictor = TorchPredictor.from_checkpoint(best_checkpoint)\n",
    "performance = evaluate(ds=test_ds, predictor=predictor)\n",
    "print (json.dumps(performance, indent=2))"
   ]
  },
  {
   "cell_type": "code",
   "execution_count": null,
   "metadata": {
    "tags": []
   },
   "outputs": [],
   "source": [
    "# Preprocessor\n",
    "preprocessor = predictor.get_preprocessor()"
   ]
  },
  {
   "cell_type": "code",
   "execution_count": null,
   "metadata": {
    "tags": []
   },
   "outputs": [],
   "source": [
    "# Predict on sample\n",
    "title = \"Transfer learning with transformers\"\n",
    "description = \"Using transformers for transfer learning on text classification tasks.\"\n",
    "sample_df = pd.DataFrame([{\"title\": title, \"description\": description, \"tag\": \"other\"}])\n",
    "predict_with_proba(df=sample_df, predictor=predictor)"
   ]
  },
  {
   "cell_type": "markdown",
   "metadata": {},
   "source": [
    "# ⚙️&nbsp; Hyperparameter tuning"
   ]
  },
  {
   "cell_type": "code",
   "execution_count": null,
   "metadata": {
    "tags": []
   },
   "outputs": [],
   "source": [
    "from ray import tune\n",
    "from ray.tune import Tuner\n",
    "from ray.tune.schedulers import AsyncHyperBandScheduler\n",
    "from ray.tune.search import ConcurrencyLimiter\n",
    "from ray.tune.search.hyperopt import HyperOptSearch"
   ]
  },
  {
   "cell_type": "code",
   "execution_count": null,
   "metadata": {
    "tags": []
   },
   "outputs": [],
   "source": [
    "# Number of trials (small sample)\n",
    "num_runs = 2"
   ]
  },
  {
   "cell_type": "code",
   "execution_count": null,
   "metadata": {
    "tags": []
   },
   "outputs": [],
   "source": [
    "# Set up\n",
    "set_seeds()"
   ]
  },
  {
   "cell_type": "code",
   "execution_count": null,
   "metadata": {
    "tags": []
   },
   "outputs": [],
   "source": [
    "# Dataset\n",
    "ds = load_data()\n",
    "train_ds, val_ds = stratify_split(ds, stratify=\"tag\", test_size=test_size)"
   ]
  },
  {
   "cell_type": "code",
   "execution_count": null,
   "metadata": {
    "tags": []
   },
   "outputs": [],
   "source": [
    "# Preprocess\n",
    "preprocessor = CustomPreprocessor()\n",
    "train_ds = preprocessor.fit_transform(train_ds)\n",
    "val_ds = preprocessor.transform(val_ds)\n",
    "train_ds = train_ds.materialize()\n",
    "val_ds = val_ds.materialize()"
   ]
  },
  {
   "cell_type": "code",
   "execution_count": null,
   "metadata": {
    "tags": []
   },
   "outputs": [],
   "source": [
    "# Trainer\n",
    "trainer = TorchTrainer(\n",
    "    train_loop_per_worker=train_loop_per_worker,\n",
    "    train_loop_config=train_loop_config,\n",
    "    scaling_config=scaling_config,\n",
    "    datasets={\"train\": train_ds, \"val\": val_ds},\n",
    "    dataset_config=dataset_config,\n",
    "    preprocessor=preprocessor,\n",
    ")"
   ]
  },
  {
   "cell_type": "code",
   "execution_count": null,
   "metadata": {
    "tags": []
   },
   "outputs": [],
   "source": [
    "# MLflow callback\n",
    "mlflow_callback = MLflowLoggerCallback(\n",
    "    tracking_uri=MLFLOW_TRACKING_URI,\n",
    "    experiment_name=experiment_name,\n",
    "    save_artifact=True)"
   ]
  },
  {
   "cell_type": "code",
   "execution_count": null,
   "metadata": {
    "tags": []
   },
   "outputs": [],
   "source": [
    "# Run configuration\n",
    "checkpoint_config = CheckpointConfig(num_to_keep=1, checkpoint_score_attribute=\"val_loss\", checkpoint_score_order=\"min\")\n",
    "run_config = RunConfig(\n",
    "    callbacks=[mlflow_callback],\n",
    "    checkpoint_config=checkpoint_config\n",
    ")"
   ]
  },
  {
   "cell_type": "code",
   "execution_count": null,
   "metadata": {
    "tags": []
   },
   "outputs": [],
   "source": [
    "# Hyperparameters to start with\n",
    "initial_params = [{\"train_loop_config\": {\"dropout_p\": 0.5, \"lr\": 1e-4, \"lr_factor\": 0.8, \"lr_patience\": 3}}]\n",
    "search_alg = HyperOptSearch(points_to_evaluate=initial_params)\n",
    "search_alg = ConcurrencyLimiter(search_alg, max_concurrent=2)  # trade off b/w optimization and search space"
   ]
  },
  {
   "cell_type": "code",
   "execution_count": null,
   "metadata": {
    "tags": []
   },
   "outputs": [],
   "source": [
    "# Parameter space\n",
    "param_space = {\n",
    "    \"train_loop_config\": {\n",
    "        \"dropout_p\": tune.uniform(0.3, 0.9),\n",
    "        \"lr\": tune.loguniform(1e-5, 5e-4),\n",
    "        \"lr_factor\": tune.uniform(0.1, 0.9),\n",
    "        \"lr_patience\": tune.uniform(1, 10),\n",
    "    }\n",
    "}"
   ]
  },
  {
   "cell_type": "code",
   "execution_count": null,
   "metadata": {
    "tags": []
   },
   "outputs": [],
   "source": [
    "# Scheduler\n",
    "scheduler = AsyncHyperBandScheduler(\n",
    "    max_t=train_loop_config[\"num_epochs\"],  # max epoch (<time_attr>) per trial\n",
    "    grace_period=5,  # min epoch (<time_attr>) per trial\n",
    ")"
   ]
  },
  {
   "cell_type": "code",
   "execution_count": null,
   "metadata": {
    "tags": []
   },
   "outputs": [],
   "source": [
    "# Tune config\n",
    "tune_config = tune.TuneConfig(\n",
    "    metric=\"val_loss\",\n",
    "    mode=\"min\",\n",
    "    search_alg=search_alg,\n",
    "    scheduler=scheduler,\n",
    "    num_samples=num_runs,\n",
    ")"
   ]
  },
  {
   "cell_type": "code",
   "execution_count": null,
   "metadata": {
    "tags": []
   },
   "outputs": [],
   "source": [
    "# Tuner\n",
    "tuner = Tuner(\n",
    "    trainable=trainer,\n",
    "    run_config=run_config,\n",
    "    param_space=param_space,\n",
    "    tune_config=tune_config,\n",
    ")"
   ]
  },
  {
   "cell_type": "code",
   "execution_count": null,
   "metadata": {
    "tags": []
   },
   "outputs": [],
   "source": [
    "%%time\n",
    "# Tune\n",
    "results = tuner.fit()"
   ]
  },
  {
   "cell_type": "code",
   "execution_count": null,
   "metadata": {
    "tags": []
   },
   "outputs": [],
   "source": [
    "# All trials in experiment\n",
    "results.get_dataframe()"
   ]
  },
  {
   "cell_type": "code",
   "execution_count": null,
   "metadata": {
    "tags": []
   },
   "outputs": [],
   "source": [
    "# Best trial's epochs\n",
    "best_trial = results.get_best_result(metric=\"val_loss\", mode=\"min\")\n",
    "best_trial.metrics_dataframe"
   ]
  },
  {
   "cell_type": "code",
   "execution_count": null,
   "metadata": {
    "tags": []
   },
   "outputs": [],
   "source": [
    "# Best trial's hyperparameters\n",
    "best_trial.config[\"train_loop_config\"]"
   ]
  },
  {
   "cell_type": "code",
   "execution_count": null,
   "metadata": {
    "tags": []
   },
   "outputs": [],
   "source": [
    "# Sorted runs\n",
    "sorted_runs = mlflow.search_runs(experiment_names=[experiment_name], order_by=[\"metrics.val_loss ASC\"])\n",
    "sorted_runs"
   ]
  },
  {
   "cell_type": "code",
   "execution_count": null,
   "metadata": {
    "tags": []
   },
   "outputs": [],
   "source": [
    "# Evaluate on test split\n",
    "run_id = sorted_runs.iloc[0].run_id\n",
    "best_checkpoint = get_best_checkpoint(run_id=run_id)\n",
    "predictor = TorchPredictor.from_checkpoint(best_checkpoint)\n",
    "performance = evaluate(ds=test_ds, predictor=predictor)\n",
    "print (json.dumps(performance, indent=2))"
   ]
  },
  {
   "cell_type": "code",
   "execution_count": null,
   "metadata": {
    "tags": []
   },
   "outputs": [],
   "source": [
    "# Preprocessor\n",
    "preprocessor = predictor.get_preprocessor()"
   ]
  },
  {
   "cell_type": "code",
   "execution_count": null,
   "metadata": {
    "tags": []
   },
   "outputs": [],
   "source": [
    "# Predict on sample\n",
    "title = \"Transfer learning with transformers\"\n",
    "description = \"Using transformers for transfer learning on text classification tasks.\"\n",
    "sample_df = pd.DataFrame([{\"title\": title, \"description\": description, \"tag\": \"other\"}])\n",
    "predict_with_proba(df=sample_df, predictor=predictor)"
   ]
  },
  {
   "cell_type": "markdown",
   "metadata": {
    "id": "9ofaM94omwgY"
   },
   "source": [
    "# ⚖️&nbsp; Evaluation"
   ]
  },
  {
   "cell_type": "markdown",
   "metadata": {
    "id": "nsj8_EUEmynv"
   },
   "source": [
    "So far we've been evaluating our models by determing the overall precision, recall and f1 scores. But since performance is one of the key decision making factors when comparing different models, we should have even more nuanced evaluation strategies.\n",
    "\n",
    "- Coarse-grained metrics\n",
    "- Fine-grained metrics\n",
    "- Confusion matrix\n",
    "- Confidence learning\n",
    "- Slice metrics"
   ]
  },
  {
   "cell_type": "code",
   "execution_count": null,
   "metadata": {
    "id": "h51AAn1Fu4b5",
    "tags": []
   },
   "outputs": [],
   "source": [
    "# Metrics\n",
    "metrics = {\"overall\": {}, \"class\": {}}"
   ]
  },
  {
   "cell_type": "code",
   "execution_count": null,
   "metadata": {
    "id": "H8BgzzHBZNMn",
    "tags": []
   },
   "outputs": [],
   "source": [
    "# y_test\n",
    "preprocessor = predictor.get_preprocessor()\n",
    "preprocessed_ds = preprocessor.transform(test_ds)\n",
    "values = preprocessed_ds.select_columns(cols=[\"targets\"]).take_all()\n",
    "y_test = np.stack([item[\"targets\"] for item in values])"
   ]
  },
  {
   "cell_type": "code",
   "execution_count": null,
   "metadata": {
    "tags": []
   },
   "outputs": [],
   "source": [
    "# y_pred\n",
    "test_df = test_ds.to_pandas()\n",
    "z = predictor.predict(data=test_df)[\"predictions\"]  # adds text column (in-memory)\n",
    "y_pred = np.stack(z).argmax(1)"
   ]
  },
  {
   "cell_type": "code",
   "execution_count": null,
   "metadata": {
    "tags": []
   },
   "outputs": [],
   "source": [
    "# y_prob\n",
    "y_prob = torch.tensor(np.stack(z)).softmax(dim=1).numpy()\n",
    "print (np.shape(y_test))\n",
    "print (np.shape(y_prob))"
   ]
  },
  {
   "cell_type": "code",
   "execution_count": null,
   "metadata": {
    "tags": []
   },
   "outputs": [],
   "source": [
    "# Add columns (for convenience)\n",
    "test_df = test_ds.to_pandas()\n",
    "test_df[\"text\"] = test_df[\"title\"] + \" \" + test_df[\"description\"]\n",
    "test_df[\"prediction\"] = test_df.index.map(lambda i: preprocessor.index_to_class[y_pred[i]])\n",
    "test_df.head()"
   ]
  },
  {
   "cell_type": "markdown",
   "metadata": {
    "id": "TiXcls5JoNA8"
   },
   "source": [
    "### Coarse-grained metrics"
   ]
  },
  {
   "cell_type": "code",
   "execution_count": null,
   "metadata": {
    "colab": {
     "base_uri": "https://localhost:8080/"
    },
    "id": "h2OQtNODrh6c",
    "outputId": "4c15bd9d-3465-4476-f02a-282aaaae0a91",
    "tags": []
   },
   "outputs": [],
   "source": [
    "# Overall metrics\n",
    "overall_metrics = precision_recall_fscore_support(y_test, y_pred, average=\"weighted\")\n",
    "metrics[\"overall\"][\"precision\"] = overall_metrics[0]\n",
    "metrics[\"overall\"][\"recall\"] = overall_metrics[1]\n",
    "metrics[\"overall\"][\"f1\"] = overall_metrics[2]\n",
    "metrics[\"overall\"][\"num_samples\"] = np.float64(len(y_test))\n",
    "print (json.dumps(metrics[\"overall\"], indent=4))"
   ]
  },
  {
   "cell_type": "markdown",
   "metadata": {
    "id": "zl3xSuXRutKG"
   },
   "source": [
    "### Fine-grained metrics"
   ]
  },
  {
   "cell_type": "code",
   "execution_count": null,
   "metadata": {
    "id": "jqetm3ybN9C1",
    "tags": []
   },
   "outputs": [],
   "source": [
    "from collections import OrderedDict"
   ]
  },
  {
   "cell_type": "code",
   "execution_count": null,
   "metadata": {
    "id": "1zIAI4mwusoX",
    "tags": []
   },
   "outputs": [],
   "source": [
    "# Per-class metrics\n",
    "class_metrics = precision_recall_fscore_support(y_test, y_pred, average=None)\n",
    "for i, _class in enumerate(preprocessor.class_to_index):\n",
    "    metrics[\"class\"][_class] = {\n",
    "        \"precision\": class_metrics[0][i],\n",
    "        \"recall\": class_metrics[1][i],\n",
    "        \"f1\": class_metrics[2][i],\n",
    "        \"num_samples\": np.float64(class_metrics[3][i]),\n",
    "    }"
   ]
  },
  {
   "cell_type": "code",
   "execution_count": null,
   "metadata": {
    "colab": {
     "base_uri": "https://localhost:8080/"
    },
    "id": "Rhh-tgpP0dvj",
    "outputId": "1de2a5eb-b9fb-4d23-d890-39f7310e868c",
    "tags": []
   },
   "outputs": [],
   "source": [
    "# Metrics for a specific class\n",
    "tag = \"natural-language-processing\"\n",
    "print (json.dumps(metrics[\"class\"][tag], indent=2))"
   ]
  },
  {
   "cell_type": "code",
   "execution_count": null,
   "metadata": {
    "colab": {
     "base_uri": "https://localhost:8080/"
    },
    "id": "vQVA6G-j__t5",
    "outputId": "960e8f1e-21e9-4bc7-f284-ae4800c77913",
    "tags": []
   },
   "outputs": [],
   "source": [
    "# Sorted tags\n",
    "sorted_tags_by_f1 = OrderedDict(sorted(\n",
    "        metrics[\"class\"].items(), key=lambda tag: tag[1][\"f1\"], reverse=True))\n",
    "for item in sorted_tags_by_f1.items():\n",
    "    print (json.dumps(item, indent=2))"
   ]
  },
  {
   "cell_type": "markdown",
   "metadata": {
    "id": "f-juex26zvBF"
   },
   "source": [
    "### Confusion matrix"
   ]
  },
  {
   "cell_type": "markdown",
   "metadata": {
    "id": "xPUao0S4k99c"
   },
   "source": [
    "- **True positives (TP)**: learn about where our model performs well.\n",
    "- **False positives (FP)**: potentially identify samples which may need to be relabeled.\n",
    "- False negatives (FN): identify the model's less performant areas to oversample later.\n",
    "\n",
    "> It's a good to have our FP/FN samples feed back into our annotation pipelines in the event we want to fix their labels and have those changes be reflected everywhere."
   ]
  },
  {
   "cell_type": "code",
   "execution_count": null,
   "metadata": {
    "id": "ZG2SgsPAzukL",
    "tags": []
   },
   "outputs": [],
   "source": [
    "# TP, FP, FN samples\n",
    "tag = \"natural-language-processing\"\n",
    "index = preprocessor.class_to_index[tag]\n",
    "tp, fp, fn = [], [], []\n",
    "for i, true in enumerate(y_test):\n",
    "    pred = y_pred[i]\n",
    "    if index==true==pred:\n",
    "        tp.append(i)\n",
    "    elif index!=true and index==pred:\n",
    "        fp.append(i)\n",
    "    elif index==true and index!=pred:\n",
    "        fn.append(i)"
   ]
  },
  {
   "cell_type": "code",
   "execution_count": null,
   "metadata": {
    "colab": {
     "base_uri": "https://localhost:8080/"
    },
    "id": "ePrxeVkG0mmO",
    "outputId": "c13e3881-e527-4a2a-b1dd-ef15187425ab",
    "tags": []
   },
   "outputs": [],
   "source": [
    "print (tp)\n",
    "print (fp)\n",
    "print (fn)"
   ]
  },
  {
   "cell_type": "code",
   "execution_count": null,
   "metadata": {
    "tags": []
   },
   "outputs": [],
   "source": [
    "# Samples\n",
    "num_samples = 3\n",
    "cm = [(tp, \"True positives\"), (fp, \"False positives\"), (fn, \"False negatives\")]\n",
    "for item in cm:\n",
    "    if len(item[0]):\n",
    "        print (f\"\\n=== {item[1]} ===\")\n",
    "        for index in item[0][:num_samples]:\n",
    "            print (f\"{test_df.iloc[index].text}\")\n",
    "            print (f\"    true: {test_df.tag[index]}\")\n",
    "            print (f\"    pred: {test_df.prediction[index]}\\n\")"
   ]
  },
  {
   "cell_type": "markdown",
   "metadata": {
    "id": "6S5LZdP2Myjh"
   },
   "source": [
    "### Confidence learning"
   ]
  },
  {
   "cell_type": "markdown",
   "metadata": {
    "id": "ZW5nY_h-M08p"
   },
   "source": [
    "While the confusion-matrix sample analysis was a coarse-grained process, we can also use fine-grained confidence based approaches to identify potentially mislabeled samples. Here we’re going to focus on the specific labeling quality as opposed to the final model predictions.\n",
    "\n",
    "Simple confidence based techniques include identifying samples whose:\n",
    "\n",
    "**Categorical**\n",
    "- prediction is incorrect (also indicate TN, FP, FN)\n",
    "- confidence score for the correct class is below a threshold\n",
    "- confidence score for an incorrect class is above a threshold\n",
    "- standard deviation of confidence scores over top N samples is low\n",
    "- different predictions from same model using different parameters\n",
    "\n",
    "**Continuous**\n",
    "- difference between predicted and ground-truth values is above some %\n",
    "\n"
   ]
  },
  {
   "cell_type": "markdown",
   "metadata": {
    "id": "OuN8xKFZlo2t"
   },
   "source": [
    "> The operations in this section can be applied to entire labeled dataset to discover labeling errors via confidence learning."
   ]
  },
  {
   "cell_type": "code",
   "execution_count": null,
   "metadata": {
    "id": "3FCrRUb2GANr",
    "tags": []
   },
   "outputs": [],
   "source": [
    "# Tag to inspect\n",
    "tag = \"natural-language-processing\"\n",
    "index = class_to_index[tag]\n",
    "indices = np.where(y_test==index)[0]"
   ]
  },
  {
   "cell_type": "code",
   "execution_count": null,
   "metadata": {
    "id": "sKQxFU0iU-w-",
    "tags": []
   },
   "outputs": [],
   "source": [
    "# Confidence score for the correct class is below a threshold\n",
    "low_confidence = []\n",
    "min_threshold = 0.5\n",
    "for i in indices:\n",
    "    prob = y_prob[i][index]\n",
    "    if prob <= 0.5:\n",
    "        low_confidence.append({\n",
    "            \"text\": f\"{test_df.iloc[i].text}\",\n",
    "            \"true\": test_df.tag[i], \n",
    "            \"pred\": test_df.prediction[i], \n",
    "            \"prob\": prob})"
   ]
  },
  {
   "cell_type": "code",
   "execution_count": null,
   "metadata": {
    "colab": {
     "base_uri": "https://localhost:8080/"
    },
    "id": "7DnkXhXFFMv_",
    "outputId": "c93cd01b-8ad1-4e63-8254-79f885534ffb",
    "tags": []
   },
   "outputs": [],
   "source": [
    "low_confidence[0:3]"
   ]
  },
  {
   "cell_type": "markdown",
   "metadata": {
    "id": "JwL1ltdiUjH2"
   },
   "source": [
    "But these are fairly crude techniques because neural networks are easily [overconfident](https://arxiv.org/abs/1706.04599) and so their confidences cannot be used without calibrating them. \n",
    "\n",
    "<div class=\"ai-center-all\">\n",
    "    <img src=\"https://madewithml.com/static/images/mlops/evaluation/calibration.png\" width=\"300\" alt=\"accuracy vs. confidence\">\n",
    "</div>\n",
    "<div class=\"ai-center-all mt-1\">\n",
    "  <small>Modern (large) neural networks result in higher accuracies but are over confident.<br><a href=\"https://arxiv.org/abs/1706.04599\" target=\"_blank\">On Calibration of Modern Neural Networks</a></small>\n",
    "</div>\n",
    "\n",
    "* **Assumption**: *“the probability associated with the predicted class label should reflect its ground truth correctness likelihood.”*\n",
    "* **Reality**: *“modern (large) neural networks are no longer well-calibrated”*\n",
    "* **Solution**: apply temperature scaling (extension of [Platt scaling](https://en.wikipedia.org/wiki/Platt_scaling){:target=\"_blank\"}) on model outputs\n",
    "\n",
    "Recent work on [confident learning](https://arxiv.org/abs/1911.00068) focuses on identifying noisy labels while accounting for this overconfidence which can then be properly relabeled and used for training."
   ]
  },
  {
   "cell_type": "code",
   "execution_count": null,
   "metadata": {
    "id": "XX3cORGPPXXM",
    "tags": []
   },
   "outputs": [],
   "source": [
    "import cleanlab\n",
    "from cleanlab.filter import find_label_issues"
   ]
  },
  {
   "cell_type": "code",
   "execution_count": null,
   "metadata": {
    "tags": []
   },
   "outputs": [],
   "source": [
    "# Find label issues\n",
    "label_issues = find_label_issues(labels=y_test, pred_probs=y_prob, return_indices_ranked_by=\"self_confidence\")\n",
    "test_df.iloc[label_issues].drop(columns=[\"text\"]).head()"
   ]
  },
  {
   "cell_type": "markdown",
   "metadata": {
    "id": "UtXjpKf9FU4C"
   },
   "source": [
    "Not all of these are necessarily labeling errors but situations where the predicted probabilities were not so confident. Therefore, it will be useful to attach the predictions alongside the data. This way, we can know if we need to relabel, upsample, etc. to improve our performance. Analysis like this could also shed light on the task itself. For example, you may notice that some projects involve multiple data modalities and so it's difficult to just assing one tag. So perhaps it might be better to make this taks a multilabel classification task instead (it does but we simplified it for this course)."
   ]
  },
  {
   "cell_type": "markdown",
   "metadata": {
    "id": "dvS3UpusXP_R"
   },
   "source": [
    "### Slice metrics"
   ]
  },
  {
   "cell_type": "markdown",
   "metadata": {
    "id": "eeWWMG38Ny4U"
   },
   "source": [
    "Just inspecting the overall and class metrics isn't enough to deploy our new version to production. There may be key slices of our dataset that we need to do really well on:\n",
    "\n",
    "- Target / predicted classes (+ combinations)\n",
    "- Features (explicit and implicit)\n",
    "- Metadata (timestamps, sources, etc.)\n",
    "- Priority slices / experience (minority groups, large customers, etc.)\n",
    "\n",
    "An easy way to create and evaluate slices is to define slicing functions."
   ]
  },
  {
   "cell_type": "code",
   "execution_count": null,
   "metadata": {
    "id": "ZyueOtQsXdGm",
    "tags": []
   },
   "outputs": [],
   "source": [
    "from snorkel.slicing import PandasSFApplier\n",
    "from snorkel.slicing import slice_dataframe\n",
    "from snorkel.slicing import slicing_function"
   ]
  },
  {
   "cell_type": "code",
   "execution_count": null,
   "metadata": {
    "id": "coutP2KtXdLG",
    "tags": []
   },
   "outputs": [],
   "source": [
    "@slicing_function()\n",
    "def nlp_llm(x):\n",
    "    \"\"\"NLP projects that use LLMs.\"\"\"\n",
    "    nlp_project = \"natural-language-processing\" in x.tag\n",
    "    llm_terms = [\"transformer\", \"llm\", \"bert\"]\n",
    "    llm_project = any(s.lower() in x.text.lower() for s in llm_terms)\n",
    "    return (nlp_project and llm_project)"
   ]
  },
  {
   "cell_type": "code",
   "execution_count": null,
   "metadata": {
    "id": "PbxmLvi-D7lq",
    "tags": []
   },
   "outputs": [],
   "source": [
    "@slicing_function()\n",
    "def short_text(x):\n",
    "    \"\"\"Projects with short titles and descriptions.\"\"\"\n",
    "    return len(x.text.split()) < 8  # less than 8 words"
   ]
  },
  {
   "cell_type": "markdown",
   "metadata": {
    "id": "2Vxg5X9OD-Ax"
   },
   "source": [
    "Here we're using Snorkel's [`slicing_function`](https://snorkel.readthedocs.io/en/latest/packages/_autosummary/slicing/snorkel.slicing.slicing_function.html) to create our different slices. We can visualize our slices by applying this slicing function to a relevant DataFrame using [`slice_dataframe`](https://snorkel.readthedocs.io/en/latest/packages/_autosummary/slicing/snorkel.slicing.slice_dataframe.html)."
   ]
  },
  {
   "cell_type": "code",
   "execution_count": null,
   "metadata": {
    "colab": {
     "base_uri": "https://localhost:8080/",
     "height": 98
    },
    "id": "VRs93KeBMthW",
    "outputId": "b58e5925-7b89-4925-8afc-2f1eaa9b91db",
    "tags": []
   },
   "outputs": [],
   "source": [
    "nlp_llm_df = slice_dataframe(test_df, nlp_llm)\n",
    "nlp_llm_df[[\"text\", \"tag\"]].head()"
   ]
  },
  {
   "cell_type": "code",
   "execution_count": null,
   "metadata": {
    "colab": {
     "base_uri": "https://localhost:8080/",
     "height": 224
    },
    "id": "B7jmdmNaXuA2",
    "outputId": "84b59a83-9e58-44f1-f5c4-98e1a31507ea",
    "tags": []
   },
   "outputs": [],
   "source": [
    "short_text_df = slice_dataframe(test_df, short_text)\n",
    "short_text_df[[\"text\", \"tag\"]].head()"
   ]
  },
  {
   "cell_type": "markdown",
   "metadata": {
    "id": "kZuDZwTNO93Q"
   },
   "source": [
    "We can define even more slicing functions and create a slices record array using the [`PandasSFApplier`](https://snorkel.readthedocs.io/en/latest/packages/_autosummary/slicing/snorkel.slicing.PandasSFApplier.html). The slices array has N (# of data points) items and each item has S (# of slicing functions) items, indicating whether that data point is part of that slice. Think of this record array as a masking layer for each slicing function on our data."
   ]
  },
  {
   "cell_type": "code",
   "execution_count": null,
   "metadata": {
    "colab": {
     "base_uri": "https://localhost:8080/"
    },
    "id": "mQG8PFovXfEm",
    "outputId": "22f16ecb-ed18-4502-e734-7fe73041d597",
    "tags": []
   },
   "outputs": [],
   "source": [
    "# Slices\n",
    "slicing_functions = [nlp_llm, short_text]\n",
    "applier = PandasSFApplier(slicing_functions)\n",
    "slices = applier.apply(test_df)\n",
    "slices"
   ]
  },
  {
   "cell_type": "markdown",
   "metadata": {
    "id": "QAWPU-f-GIOD"
   },
   "source": [
    "To calculate metrics for our slices, we could use [snorkel.analysis.Scorer](https://snorkel.readthedocs.io/en/latest/packages/_autosummary/analysis/snorkel.analysis.Scorer.html) but we've implemented a version that will work for multiclass or multilabel scenarios."
   ]
  },
  {
   "cell_type": "code",
   "execution_count": null,
   "metadata": {
    "id": "GqkwQenBXfIa",
    "tags": []
   },
   "outputs": [],
   "source": [
    "# Score slices\n",
    "metrics[\"slices\"] = {}\n",
    "for slice_name in slices.dtype.names:\n",
    "    mask = slices[slice_name].astype(bool)\n",
    "    if sum(mask):  \n",
    "        slice_metrics = precision_recall_fscore_support(\n",
    "            y_test[mask], y_pred[mask], average=\"micro\"\n",
    "        )\n",
    "        metrics[\"slices\"][slice_name] = {}\n",
    "        metrics[\"slices\"][slice_name][\"precision\"] = slice_metrics[0]\n",
    "        metrics[\"slices\"][slice_name][\"recall\"] = slice_metrics[1]\n",
    "        metrics[\"slices\"][slice_name][\"f1\"] = slice_metrics[2]\n",
    "        metrics[\"slices\"][slice_name][\"num_samples\"] = len(y_test[mask])"
   ]
  },
  {
   "cell_type": "code",
   "execution_count": null,
   "metadata": {
    "colab": {
     "base_uri": "https://localhost:8080/"
    },
    "id": "QapvZ3bgX3J6",
    "outputId": "38dcc4d9-8d90-4edb-a218-c6228d9c22c4",
    "tags": []
   },
   "outputs": [],
   "source": [
    "print(json.dumps(metrics[\"slices\"], indent=2))"
   ]
  },
  {
   "cell_type": "markdown",
   "metadata": {
    "id": "AmEOEHFEMyI1"
   },
   "source": [
    "Slicing can help identify sources of *bias* in our data. For example, our model has most likely learned to associated algorithms with certain applications such as CNNs used for computer vision or transformers used for NLP projects. However, these algorithms are not being applied beyond their initial use cases. We’d need ensure that our model learns to focus on the application over algorithm. This could be learned with:\n",
    "\n",
    "- enough data (new or oversampling incorrect predictions)\n",
    "- masking the algorithm (using text matching heuristics)."
   ]
  },
  {
   "cell_type": "markdown",
   "metadata": {
    "id": "TuCLIa2c9YEY"
   },
   "source": [
    "### Interpretability"
   ]
  },
  {
   "cell_type": "markdown",
   "metadata": {
    "id": "4v0CxdbqLCvd"
   },
   "source": [
    "Besides just comparing predicted outputs with ground truth values, we can also inspect the inputs to our models. What aspects of the input are more influential towards the prediction? If the focus is not on the relevant features of our input, then we need to explore if there is a hidden pattern we're missing or if our model has learned to overfit on the incorrect features. We can use techniques such as [SHAP](https://github.com/slundberg/shap) (SHapley Additive exPlanations) or [LIME](https://github.com/marcotcr/lime) (Local Interpretable Model-agnostic Explanations) to inspect feature importance. On a high level, these techniques learn which features have the most signal by assessing the performance in their absence. These inspections can be performed on a global level (ex. per-class) or on a local level (ex. single prediction)."
   ]
  },
  {
   "cell_type": "code",
   "execution_count": null,
   "metadata": {
    "id": "aW6CPXnPC61M",
    "tags": []
   },
   "outputs": [],
   "source": [
    "from lime.lime_text import LimeTextExplainer\n",
    "from sklearn.pipeline import make_pipeline"
   ]
  },
  {
   "cell_type": "markdown",
   "metadata": {
    "id": "ndrizK-DLRSA"
   },
   "source": [
    "[`LimeTextExplainer.explain_instance`](https://lime-ml.readthedocs.io/en/latest/lime.html#lime.lime_text.LimeTextExplainer.explain_instance) function requires a `classifier_fn` that takes in a list of strings and outputs the predicted probabilities."
   ]
  },
  {
   "cell_type": "code",
   "execution_count": null,
   "metadata": {
    "id": "5dYPTovdL6QX",
    "tags": []
   },
   "outputs": [],
   "source": [
    "def classifier_fn(texts):\n",
    "    df = pd.DataFrame({\"title\": texts, \"description\": \"\", \"tag\": \"other\"})\n",
    "    z = predictor.predict(data=df)[\"predictions\"]\n",
    "    y_prob = torch.tensor(np.stack(z)).softmax(dim=1).numpy()\n",
    "    return y_prob"
   ]
  },
  {
   "cell_type": "code",
   "execution_count": null,
   "metadata": {
    "colab": {
     "base_uri": "https://localhost:8080/",
     "height": 273
    },
    "id": "r1tR1lyJC68X",
    "outputId": "4f229f39-f90a-4a05-d4b1-04dcab505b53",
    "tags": []
   },
   "outputs": [],
   "source": [
    "# Explain instance\n",
    "text = \"Using pretrained convolutional neural networks for object detection.\"\n",
    "explainer = LimeTextExplainer(class_names=list(class_to_index.keys()))\n",
    "explainer.explain_instance(text, classifier_fn=classifier_fn, top_labels=1).show_in_notebook(text=True)"
   ]
  },
  {
   "cell_type": "markdown",
   "metadata": {
    "id": "5Pkm_pH847x1"
   },
   "source": [
    "### Behavioral testing"
   ]
  },
  {
   "cell_type": "code",
   "execution_count": null,
   "metadata": {
    "colab": {
     "base_uri": "https://localhost:8080/"
    },
    "id": "NUsd9Z8347x1",
    "outputId": "b909da29-5227-4649-edd7-c4d696d1db88",
    "tags": []
   },
   "outputs": [],
   "source": [
    "# INVariance via verb injection (changes should not affect outputs)\n",
    "tokens = [\"revolutionized\", \"disrupted\"]\n",
    "texts = [f\"Transformers applied to NLP have {token} the ML field.\" for token in tokens]\n",
    "[preprocessor.index_to_class[y_prob.argmax()] for y_prob in classifier_fn(texts=texts)]"
   ]
  },
  {
   "cell_type": "code",
   "execution_count": null,
   "metadata": {
    "colab": {
     "base_uri": "https://localhost:8080/"
    },
    "id": "7VLqZDYr47x2",
    "outputId": "eade6d4d-d90d-42a2-cd09-19835fb3595f",
    "tags": []
   },
   "outputs": [],
   "source": [
    "# DIRectional expectations (changes with known outputs)\n",
    "tokens = [\"text classification\", \"image classification\"]\n",
    "texts = [f\"ML applied to {token}.\" for token in tokens]\n",
    "[preprocessor.index_to_class[y_prob.argmax()] for y_prob in classifier_fn(texts=texts)]"
   ]
  },
  {
   "cell_type": "code",
   "execution_count": null,
   "metadata": {
    "colab": {
     "base_uri": "https://localhost:8080/"
    },
    "id": "OW57njXQ47x2",
    "outputId": "b0fd3a50-308e-4864-f38c-5e737b268312",
    "tags": []
   },
   "outputs": [],
   "source": [
    "# Minimum Functionality Tests (simple input/output pairs)\n",
    "tokens = [\"natural language processing\", \"mlops\"]\n",
    "texts = [f\"{token} is the next big wave in machine learning.\" for token in tokens]\n",
    "[preprocessor.index_to_class[y_prob.argmax()] for y_prob in classifier_fn(texts=texts)]"
   ]
  },
  {
   "cell_type": "markdown",
   "metadata": {
    "id": "OkBxFVAA47x2"
   },
   "source": [
    "We'll learn how to systematically create tests in our [testing lesson](https://madewithml.com/courses/mlops/testing#behavioral-testing). Be sure to also checkout the [evaluation lesson](https://madewithml.com/courses/mlops/evaluation) where we cover more ways to evaluate our model, including generating slices, counterfactuals and more."
   ]
  },
  {
   "cell_type": "markdown",
   "metadata": {},
   "source": [
    "# 🚀&nbsp; Serving "
   ]
  },
  {
   "cell_type": "markdown",
   "metadata": {
    "tags": []
   },
   "source": [
    "### Batch inference (offline)"
   ]
  },
  {
   "cell_type": "code",
   "execution_count": null,
   "metadata": {
    "tags": []
   },
   "outputs": [],
   "source": [
    "import ray.data\n",
    "from ray.train.torch import TorchPredictor\n",
    "from ray.data import ActorPoolStrategy"
   ]
  },
  {
   "cell_type": "code",
   "execution_count": null,
   "metadata": {
    "tags": []
   },
   "outputs": [],
   "source": [
    "# Load predictor\n",
    "run_id = sorted_runs.iloc[0].run_id\n",
    "best_checkpoint = get_best_checkpoint(run_id=run_id)"
   ]
  },
  {
   "cell_type": "code",
   "execution_count": null,
   "metadata": {
    "tags": []
   },
   "outputs": [],
   "source": [
    "class Predictor:\n",
    "    def __init__(self, checkpoint):\n",
    "        self.predictor = TorchPredictor.from_checkpoint(checkpoint)\n",
    "    def __call__(self, batch):\n",
    "        z = self.predictor.predict(batch)[\"predictions\"]\n",
    "        y_pred = np.stack(z).argmax(1)\n",
    "        prediction = decode(y_pred, preprocessor.index_to_class)\n",
    "        return {\"prediction\": prediction}"
   ]
  },
  {
   "cell_type": "code",
   "execution_count": null,
   "metadata": {
    "tags": []
   },
   "outputs": [],
   "source": [
    "# Batch predict\n",
    "predictions = test_ds.map_batches(\n",
    "    Predictor,\n",
    "    batch_size=128, \n",
    "    compute=ActorPoolStrategy(min_size=1, max_size=2),\n",
    "    batch_format=\"pandas\",\n",
    "    fn_constructor_kwargs={\"checkpoint\": best_checkpoint})"
   ]
  },
  {
   "cell_type": "code",
   "execution_count": null,
   "metadata": {
    "tags": []
   },
   "outputs": [],
   "source": [
    "# Sample predictions\n",
    "predictions.take(3) "
   ]
  },
  {
   "cell_type": "markdown",
   "metadata": {},
   "source": [
    "### Online inference (real-time)"
   ]
  },
  {
   "cell_type": "markdown",
   "metadata": {},
   "source": [
    "While we can achieve batch inference at scale, many models will need to be served in an real-time manner where we may need to deliver predictions for many incoming requests (high throughput) with low latency."
   ]
  },
  {
   "cell_type": "code",
   "execution_count": null,
   "metadata": {
    "tags": []
   },
   "outputs": [],
   "source": [
    "from fastapi import FastAPI\n",
    "from ray import serve\n",
    "import requests\n",
    "from starlette.requests import Request"
   ]
  },
  {
   "cell_type": "code",
   "execution_count": null,
   "metadata": {
    "tags": []
   },
   "outputs": [],
   "source": [
    "# Define application\n",
    "app = FastAPI(\n",
    "    title=\"Made With ML\", \n",
    "    description=\"Classify machine learning projects.\", \n",
    "    version=\"0.1\")"
   ]
  },
  {
   "cell_type": "markdown",
   "metadata": {},
   "source": [
    "We'll start by defining our FastAPI application which involves initializing a predictor (and preprocessor) from the best checkpoint for a particular run (specified by `run_id`). We'll also define a `predict` function that will be used to make predictions on our input data."
   ]
  },
  {
   "cell_type": "code",
   "execution_count": null,
   "metadata": {
    "tags": []
   },
   "outputs": [],
   "source": [
    "@serve.deployment(route_prefix=\"/\", num_replicas=\"1\", ray_actor_options={\"num_cpus\": 8, \"num_gpus\": 0})\n",
    "@serve.ingress(app)\n",
    "class ModelDeployment:\n",
    "    \n",
    "    def __init__(self, run_id):\n",
    "        \"\"\"Initialize the model.\"\"\"\n",
    "        self.run_id = run_id\n",
    "        mlflow.set_tracking_uri(MLFLOW_TRACKING_URI)  # so workers have access to model registry\n",
    "        best_checkpoint = get_best_checkpoint(run_id=run_id)\n",
    "        self.predictor = TorchPredictor.from_checkpoint(best_checkpoint)\n",
    "        self.preprocessor = self.predictor.get_preprocessor()\n",
    "\n",
    "    @app.post(\"/predict/\")\n",
    "    async def _predict(self, request: Request):\n",
    "        data = await request.json()\n",
    "        df = pd.DataFrame([{\"title\": data.get(\"title\", \"\"), \"description\": data.get(\"description\", \"\"), \"tag\": \"\"}])\n",
    "        results = predict_with_proba(df=df, predictor=self.predictor)\n",
    "        return {\"results\": results}"
   ]
  },
  {
   "cell_type": "markdown",
   "metadata": {},
   "source": [
    "> `async def` refers to an asynchronous function (when we call the function we don't have to wait for the function to complete executing). The `await` keyword is used inside an asynchronous function to wait for the completion of the `request.json()` operation."
   ]
  },
  {
   "cell_type": "code",
   "execution_count": null,
   "metadata": {
    "tags": []
   },
   "outputs": [],
   "source": [
    "# Run service\n",
    "sorted_runs = mlflow.search_runs(experiment_names=[experiment_name], order_by=[\"metrics.val_loss ASC\"])\n",
    "run_id = sorted_runs.iloc[0].run_id\n",
    "serve.run(ModelDeployment.bind(run_id=run_id))"
   ]
  },
  {
   "cell_type": "code",
   "execution_count": null,
   "metadata": {
    "tags": []
   },
   "outputs": [],
   "source": [
    "# Query\n",
    "title = \"Transfer learning with transformers\"\n",
    "description = \"Using transformers for transfer learning on text classification tasks.\"\n",
    "json_data = json.dumps({\"title\": title, \"description\": description})\n",
    "requests.post(\"http://127.0.0.1:8000/predict/\", data=json_data).json()"
   ]
  },
  {
   "cell_type": "markdown",
   "metadata": {},
   "source": [
    "The issue with neural networks (and especially LLMs) is that they are notoriously overconfident. For every input, they will always make some prediction. And to account for this, we have an `other` class but that class only has projects that are not in our accepted tags but are still machine learning related nonetheless. Here's what happens when we input complete noise as our input:"
   ]
  },
  {
   "cell_type": "code",
   "execution_count": null,
   "metadata": {
    "tags": []
   },
   "outputs": [],
   "source": [
    "# Query (noise)\n",
    "title = \" 65n7r5675\"  # random noise\n",
    "json_data = json.dumps({\"title\": title, \"description\": \"\"})\n",
    "requests.post(\"http://127.0.0.1:8000/predict/\", data=json_data).json()"
   ]
  },
  {
   "cell_type": "code",
   "execution_count": null,
   "metadata": {
    "tags": []
   },
   "outputs": [],
   "source": [
    "# Shutdown\n",
    "serve.shutdown()"
   ]
  },
  {
   "cell_type": "markdown",
   "metadata": {},
   "source": [
    "### Custom logic"
   ]
  },
  {
   "cell_type": "markdown",
   "metadata": {},
   "source": [
    "To make our service a bit more robust, let's add some custom logic to predict the `other` class if the probability of the predicted class is below a certain `threshold` probability."
   ]
  },
  {
   "cell_type": "code",
   "execution_count": null,
   "metadata": {
    "tags": []
   },
   "outputs": [],
   "source": [
    "@serve.deployment(route_prefix=\"/\", num_replicas=\"1\", ray_actor_options={\"num_cpus\": 8, \"num_gpus\": 0})\n",
    "@serve.ingress(app)\n",
    "class ModelDeploymentRobust:\n",
    "    \n",
    "    def __init__(self, run_id, threshold=0.9):\n",
    "        \"\"\"Initialize the model.\"\"\"\n",
    "        self.run_id = run_id\n",
    "        self.threshold = threshold\n",
    "        mlflow.set_tracking_uri(MLFLOW_TRACKING_URI)  # so workers have access to model registry\n",
    "        best_checkpoint = get_best_checkpoint(run_id=run_id)\n",
    "        self.predictor = TorchPredictor.from_checkpoint(best_checkpoint)\n",
    "        self.preprocessor = self.predictor.get_preprocessor()\n",
    "\n",
    "    @app.post(\"/predict/\")\n",
    "    async def _predict(self, request: Request):\n",
    "        data = await request.json()\n",
    "        df = pd.DataFrame([{\"title\": data.get(\"title\", \"\"), \"description\": data.get(\"description\", \"\"), \"tag\": \"\"}])\n",
    "        results = predict_with_proba(df=df, predictor=self.predictor)\n",
    "\n",
    "        # Apply custom logic\n",
    "        for i, result in enumerate(results):\n",
    "            pred = result[\"prediction\"]\n",
    "            prob = result[\"probabilities\"]\n",
    "            if prob[pred] < self.threshold:\n",
    "                results[i][\"prediction\"] = \"other\"\n",
    "\n",
    "        return {\"results\": results}"
   ]
  },
  {
   "cell_type": "code",
   "execution_count": null,
   "metadata": {
    "tags": []
   },
   "outputs": [],
   "source": [
    "# Run service\n",
    "serve.run(ModelDeploymentRobust.bind(run_id=run_id, threshold=0.9))"
   ]
  },
  {
   "cell_type": "code",
   "execution_count": null,
   "metadata": {
    "tags": []
   },
   "outputs": [],
   "source": [
    "# Query (noise)\n",
    "title = \" 65n7r5675\"  # random noise\n",
    "json_data = json.dumps({\"title\": title, \"description\": \"\"})\n",
    "requests.post(\"http://127.0.0.1:8000/predict/\", data=json_data).json()"
   ]
  },
  {
   "cell_type": "code",
   "execution_count": null,
   "metadata": {
    "tags": []
   },
   "outputs": [],
   "source": [
    "# Shutdown\n",
    "serve.shutdown()"
   ]
  },
  {
   "cell_type": "markdown",
   "metadata": {},
   "source": [
    "---"
   ]
  },
  {
   "cell_type": "code",
   "execution_count": null,
   "metadata": {
    "id": "uRLNj0C747x_",
    "tags": []
   },
   "outputs": [],
   "source": [
    "# Clean up\n",
    "!rm -rf ~/ray_results\n",
    "!rm -rf $MODEL_REGISTRY"
   ]
  }
 ],
 "metadata": {
  "accelerator": "GPU",
  "colab": {
   "provenance": [],
   "toc_visible": true
  },
  "gpuClass": "standard",
  "kernelspec": {
   "display_name": "Python 3 (ipykernel)",
   "language": "python",
   "name": "python3"
  },
  "language_info": {
   "codemirror_mode": {
    "name": "ipython",
    "version": 3
   },
   "file_extension": ".py",
   "mimetype": "text/x-python",
   "name": "python",
   "nbconvert_exporter": "python",
   "pygments_lexer": "ipython3",
   "version": "3.10.12"
  },
  "toc-autonumbering": false,
  "toc-showcode": false,
  "toc-showmarkdowntxt": false,
  "toc-showtags": true,
  "vscode": {
   "interpreter": {
    "hash": "8071f8c6175eca3e18fb18842fbea041b655e67ca9cf317ca1066c8b060a000c"
   }
  },
  "widgets": {
   "application/vnd.jupyter.widget-state+json": {
    "00b6bb6473124fbf95cbe3c9b3baa455": {
     "model_module": "@jupyter-widgets/controls",
     "model_module_version": "1.5.0",
     "model_name": "IntSliderModel",
     "state": {
      "_dom_classes": [],
      "_model_module": "@jupyter-widgets/controls",
      "_model_module_version": "1.5.0",
      "_model_name": "IntSliderModel",
      "_view_count": null,
      "_view_module": "@jupyter-widgets/controls",
      "_view_module_version": "1.5.0",
      "_view_name": "IntSliderView",
      "continuous_update": true,
      "description": "min_freq",
      "description_tooltip": null,
      "disabled": false,
      "layout": "IPY_MODEL_a12d66d6747f4e9f99e0a06dc83a2c52",
      "max": 388,
      "min": 0,
      "orientation": "horizontal",
      "readout": true,
      "readout_format": "d",
      "step": 1,
      "style": "IPY_MODEL_a23177628b624969855185844d6e2648",
      "value": 75
     }
    },
    "0668507328804600a511d7667b8f1796": {
     "model_module": "@jupyter-widgets/output",
     "model_module_version": "1.0.0",
     "model_name": "OutputModel",
     "state": {
      "_dom_classes": [],
      "_model_module": "@jupyter-widgets/output",
      "_model_module_version": "1.0.0",
      "_model_name": "OutputModel",
      "_view_count": null,
      "_view_module": "@jupyter-widgets/output",
      "_view_module_version": "1.0.0",
      "_view_name": "OutputView",
      "layout": "IPY_MODEL_d9d89c0ae6704406a43a3d160b5cf83a",
      "msg_id": "",
      "outputs": [
       {
        "name": "stdout",
        "output_type": "stream",
        "text": [
         "{\n",
         "  \"precision\": 0.7058823529411765,\n",
         "  \"recall\": 1.0,\n",
         "  \"f1\": 0.8275862068965517,\n",
         "  \"num_samples\": 12.0\n",
         "}\n",
         "\n",
         "=== True positives ===\n",
         "  pytest pytest framework makes easy write small tests yet scales support complex functional testing\n",
         "    true: mlops\n",
         "    pred: mlops\n",
         "\n",
         "  test machine learning code systems minimal examples testing machine learning correct implementation expected learned behaviour model performance\n",
         "    true: mlops\n",
         "    pred: mlops\n",
         "\n",
         "  hidden technical debt machine learning systems using software engineering framework technical debt find common incur massive ongoing maintenance costs real world ml systems\n",
         "    true: mlops\n",
         "    pred: mlops\n",
         "\n",
         "\n",
         "=== False positives ===\n",
         "  machine learning methods explained examples common techniques used data science projects get know easy understand examples put practice ml projects\n",
         "    true: other\n",
         "    pred: mlops\n",
         "\n",
         "  five cool python libraries data science python best friend majority data scientists libraries make life simpler come across five cool python libraries working\n",
         "    true: natural-language-processing\n",
         "    pred: mlops\n",
         "\n",
         "  practical tips tricks successful transfer learning training models learn knowledge skills related tasks transfer boost performance tasks interest\n",
         "    true: natural-language-processing\n",
         "    pred: mlops\n",
         "\n"
        ]
       }
      ]
     }
    },
    "3c27428cf61540b9bb41c1b178e28f84": {
     "model_module": "@jupyter-widgets/controls",
     "model_module_version": "1.5.0",
     "model_name": "VBoxModel",
     "state": {
      "_dom_classes": [
       "widget-interact"
      ],
      "_model_module": "@jupyter-widgets/controls",
      "_model_module_version": "1.5.0",
      "_model_name": "VBoxModel",
      "_view_count": null,
      "_view_module": "@jupyter-widgets/controls",
      "_view_module_version": "1.5.0",
      "_view_name": "VBoxView",
      "box_style": "",
      "children": [
       "IPY_MODEL_00b6bb6473124fbf95cbe3c9b3baa455",
       "IPY_MODEL_6f38988c04464d7b978ef7b2467fdeb2"
      ],
      "layout": "IPY_MODEL_50ed661b382a4c8693b96c223d92fb17"
     }
    },
    "430cdc93d426476e8d1c361e9a8f0928": {
     "model_module": "@jupyter-widgets/base",
     "model_module_version": "1.2.0",
     "model_name": "LayoutModel",
     "state": {
      "_model_module": "@jupyter-widgets/base",
      "_model_module_version": "1.2.0",
      "_model_name": "LayoutModel",
      "_view_count": null,
      "_view_module": "@jupyter-widgets/base",
      "_view_module_version": "1.2.0",
      "_view_name": "LayoutView",
      "align_content": null,
      "align_items": null,
      "align_self": null,
      "border": null,
      "bottom": null,
      "display": null,
      "flex": null,
      "flex_flow": null,
      "grid_area": null,
      "grid_auto_columns": null,
      "grid_auto_flow": null,
      "grid_auto_rows": null,
      "grid_column": null,
      "grid_gap": null,
      "grid_row": null,
      "grid_template_areas": null,
      "grid_template_columns": null,
      "grid_template_rows": null,
      "height": null,
      "justify_content": null,
      "justify_items": null,
      "left": null,
      "margin": null,
      "max_height": null,
      "max_width": null,
      "min_height": null,
      "min_width": null,
      "object_fit": null,
      "object_position": null,
      "order": null,
      "overflow": null,
      "overflow_x": null,
      "overflow_y": null,
      "padding": null,
      "right": null,
      "top": null,
      "visibility": null,
      "width": null
     }
    },
    "450f4ebef68f4c1c9a04c65396b6fb82": {
     "model_module": "@jupyter-widgets/base",
     "model_module_version": "1.2.0",
     "model_name": "LayoutModel",
     "state": {
      "_model_module": "@jupyter-widgets/base",
      "_model_module_version": "1.2.0",
      "_model_name": "LayoutModel",
      "_view_count": null,
      "_view_module": "@jupyter-widgets/base",
      "_view_module_version": "1.2.0",
      "_view_name": "LayoutView",
      "align_content": null,
      "align_items": null,
      "align_self": null,
      "border": null,
      "bottom": null,
      "display": null,
      "flex": null,
      "flex_flow": null,
      "grid_area": null,
      "grid_auto_columns": null,
      "grid_auto_flow": null,
      "grid_auto_rows": null,
      "grid_column": null,
      "grid_gap": null,
      "grid_row": null,
      "grid_template_areas": null,
      "grid_template_columns": null,
      "grid_template_rows": null,
      "height": null,
      "justify_content": null,
      "justify_items": null,
      "left": null,
      "margin": null,
      "max_height": null,
      "max_width": null,
      "min_height": null,
      "min_width": null,
      "object_fit": null,
      "object_position": null,
      "order": null,
      "overflow": null,
      "overflow_x": null,
      "overflow_y": null,
      "padding": null,
      "right": null,
      "top": null,
      "visibility": null,
      "width": null
     }
    },
    "498fb0321ba14697865a3d7ea2714b03": {
     "model_module": "@jupyter-widgets/controls",
     "model_module_version": "1.5.0",
     "model_name": "CheckboxModel",
     "state": {
      "_dom_classes": [],
      "_model_module": "@jupyter-widgets/controls",
      "_model_module_version": "1.5.0",
      "_model_name": "CheckboxModel",
      "_view_count": null,
      "_view_module": "@jupyter-widgets/controls",
      "_view_module_version": "1.5.0",
      "_view_name": "CheckboxView",
      "description": "lower",
      "description_tooltip": null,
      "disabled": false,
      "indent": true,
      "layout": "IPY_MODEL_f7059f0b23a34a2692ec7c0826e1617b",
      "style": "IPY_MODEL_d196e549046e436d8b1de126740c57bb",
      "value": true
     }
    },
    "50ed661b382a4c8693b96c223d92fb17": {
     "model_module": "@jupyter-widgets/base",
     "model_module_version": "1.2.0",
     "model_name": "LayoutModel",
     "state": {
      "_model_module": "@jupyter-widgets/base",
      "_model_module_version": "1.2.0",
      "_model_name": "LayoutModel",
      "_view_count": null,
      "_view_module": "@jupyter-widgets/base",
      "_view_module_version": "1.2.0",
      "_view_name": "LayoutView",
      "align_content": null,
      "align_items": null,
      "align_self": null,
      "border": null,
      "bottom": null,
      "display": null,
      "flex": null,
      "flex_flow": null,
      "grid_area": null,
      "grid_auto_columns": null,
      "grid_auto_flow": null,
      "grid_auto_rows": null,
      "grid_column": null,
      "grid_gap": null,
      "grid_row": null,
      "grid_template_areas": null,
      "grid_template_columns": null,
      "grid_template_rows": null,
      "height": null,
      "justify_content": null,
      "justify_items": null,
      "left": null,
      "margin": null,
      "max_height": null,
      "max_width": null,
      "min_height": null,
      "min_width": null,
      "object_fit": null,
      "object_position": null,
      "order": null,
      "overflow": null,
      "overflow_x": null,
      "overflow_y": null,
      "padding": null,
      "right": null,
      "top": null,
      "visibility": null,
      "width": null
     }
    },
    "514d889853be4756ac2b996693ad9d54": {
     "model_module": "@jupyter-widgets/controls",
     "model_module_version": "1.5.0",
     "model_name": "VBoxModel",
     "state": {
      "_dom_classes": [
       "widget-interact"
      ],
      "_model_module": "@jupyter-widgets/controls",
      "_model_module_version": "1.5.0",
      "_model_name": "VBoxModel",
      "_view_count": null,
      "_view_module": "@jupyter-widgets/controls",
      "_view_module_version": "1.5.0",
      "_view_name": "VBoxView",
      "box_style": "",
      "children": [
       "IPY_MODEL_498fb0321ba14697865a3d7ea2714b03",
       "IPY_MODEL_cbbe9c30bd8641bfa9a4fdbc8d517e63",
       "IPY_MODEL_bdea131e25c5444a9af6a2a602a48e93"
      ],
      "layout": "IPY_MODEL_bb704b732e3b4db78ce1ed7b3ecb43e0"
     }
    },
    "53f5b6e055864bb19eadba0aa640668d": {
     "model_module": "@jupyter-widgets/base",
     "model_module_version": "1.2.0",
     "model_name": "LayoutModel",
     "state": {
      "_model_module": "@jupyter-widgets/base",
      "_model_module_version": "1.2.0",
      "_model_name": "LayoutModel",
      "_view_count": null,
      "_view_module": "@jupyter-widgets/base",
      "_view_module_version": "1.2.0",
      "_view_name": "LayoutView",
      "align_content": null,
      "align_items": null,
      "align_self": null,
      "border": null,
      "bottom": null,
      "display": null,
      "flex": null,
      "flex_flow": null,
      "grid_area": null,
      "grid_auto_columns": null,
      "grid_auto_flow": null,
      "grid_auto_rows": null,
      "grid_column": null,
      "grid_gap": null,
      "grid_row": null,
      "grid_template_areas": null,
      "grid_template_columns": null,
      "grid_template_rows": null,
      "height": null,
      "justify_content": null,
      "justify_items": null,
      "left": null,
      "margin": null,
      "max_height": null,
      "max_width": null,
      "min_height": null,
      "min_width": null,
      "object_fit": null,
      "object_position": null,
      "order": null,
      "overflow": null,
      "overflow_x": null,
      "overflow_y": null,
      "padding": null,
      "right": null,
      "top": null,
      "visibility": null,
      "width": null
     }
    },
    "6f38988c04464d7b978ef7b2467fdeb2": {
     "model_module": "@jupyter-widgets/output",
     "model_module_version": "1.0.0",
     "model_name": "OutputModel",
     "state": {
      "_dom_classes": [],
      "_model_module": "@jupyter-widgets/output",
      "_model_module_version": "1.0.0",
      "_model_name": "OutputModel",
      "_view_count": null,
      "_view_module": "@jupyter-widgets/output",
      "_view_module_version": "1.0.0",
      "_view_name": "OutputView",
      "layout": "IPY_MODEL_ff4494a494454ca5b23c93d599e5ef41",
      "msg_id": "",
      "outputs": [
       {
        "name": "stdout",
        "output_type": "stream",
        "text": [
         "Most popular tags:\n",
         " [('natural-language-processing', 388), ('computer-vision', 356), ('other', 87)]\n",
         "\n",
         "Tags that just made the cut:\n",
         " [('computer-vision', 356), ('other', 87), ('mlops', 79)]\n",
         "\n",
         "Tags that just missed the cut:\n",
         " [('graph-learning', 45)]\n"
        ]
       }
      ]
     }
    },
    "795b443fc1834645937b199e1214fcc3": {
     "model_module": "@jupyter-widgets/output",
     "model_module_version": "1.0.0",
     "model_name": "OutputModel",
     "state": {
      "_dom_classes": [],
      "_model_module": "@jupyter-widgets/output",
      "_model_module_version": "1.0.0",
      "_model_name": "OutputModel",
      "_view_count": null,
      "_view_module": "@jupyter-widgets/output",
      "_view_module_version": "1.0.0",
      "_view_name": "OutputView",
      "layout": "IPY_MODEL_8c6ffc9537344c709b47a5acea0e3075",
      "msg_id": "",
      "outputs": [
       {
        "data": {
         "image/png": "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\n",
         "text/plain": "<Figure size 1080x360 with 1 Axes>"
        },
        "metadata": {},
        "output_type": "display_data"
       }
      ]
     }
    },
    "7d1b4a63fa924fa6b136204ce1e67a42": {
     "model_module": "@jupyter-widgets/controls",
     "model_module_version": "1.5.0",
     "model_name": "DropdownModel",
     "state": {
      "_dom_classes": [],
      "_model_module": "@jupyter-widgets/controls",
      "_model_module_version": "1.5.0",
      "_model_name": "DropdownModel",
      "_options_labels": [
       "computer-vision",
       "graph-learning",
       "reinforcement-learning",
       "natural-language-processing",
       "mlops",
       "time-series"
      ],
      "_view_count": null,
      "_view_module": "@jupyter-widgets/controls",
      "_view_module_version": "1.5.0",
      "_view_name": "DropdownView",
      "description": "tag",
      "description_tooltip": null,
      "disabled": false,
      "index": 3,
      "layout": "IPY_MODEL_53f5b6e055864bb19eadba0aa640668d",
      "style": "IPY_MODEL_8a9678ac8f3e4af49c02181ce0eb6241"
     }
    },
    "8a9678ac8f3e4af49c02181ce0eb6241": {
     "model_module": "@jupyter-widgets/controls",
     "model_module_version": "1.5.0",
     "model_name": "DescriptionStyleModel",
     "state": {
      "_model_module": "@jupyter-widgets/controls",
      "_model_module_version": "1.5.0",
      "_model_name": "DescriptionStyleModel",
      "_view_count": null,
      "_view_module": "@jupyter-widgets/base",
      "_view_module_version": "1.2.0",
      "_view_name": "StyleView",
      "description_width": ""
     }
    },
    "8c6ffc9537344c709b47a5acea0e3075": {
     "model_module": "@jupyter-widgets/base",
     "model_module_version": "1.2.0",
     "model_name": "LayoutModel",
     "state": {
      "_model_module": "@jupyter-widgets/base",
      "_model_module_version": "1.2.0",
      "_model_name": "LayoutModel",
      "_view_count": null,
      "_view_module": "@jupyter-widgets/base",
      "_view_module_version": "1.2.0",
      "_view_name": "LayoutView",
      "align_content": null,
      "align_items": null,
      "align_self": null,
      "border": null,
      "bottom": null,
      "display": null,
      "flex": null,
      "flex_flow": null,
      "grid_area": null,
      "grid_auto_columns": null,
      "grid_auto_flow": null,
      "grid_auto_rows": null,
      "grid_column": null,
      "grid_gap": null,
      "grid_row": null,
      "grid_template_areas": null,
      "grid_template_columns": null,
      "grid_template_rows": null,
      "height": null,
      "justify_content": null,
      "justify_items": null,
      "left": null,
      "margin": null,
      "max_height": null,
      "max_width": null,
      "min_height": null,
      "min_width": null,
      "object_fit": null,
      "object_position": null,
      "order": null,
      "overflow": null,
      "overflow_x": null,
      "overflow_y": null,
      "padding": null,
      "right": null,
      "top": null,
      "visibility": null,
      "width": null
     }
    },
    "9219fbb6096645dfa09149c04481bcb0": {
     "model_module": "@jupyter-widgets/controls",
     "model_module_version": "1.5.0",
     "model_name": "DropdownModel",
     "state": {
      "_dom_classes": [],
      "_model_module": "@jupyter-widgets/controls",
      "_model_module_version": "1.5.0",
      "_model_name": "DropdownModel",
      "_options_labels": [
       "natural-language-processing",
       "computer-vision",
       "other",
       "mlops"
      ],
      "_view_count": null,
      "_view_module": "@jupyter-widgets/controls",
      "_view_module_version": "1.5.0",
      "_view_name": "DropdownView",
      "description": "tag",
      "description_tooltip": null,
      "disabled": false,
      "index": 3,
      "layout": "IPY_MODEL_450f4ebef68f4c1c9a04c65396b6fb82",
      "style": "IPY_MODEL_b43be8f44a7a4f73aa84da8eb992ce14"
     }
    },
    "9417439d5b384121868a998180f5a5ea": {
     "model_module": "@jupyter-widgets/base",
     "model_module_version": "1.2.0",
     "model_name": "LayoutModel",
     "state": {
      "_model_module": "@jupyter-widgets/base",
      "_model_module_version": "1.2.0",
      "_model_name": "LayoutModel",
      "_view_count": null,
      "_view_module": "@jupyter-widgets/base",
      "_view_module_version": "1.2.0",
      "_view_name": "LayoutView",
      "align_content": null,
      "align_items": null,
      "align_self": null,
      "border": null,
      "bottom": null,
      "display": null,
      "flex": null,
      "flex_flow": null,
      "grid_area": null,
      "grid_auto_columns": null,
      "grid_auto_flow": null,
      "grid_auto_rows": null,
      "grid_column": null,
      "grid_gap": null,
      "grid_row": null,
      "grid_template_areas": null,
      "grid_template_columns": null,
      "grid_template_rows": null,
      "height": null,
      "justify_content": null,
      "justify_items": null,
      "left": null,
      "margin": null,
      "max_height": null,
      "max_width": null,
      "min_height": null,
      "min_width": null,
      "object_fit": null,
      "object_position": null,
      "order": null,
      "overflow": null,
      "overflow_x": null,
      "overflow_y": null,
      "padding": null,
      "right": null,
      "top": null,
      "visibility": null,
      "width": null
     }
    },
    "96311b6f06dd43869c9363cb18cbce18": {
     "model_module": "@jupyter-widgets/base",
     "model_module_version": "1.2.0",
     "model_name": "LayoutModel",
     "state": {
      "_model_module": "@jupyter-widgets/base",
      "_model_module_version": "1.2.0",
      "_model_name": "LayoutModel",
      "_view_count": null,
      "_view_module": "@jupyter-widgets/base",
      "_view_module_version": "1.2.0",
      "_view_name": "LayoutView",
      "align_content": null,
      "align_items": null,
      "align_self": null,
      "border": null,
      "bottom": null,
      "display": null,
      "flex": null,
      "flex_flow": null,
      "grid_area": null,
      "grid_auto_columns": null,
      "grid_auto_flow": null,
      "grid_auto_rows": null,
      "grid_column": null,
      "grid_gap": null,
      "grid_row": null,
      "grid_template_areas": null,
      "grid_template_columns": null,
      "grid_template_rows": null,
      "height": null,
      "justify_content": null,
      "justify_items": null,
      "left": null,
      "margin": null,
      "max_height": null,
      "max_width": null,
      "min_height": null,
      "min_width": null,
      "object_fit": null,
      "object_position": null,
      "order": null,
      "overflow": null,
      "overflow_x": null,
      "overflow_y": null,
      "padding": null,
      "right": null,
      "top": null,
      "visibility": null,
      "width": null
     }
    },
    "a12d66d6747f4e9f99e0a06dc83a2c52": {
     "model_module": "@jupyter-widgets/base",
     "model_module_version": "1.2.0",
     "model_name": "LayoutModel",
     "state": {
      "_model_module": "@jupyter-widgets/base",
      "_model_module_version": "1.2.0",
      "_model_name": "LayoutModel",
      "_view_count": null,
      "_view_module": "@jupyter-widgets/base",
      "_view_module_version": "1.2.0",
      "_view_name": "LayoutView",
      "align_content": null,
      "align_items": null,
      "align_self": null,
      "border": null,
      "bottom": null,
      "display": null,
      "flex": null,
      "flex_flow": null,
      "grid_area": null,
      "grid_auto_columns": null,
      "grid_auto_flow": null,
      "grid_auto_rows": null,
      "grid_column": null,
      "grid_gap": null,
      "grid_row": null,
      "grid_template_areas": null,
      "grid_template_columns": null,
      "grid_template_rows": null,
      "height": null,
      "justify_content": null,
      "justify_items": null,
      "left": null,
      "margin": null,
      "max_height": null,
      "max_width": null,
      "min_height": null,
      "min_width": null,
      "object_fit": null,
      "object_position": null,
      "order": null,
      "overflow": null,
      "overflow_x": null,
      "overflow_y": null,
      "padding": null,
      "right": null,
      "top": null,
      "visibility": null,
      "width": null
     }
    },
    "a23177628b624969855185844d6e2648": {
     "model_module": "@jupyter-widgets/controls",
     "model_module_version": "1.5.0",
     "model_name": "SliderStyleModel",
     "state": {
      "_model_module": "@jupyter-widgets/controls",
      "_model_module_version": "1.5.0",
      "_model_name": "SliderStyleModel",
      "_view_count": null,
      "_view_module": "@jupyter-widgets/base",
      "_view_module_version": "1.2.0",
      "_view_name": "StyleView",
      "description_width": "",
      "handle_color": null
     }
    },
    "af9c5bab12c64dc396c28154ea13f516": {
     "model_module": "@jupyter-widgets/controls",
     "model_module_version": "1.5.0",
     "model_name": "VBoxModel",
     "state": {
      "_dom_classes": [
       "widget-interact"
      ],
      "_model_module": "@jupyter-widgets/controls",
      "_model_module_version": "1.5.0",
      "_model_name": "VBoxModel",
      "_view_count": null,
      "_view_module": "@jupyter-widgets/controls",
      "_view_module_version": "1.5.0",
      "_view_name": "VBoxView",
      "box_style": "",
      "children": [
       "IPY_MODEL_7d1b4a63fa924fa6b136204ce1e67a42",
       "IPY_MODEL_795b443fc1834645937b199e1214fcc3"
      ],
      "layout": "IPY_MODEL_ccc7456ad5484dd2b7ccdd62bbc27d0c"
     }
    },
    "b43be8f44a7a4f73aa84da8eb992ce14": {
     "model_module": "@jupyter-widgets/controls",
     "model_module_version": "1.5.0",
     "model_name": "DescriptionStyleModel",
     "state": {
      "_model_module": "@jupyter-widgets/controls",
      "_model_module_version": "1.5.0",
      "_model_name": "DescriptionStyleModel",
      "_view_count": null,
      "_view_module": "@jupyter-widgets/base",
      "_view_module_version": "1.2.0",
      "_view_name": "StyleView",
      "description_width": ""
     }
    },
    "bb704b732e3b4db78ce1ed7b3ecb43e0": {
     "model_module": "@jupyter-widgets/base",
     "model_module_version": "1.2.0",
     "model_name": "LayoutModel",
     "state": {
      "_model_module": "@jupyter-widgets/base",
      "_model_module_version": "1.2.0",
      "_model_name": "LayoutModel",
      "_view_count": null,
      "_view_module": "@jupyter-widgets/base",
      "_view_module_version": "1.2.0",
      "_view_name": "LayoutView",
      "align_content": null,
      "align_items": null,
      "align_self": null,
      "border": null,
      "bottom": null,
      "display": null,
      "flex": null,
      "flex_flow": null,
      "grid_area": null,
      "grid_auto_columns": null,
      "grid_auto_flow": null,
      "grid_auto_rows": null,
      "grid_column": null,
      "grid_gap": null,
      "grid_row": null,
      "grid_template_areas": null,
      "grid_template_columns": null,
      "grid_template_rows": null,
      "height": null,
      "justify_content": null,
      "justify_items": null,
      "left": null,
      "margin": null,
      "max_height": null,
      "max_width": null,
      "min_height": null,
      "min_width": null,
      "object_fit": null,
      "object_position": null,
      "order": null,
      "overflow": null,
      "overflow_x": null,
      "overflow_y": null,
      "padding": null,
      "right": null,
      "top": null,
      "visibility": null,
      "width": null
     }
    },
    "bdea131e25c5444a9af6a2a602a48e93": {
     "model_module": "@jupyter-widgets/output",
     "model_module_version": "1.0.0",
     "model_name": "OutputModel",
     "state": {
      "_dom_classes": [],
      "_model_module": "@jupyter-widgets/output",
      "_model_module_version": "1.0.0",
      "_model_name": "OutputModel",
      "_view_count": null,
      "_view_module": "@jupyter-widgets/output",
      "_view_module_version": "1.0.0",
      "_view_name": "OutputView",
      "layout": "IPY_MODEL_9417439d5b384121868a998180f5a5ea",
      "msg_id": "",
      "outputs": [
       {
        "name": "stdout",
        "output_type": "stream",
        "text": [
         "conditional image generation using variational autoencoders gans\n"
        ]
       }
      ]
     }
    },
    "c50ab4f050a447aeb6609bfabc57f0b3": {
     "model_module": "@jupyter-widgets/controls",
     "model_module_version": "1.5.0",
     "model_name": "VBoxModel",
     "state": {
      "_dom_classes": [
       "widget-interact"
      ],
      "_model_module": "@jupyter-widgets/controls",
      "_model_module_version": "1.5.0",
      "_model_name": "VBoxModel",
      "_view_count": null,
      "_view_module": "@jupyter-widgets/controls",
      "_view_module_version": "1.5.0",
      "_view_name": "VBoxView",
      "box_style": "",
      "children": [
       "IPY_MODEL_9219fbb6096645dfa09149c04481bcb0",
       "IPY_MODEL_0668507328804600a511d7667b8f1796"
      ],
      "layout": "IPY_MODEL_430cdc93d426476e8d1c361e9a8f0928"
     }
    },
    "cbbe9c30bd8641bfa9a4fdbc8d517e63": {
     "model_module": "@jupyter-widgets/controls",
     "model_module_version": "1.5.0",
     "model_name": "CheckboxModel",
     "state": {
      "_dom_classes": [],
      "_model_module": "@jupyter-widgets/controls",
      "_model_module_version": "1.5.0",
      "_model_name": "CheckboxModel",
      "_view_count": null,
      "_view_module": "@jupyter-widgets/controls",
      "_view_module_version": "1.5.0",
      "_view_name": "CheckboxView",
      "description": "stem",
      "description_tooltip": null,
      "disabled": false,
      "indent": true,
      "layout": "IPY_MODEL_96311b6f06dd43869c9363cb18cbce18",
      "style": "IPY_MODEL_e8eb942fd1c4449f814fb9b14606035b",
      "value": false
     }
    },
    "ccc7456ad5484dd2b7ccdd62bbc27d0c": {
     "model_module": "@jupyter-widgets/base",
     "model_module_version": "1.2.0",
     "model_name": "LayoutModel",
     "state": {
      "_model_module": "@jupyter-widgets/base",
      "_model_module_version": "1.2.0",
      "_model_name": "LayoutModel",
      "_view_count": null,
      "_view_module": "@jupyter-widgets/base",
      "_view_module_version": "1.2.0",
      "_view_name": "LayoutView",
      "align_content": null,
      "align_items": null,
      "align_self": null,
      "border": null,
      "bottom": null,
      "display": null,
      "flex": null,
      "flex_flow": null,
      "grid_area": null,
      "grid_auto_columns": null,
      "grid_auto_flow": null,
      "grid_auto_rows": null,
      "grid_column": null,
      "grid_gap": null,
      "grid_row": null,
      "grid_template_areas": null,
      "grid_template_columns": null,
      "grid_template_rows": null,
      "height": null,
      "justify_content": null,
      "justify_items": null,
      "left": null,
      "margin": null,
      "max_height": null,
      "max_width": null,
      "min_height": null,
      "min_width": null,
      "object_fit": null,
      "object_position": null,
      "order": null,
      "overflow": null,
      "overflow_x": null,
      "overflow_y": null,
      "padding": null,
      "right": null,
      "top": null,
      "visibility": null,
      "width": null
     }
    },
    "d196e549046e436d8b1de126740c57bb": {
     "model_module": "@jupyter-widgets/controls",
     "model_module_version": "1.5.0",
     "model_name": "DescriptionStyleModel",
     "state": {
      "_model_module": "@jupyter-widgets/controls",
      "_model_module_version": "1.5.0",
      "_model_name": "DescriptionStyleModel",
      "_view_count": null,
      "_view_module": "@jupyter-widgets/base",
      "_view_module_version": "1.2.0",
      "_view_name": "StyleView",
      "description_width": ""
     }
    },
    "d9d89c0ae6704406a43a3d160b5cf83a": {
     "model_module": "@jupyter-widgets/base",
     "model_module_version": "1.2.0",
     "model_name": "LayoutModel",
     "state": {
      "_model_module": "@jupyter-widgets/base",
      "_model_module_version": "1.2.0",
      "_model_name": "LayoutModel",
      "_view_count": null,
      "_view_module": "@jupyter-widgets/base",
      "_view_module_version": "1.2.0",
      "_view_name": "LayoutView",
      "align_content": null,
      "align_items": null,
      "align_self": null,
      "border": null,
      "bottom": null,
      "display": null,
      "flex": null,
      "flex_flow": null,
      "grid_area": null,
      "grid_auto_columns": null,
      "grid_auto_flow": null,
      "grid_auto_rows": null,
      "grid_column": null,
      "grid_gap": null,
      "grid_row": null,
      "grid_template_areas": null,
      "grid_template_columns": null,
      "grid_template_rows": null,
      "height": null,
      "justify_content": null,
      "justify_items": null,
      "left": null,
      "margin": null,
      "max_height": null,
      "max_width": null,
      "min_height": null,
      "min_width": null,
      "object_fit": null,
      "object_position": null,
      "order": null,
      "overflow": null,
      "overflow_x": null,
      "overflow_y": null,
      "padding": null,
      "right": null,
      "top": null,
      "visibility": null,
      "width": null
     }
    },
    "e8eb942fd1c4449f814fb9b14606035b": {
     "model_module": "@jupyter-widgets/controls",
     "model_module_version": "1.5.0",
     "model_name": "DescriptionStyleModel",
     "state": {
      "_model_module": "@jupyter-widgets/controls",
      "_model_module_version": "1.5.0",
      "_model_name": "DescriptionStyleModel",
      "_view_count": null,
      "_view_module": "@jupyter-widgets/base",
      "_view_module_version": "1.2.0",
      "_view_name": "StyleView",
      "description_width": ""
     }
    },
    "f7059f0b23a34a2692ec7c0826e1617b": {
     "model_module": "@jupyter-widgets/base",
     "model_module_version": "1.2.0",
     "model_name": "LayoutModel",
     "state": {
      "_model_module": "@jupyter-widgets/base",
      "_model_module_version": "1.2.0",
      "_model_name": "LayoutModel",
      "_view_count": null,
      "_view_module": "@jupyter-widgets/base",
      "_view_module_version": "1.2.0",
      "_view_name": "LayoutView",
      "align_content": null,
      "align_items": null,
      "align_self": null,
      "border": null,
      "bottom": null,
      "display": null,
      "flex": null,
      "flex_flow": null,
      "grid_area": null,
      "grid_auto_columns": null,
      "grid_auto_flow": null,
      "grid_auto_rows": null,
      "grid_column": null,
      "grid_gap": null,
      "grid_row": null,
      "grid_template_areas": null,
      "grid_template_columns": null,
      "grid_template_rows": null,
      "height": null,
      "justify_content": null,
      "justify_items": null,
      "left": null,
      "margin": null,
      "max_height": null,
      "max_width": null,
      "min_height": null,
      "min_width": null,
      "object_fit": null,
      "object_position": null,
      "order": null,
      "overflow": null,
      "overflow_x": null,
      "overflow_y": null,
      "padding": null,
      "right": null,
      "top": null,
      "visibility": null,
      "width": null
     }
    },
    "ff4494a494454ca5b23c93d599e5ef41": {
     "model_module": "@jupyter-widgets/base",
     "model_module_version": "1.2.0",
     "model_name": "LayoutModel",
     "state": {
      "_model_module": "@jupyter-widgets/base",
      "_model_module_version": "1.2.0",
      "_model_name": "LayoutModel",
      "_view_count": null,
      "_view_module": "@jupyter-widgets/base",
      "_view_module_version": "1.2.0",
      "_view_name": "LayoutView",
      "align_content": null,
      "align_items": null,
      "align_self": null,
      "border": null,
      "bottom": null,
      "display": null,
      "flex": null,
      "flex_flow": null,
      "grid_area": null,
      "grid_auto_columns": null,
      "grid_auto_flow": null,
      "grid_auto_rows": null,
      "grid_column": null,
      "grid_gap": null,
      "grid_row": null,
      "grid_template_areas": null,
      "grid_template_columns": null,
      "grid_template_rows": null,
      "height": null,
      "justify_content": null,
      "justify_items": null,
      "left": null,
      "margin": null,
      "max_height": null,
      "max_width": null,
      "min_height": null,
      "min_width": null,
      "object_fit": null,
      "object_position": null,
      "order": null,
      "overflow": null,
      "overflow_x": null,
      "overflow_y": null,
      "padding": null,
      "right": null,
      "top": null,
      "visibility": null,
      "width": null
     }
    }
   }
  }
 },
 "nbformat": 4,
 "nbformat_minor": 4
}
